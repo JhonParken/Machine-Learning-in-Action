{
  "nbformat": 4,
  "nbformat_minor": 0,
  "metadata": {
    "colab": {
      "name": "03 深度学习基础.ipynb",
      "version": "0.3.2",
      "provenance": [],
      "collapsed_sections": [],
      "include_colab_link": true
    },
    "kernelspec": {
      "name": "python3",
      "display_name": "Python 3"
    },
    "accelerator": "GPU"
  },
  "cells": [
    {
      "cell_type": "markdown",
      "metadata": {
        "id": "view-in-github",
        "colab_type": "text"
      },
      "source": [
        "<a href=\"https://colab.research.google.com/github/JohnParken/Machine-Learning-in-Action/blob/master/03_%E6%B7%B1%E5%BA%A6%E5%AD%A6%E4%B9%A0%E5%9F%BA%E7%A1%80.ipynb\" target=\"_parent\"><img src=\"https://colab.research.google.com/assets/colab-badge.svg\" alt=\"Open In Colab\"/></a>"
      ]
    },
    {
      "cell_type": "code",
      "metadata": {
        "id": "1Vk7k3drU9il",
        "colab_type": "code",
        "colab": {}
      },
      "source": [
        "!pip install mxnet-cu100"
      ],
      "execution_count": 0,
      "outputs": []
    },
    {
      "cell_type": "code",
      "metadata": {
        "id": "vI4K1T8pVL0V",
        "colab_type": "code",
        "colab": {}
      },
      "source": [
        "from mxnet import nd\n",
        "from time import time"
      ],
      "execution_count": 0,
      "outputs": []
    },
    {
      "cell_type": "code",
      "metadata": {
        "id": "J2h1RtHKVs8y",
        "colab_type": "code",
        "colab": {}
      },
      "source": [
        "a = nd.ones(shape=1024)\n",
        "b = nd.ones(shape=1024)"
      ],
      "execution_count": 0,
      "outputs": []
    },
    {
      "cell_type": "code",
      "metadata": {
        "id": "SUXgLDZ84R4w",
        "colab_type": "code",
        "outputId": "c6be090e-0118-443e-c93f-86dc75f2bd36",
        "colab": {
          "base_uri": "https://localhost:8080/",
          "height": 34
        }
      },
      "source": [
        "start = time()\n",
        "c = nd.zeros(shape=1024)\n",
        "for i in range(1024):\n",
        "  c = a[i] + b[i]\n",
        "time()-start"
      ],
      "execution_count": 47,
      "outputs": [
        {
          "output_type": "execute_result",
          "data": {
            "text/plain": [
              "0.05917501449584961"
            ]
          },
          "metadata": {
            "tags": []
          },
          "execution_count": 47
        }
      ]
    },
    {
      "cell_type": "code",
      "metadata": {
        "id": "f7Wy8hKF4fsO",
        "colab_type": "code",
        "outputId": "908ec443-33fa-4df5-9483-380774ea405a",
        "colab": {
          "base_uri": "https://localhost:8080/",
          "height": 34
        }
      },
      "source": [
        "start = time()\n",
        "d = a + b\n",
        "time() - start"
      ],
      "execution_count": 48,
      "outputs": [
        {
          "output_type": "execute_result",
          "data": {
            "text/plain": [
              "0.00014138221740722656"
            ]
          },
          "metadata": {
            "tags": []
          },
          "execution_count": 48
        }
      ]
    },
    {
      "cell_type": "markdown",
      "metadata": {
        "id": "Td30zay65QtA",
        "colab_type": "text"
      },
      "source": [
        "### 3.2 线性回归从零开始实现"
      ]
    },
    {
      "cell_type": "code",
      "metadata": {
        "id": "lIIQpwdy4qxi",
        "colab_type": "code",
        "colab": {}
      },
      "source": [
        "%matplotlib inline\n",
        "from IPython import display\n",
        "from matplotlib import pyplot as plt\n",
        "from mxnet import autograd, nd\n",
        "import random"
      ],
      "execution_count": 0,
      "outputs": []
    },
    {
      "cell_type": "markdown",
      "metadata": {
        "id": "Bgdq-VNt6mS0",
        "colab_type": "text"
      },
      "source": [
        "#### 3.21 生成数据集"
      ]
    },
    {
      "cell_type": "code",
      "metadata": {
        "id": "UAvE5I7J6NnX",
        "colab_type": "code",
        "colab": {}
      },
      "source": [
        "num_inputs = 2\n",
        "num_examples = 1000\n",
        "true_w = [2,-3.4]\n",
        "true_b = 4.2\n",
        "features = nd.random.normal(scale=1, shape=(num_examples,num_inputs))\n",
        "labels = true_w[0] * features[:,0] + true_w[1] * features[:,1] + true_b\n",
        "labels += nd.random.normal(scale=0.01,shape=labels.shape)"
      ],
      "execution_count": 0,
      "outputs": []
    },
    {
      "cell_type": "code",
      "metadata": {
        "id": "r7aj7oGJ88Ok",
        "colab_type": "code",
        "outputId": "7140d17c-a6d1-4308-f9eb-a04447136a99",
        "colab": {
          "base_uri": "https://localhost:8080/",
          "height": 102
        }
      },
      "source": [
        "features[0],labels[0]"
      ],
      "execution_count": 51,
      "outputs": [
        {
          "output_type": "execute_result",
          "data": {
            "text/plain": [
              "(\n",
              " [-0.6440222  -0.45909745]\n",
              " <NDArray 2 @cpu(0)>, \n",
              " [4.455175]\n",
              " <NDArray 1 @cpu(0)>)"
            ]
          },
          "metadata": {
            "tags": []
          },
          "execution_count": 51
        }
      ]
    },
    {
      "cell_type": "code",
      "metadata": {
        "id": "H1olSn9i9DGt",
        "colab_type": "code",
        "outputId": "a78ea7fa-ae93-4674-b83d-60bb50247ab6",
        "colab": {
          "base_uri": "https://localhost:8080/",
          "height": 265
        }
      },
      "source": [
        "def use_svg_display():\n",
        "  # 用矢量图显示\n",
        "  display.set_matplotlib_formats('svg')\n",
        "  \n",
        "def set_figsize(figsize=(3.5, 2.5)):\n",
        "  use_svg_display()\n",
        "  # 设置图的尺寸\n",
        "  plt.rcParams['figure.figsize'] = figsize\n",
        "    \n",
        "set_figsize()\n",
        "plt.scatter(features[:,1].asnumpy(),labels.asnumpy(),1)"
      ],
      "execution_count": 52,
      "outputs": [
        {
          "output_type": "execute_result",
          "data": {
            "text/plain": [
              "<matplotlib.collections.PathCollection at 0x7f2fcf72e978>"
            ]
          },
          "metadata": {
            "tags": []
          },
          "execution_count": 52
        },
        {
          "output_type": "display_data",
          "data": {
            "text/plain": [
              "<Figure size 252x180 with 1 Axes>"
            ],
            "image/svg+xml": "<?xml version=\"1.0\" encoding=\"utf-8\" standalone=\"no\"?>\n<!DOCTYPE svg PUBLIC \"-//W3C//DTD SVG 1.1//EN\"\n  \"http://www.w3.org/Graphics/SVG/1.1/DTD/svg11.dtd\">\n<!-- Created with matplotlib (https://matplotlib.org/) -->\n<svg height=\"170.478125pt\" version=\"1.1\" viewBox=\"0 0 234.942188 170.478125\" width=\"234.942188pt\" xmlns=\"http://www.w3.org/2000/svg\" xmlns:xlink=\"http://www.w3.org/1999/xlink\">\n <defs>\n  <style type=\"text/css\">\n*{stroke-linecap:butt;stroke-linejoin:round;}\n  </style>\n </defs>\n <g id=\"figure_1\">\n  <g id=\"patch_1\">\n   <path d=\"M 0 170.478125 \nL 234.942188 170.478125 \nL 234.942188 0 \nL 0 0 \nz\n\" style=\"fill:none;\"/>\n  </g>\n  <g id=\"axes_1\">\n   <g id=\"patch_2\">\n    <path d=\"M 28.942188 146.6 \nL 224.242188 146.6 \nL 224.242188 10.7 \nL 28.942188 10.7 \nz\n\" style=\"fill:#ffffff;\"/>\n   </g>\n   <g id=\"PathCollection_1\">\n    <defs>\n     <path d=\"M 0 0.5 \nC 0.132602 0.5 0.25979 0.447317 0.353553 0.353553 \nC 0.447317 0.25979 0.5 0.132602 0.5 0 \nC 0.5 -0.132602 0.447317 -0.25979 0.353553 -0.353553 \nC 0.25979 -0.447317 0.132602 -0.5 0 -0.5 \nC -0.132602 -0.5 -0.25979 -0.447317 -0.353553 -0.353553 \nC -0.447317 -0.25979 -0.5 -0.132602 -0.5 0 \nC -0.5 0.132602 -0.447317 0.25979 -0.353553 0.353553 \nC -0.25979 0.447317 -0.132602 0.5 0 0.5 \nz\n\" id=\"mb40d34d8e6\" style=\"stroke:#1f77b4;\"/>\n    </defs>\n    <g clip-path=\"url(#p56ef591cff)\">\n     <use style=\"fill:#1f77b4;stroke:#1f77b4;\" x=\"109.324039\" xlink:href=\"#mb40d34d8e6\" y=\"72.817156\"/>\n     <use style=\"fill:#1f77b4;stroke:#1f77b4;\" x=\"119.288678\" xlink:href=\"#mb40d34d8e6\" y=\"66.619501\"/>\n     <use style=\"fill:#1f77b4;stroke:#1f77b4;\" x=\"124.324193\" xlink:href=\"#mb40d34d8e6\" y=\"83.98211\"/>\n     <use style=\"fill:#1f77b4;stroke:#1f77b4;\" x=\"104.027152\" xlink:href=\"#mb40d34d8e6\" y=\"50.907399\"/>\n     <use style=\"fill:#1f77b4;stroke:#1f77b4;\" x=\"144.943307\" xlink:href=\"#mb40d34d8e6\" y=\"104.379271\"/>\n     <use style=\"fill:#1f77b4;stroke:#1f77b4;\" x=\"157.965046\" xlink:href=\"#mb40d34d8e6\" y=\"93.493045\"/>\n     <use style=\"fill:#1f77b4;stroke:#1f77b4;\" x=\"65.01297\" xlink:href=\"#mb40d34d8e6\" y=\"47.375196\"/>\n     <use style=\"fill:#1f77b4;stroke:#1f77b4;\" x=\"124.343534\" xlink:href=\"#mb40d34d8e6\" y=\"76.784874\"/>\n     <use style=\"fill:#1f77b4;stroke:#1f77b4;\" x=\"109.259038\" xlink:href=\"#mb40d34d8e6\" y=\"57.395418\"/>\n     <use style=\"fill:#1f77b4;stroke:#1f77b4;\" x=\"125.637997\" xlink:href=\"#mb40d34d8e6\" y=\"85.093427\"/>\n     <use style=\"fill:#1f77b4;stroke:#1f77b4;\" x=\"91.305458\" xlink:href=\"#mb40d34d8e6\" y=\"30.047883\"/>\n     <use style=\"fill:#1f77b4;stroke:#1f77b4;\" x=\"154.301226\" xlink:href=\"#mb40d34d8e6\" y=\"84.612932\"/>\n     <use style=\"fill:#1f77b4;stroke:#1f77b4;\" x=\"137.187751\" xlink:href=\"#mb40d34d8e6\" y=\"84.498503\"/>\n     <use style=\"fill:#1f77b4;stroke:#1f77b4;\" x=\"140.512802\" xlink:href=\"#mb40d34d8e6\" y=\"62.672557\"/>\n     <use style=\"fill:#1f77b4;stroke:#1f77b4;\" x=\"96.216295\" xlink:href=\"#mb40d34d8e6\" y=\"56.514292\"/>\n     <use style=\"fill:#1f77b4;stroke:#1f77b4;\" x=\"135.496394\" xlink:href=\"#mb40d34d8e6\" y=\"80.711307\"/>\n     <use style=\"fill:#1f77b4;stroke:#1f77b4;\" x=\"97.316598\" xlink:href=\"#mb40d34d8e6\" y=\"61.559524\"/>\n     <use style=\"fill:#1f77b4;stroke:#1f77b4;\" x=\"86.479019\" xlink:href=\"#mb40d34d8e6\" y=\"65.198624\"/>\n     <use style=\"fill:#1f77b4;stroke:#1f77b4;\" x=\"133.695308\" xlink:href=\"#mb40d34d8e6\" y=\"100.915946\"/>\n     <use style=\"fill:#1f77b4;stroke:#1f77b4;\" x=\"203.300011\" xlink:href=\"#mb40d34d8e6\" y=\"118.367256\"/>\n     <use style=\"fill:#1f77b4;stroke:#1f77b4;\" x=\"144.170519\" xlink:href=\"#mb40d34d8e6\" y=\"93.884444\"/>\n     <use style=\"fill:#1f77b4;stroke:#1f77b4;\" x=\"74.724385\" xlink:href=\"#mb40d34d8e6\" y=\"52.261923\"/>\n     <use style=\"fill:#1f77b4;stroke:#1f77b4;\" x=\"127.042281\" xlink:href=\"#mb40d34d8e6\" y=\"101.357181\"/>\n     <use style=\"fill:#1f77b4;stroke:#1f77b4;\" x=\"141.863075\" xlink:href=\"#mb40d34d8e6\" y=\"69.959635\"/>\n     <use style=\"fill:#1f77b4;stroke:#1f77b4;\" x=\"134.102163\" xlink:href=\"#mb40d34d8e6\" y=\"75.454464\"/>\n     <use style=\"fill:#1f77b4;stroke:#1f77b4;\" x=\"114.473893\" xlink:href=\"#mb40d34d8e6\" y=\"67.051811\"/>\n     <use style=\"fill:#1f77b4;stroke:#1f77b4;\" x=\"109.723591\" xlink:href=\"#mb40d34d8e6\" y=\"70.53026\"/>\n     <use style=\"fill:#1f77b4;stroke:#1f77b4;\" x=\"98.751251\" xlink:href=\"#mb40d34d8e6\" y=\"73.000645\"/>\n     <use style=\"fill:#1f77b4;stroke:#1f77b4;\" x=\"103.253183\" xlink:href=\"#mb40d34d8e6\" y=\"62.899031\"/>\n     <use style=\"fill:#1f77b4;stroke:#1f77b4;\" x=\"143.027825\" xlink:href=\"#mb40d34d8e6\" y=\"76.266104\"/>\n     <use style=\"fill:#1f77b4;stroke:#1f77b4;\" x=\"133.172793\" xlink:href=\"#mb40d34d8e6\" y=\"69.458858\"/>\n     <use style=\"fill:#1f77b4;stroke:#1f77b4;\" x=\"119.881595\" xlink:href=\"#mb40d34d8e6\" y=\"80.790521\"/>\n     <use style=\"fill:#1f77b4;stroke:#1f77b4;\" x=\"169.099836\" xlink:href=\"#mb40d34d8e6\" y=\"98.42989\"/>\n     <use style=\"fill:#1f77b4;stroke:#1f77b4;\" x=\"84.883585\" xlink:href=\"#mb40d34d8e6\" y=\"67.573338\"/>\n     <use style=\"fill:#1f77b4;stroke:#1f77b4;\" x=\"74.029588\" xlink:href=\"#mb40d34d8e6\" y=\"56.162907\"/>\n     <use style=\"fill:#1f77b4;stroke:#1f77b4;\" x=\"119.09751\" xlink:href=\"#mb40d34d8e6\" y=\"77.87641\"/>\n     <use style=\"fill:#1f77b4;stroke:#1f77b4;\" x=\"106.230168\" xlink:href=\"#mb40d34d8e6\" y=\"67.330165\"/>\n     <use style=\"fill:#1f77b4;stroke:#1f77b4;\" x=\"177.035121\" xlink:href=\"#mb40d34d8e6\" y=\"82.508154\"/>\n     <use style=\"fill:#1f77b4;stroke:#1f77b4;\" x=\"61.622531\" xlink:href=\"#mb40d34d8e6\" y=\"37.532863\"/>\n     <use style=\"fill:#1f77b4;stroke:#1f77b4;\" x=\"113.314498\" xlink:href=\"#mb40d34d8e6\" y=\"70.97941\"/>\n     <use style=\"fill:#1f77b4;stroke:#1f77b4;\" x=\"127.305035\" xlink:href=\"#mb40d34d8e6\" y=\"79.751106\"/>\n     <use style=\"fill:#1f77b4;stroke:#1f77b4;\" x=\"120.598956\" xlink:href=\"#mb40d34d8e6\" y=\"82.848192\"/>\n     <use style=\"fill:#1f77b4;stroke:#1f77b4;\" x=\"120.182236\" xlink:href=\"#mb40d34d8e6\" y=\"74.319045\"/>\n     <use style=\"fill:#1f77b4;stroke:#1f77b4;\" x=\"76.22284\" xlink:href=\"#mb40d34d8e6\" y=\"55.967406\"/>\n     <use style=\"fill:#1f77b4;stroke:#1f77b4;\" x=\"113.851064\" xlink:href=\"#mb40d34d8e6\" y=\"74.937483\"/>\n     <use style=\"fill:#1f77b4;stroke:#1f77b4;\" x=\"158.250308\" xlink:href=\"#mb40d34d8e6\" y=\"118.315984\"/>\n     <use style=\"fill:#1f77b4;stroke:#1f77b4;\" x=\"98.372691\" xlink:href=\"#mb40d34d8e6\" y=\"63.177077\"/>\n     <use style=\"fill:#1f77b4;stroke:#1f77b4;\" x=\"142.340312\" xlink:href=\"#mb40d34d8e6\" y=\"100.114499\"/>\n     <use style=\"fill:#1f77b4;stroke:#1f77b4;\" x=\"160.54263\" xlink:href=\"#mb40d34d8e6\" y=\"86.890256\"/>\n     <use style=\"fill:#1f77b4;stroke:#1f77b4;\" x=\"92.590692\" xlink:href=\"#mb40d34d8e6\" y=\"47.163753\"/>\n     <use style=\"fill:#1f77b4;stroke:#1f77b4;\" x=\"84.479079\" xlink:href=\"#mb40d34d8e6\" y=\"75.69739\"/>\n     <use style=\"fill:#1f77b4;stroke:#1f77b4;\" x=\"102.739827\" xlink:href=\"#mb40d34d8e6\" y=\"62.650167\"/>\n     <use style=\"fill:#1f77b4;stroke:#1f77b4;\" x=\"124.278614\" xlink:href=\"#mb40d34d8e6\" y=\"65.406443\"/>\n     <use style=\"fill:#1f77b4;stroke:#1f77b4;\" x=\"164.209211\" xlink:href=\"#mb40d34d8e6\" y=\"82.788503\"/>\n     <use style=\"fill:#1f77b4;stroke:#1f77b4;\" x=\"174.548179\" xlink:href=\"#mb40d34d8e6\" y=\"98.48732\"/>\n     <use style=\"fill:#1f77b4;stroke:#1f77b4;\" x=\"128.37759\" xlink:href=\"#mb40d34d8e6\" y=\"64.941993\"/>\n     <use style=\"fill:#1f77b4;stroke:#1f77b4;\" x=\"145.054466\" xlink:href=\"#mb40d34d8e6\" y=\"91.241158\"/>\n     <use style=\"fill:#1f77b4;stroke:#1f77b4;\" x=\"130.576088\" xlink:href=\"#mb40d34d8e6\" y=\"76.397796\"/>\n     <use style=\"fill:#1f77b4;stroke:#1f77b4;\" x=\"130.954034\" xlink:href=\"#mb40d34d8e6\" y=\"65.199116\"/>\n     <use style=\"fill:#1f77b4;stroke:#1f77b4;\" x=\"131.136673\" xlink:href=\"#mb40d34d8e6\" y=\"78.765787\"/>\n     <use style=\"fill:#1f77b4;stroke:#1f77b4;\" x=\"69.012062\" xlink:href=\"#mb40d34d8e6\" y=\"24.37036\"/>\n     <use style=\"fill:#1f77b4;stroke:#1f77b4;\" x=\"186.256629\" xlink:href=\"#mb40d34d8e6\" y=\"94.227661\"/>\n     <use style=\"fill:#1f77b4;stroke:#1f77b4;\" x=\"129.260272\" xlink:href=\"#mb40d34d8e6\" y=\"75.526416\"/>\n     <use style=\"fill:#1f77b4;stroke:#1f77b4;\" x=\"74.244437\" xlink:href=\"#mb40d34d8e6\" y=\"40.390012\"/>\n     <use style=\"fill:#1f77b4;stroke:#1f77b4;\" x=\"163.418938\" xlink:href=\"#mb40d34d8e6\" y=\"105.050363\"/>\n     <use style=\"fill:#1f77b4;stroke:#1f77b4;\" x=\"147.54116\" xlink:href=\"#mb40d34d8e6\" y=\"85.136302\"/>\n     <use style=\"fill:#1f77b4;stroke:#1f77b4;\" x=\"100.13398\" xlink:href=\"#mb40d34d8e6\" y=\"52.583744\"/>\n     <use style=\"fill:#1f77b4;stroke:#1f77b4;\" x=\"126.074542\" xlink:href=\"#mb40d34d8e6\" y=\"89.566902\"/>\n     <use style=\"fill:#1f77b4;stroke:#1f77b4;\" x=\"104.29707\" xlink:href=\"#mb40d34d8e6\" y=\"52.754952\"/>\n     <use style=\"fill:#1f77b4;stroke:#1f77b4;\" x=\"129.974342\" xlink:href=\"#mb40d34d8e6\" y=\"77.036146\"/>\n     <use style=\"fill:#1f77b4;stroke:#1f77b4;\" x=\"98.542916\" xlink:href=\"#mb40d34d8e6\" y=\"60.373814\"/>\n     <use style=\"fill:#1f77b4;stroke:#1f77b4;\" x=\"127.48096\" xlink:href=\"#mb40d34d8e6\" y=\"76.452912\"/>\n     <use style=\"fill:#1f77b4;stroke:#1f77b4;\" x=\"109.214856\" xlink:href=\"#mb40d34d8e6\" y=\"68.085425\"/>\n     <use style=\"fill:#1f77b4;stroke:#1f77b4;\" x=\"104.681237\" xlink:href=\"#mb40d34d8e6\" y=\"59.427521\"/>\n     <use style=\"fill:#1f77b4;stroke:#1f77b4;\" x=\"117.929232\" xlink:href=\"#mb40d34d8e6\" y=\"88.170451\"/>\n     <use style=\"fill:#1f77b4;stroke:#1f77b4;\" x=\"118.119567\" xlink:href=\"#mb40d34d8e6\" y=\"74.584265\"/>\n     <use style=\"fill:#1f77b4;stroke:#1f77b4;\" x=\"152.005441\" xlink:href=\"#mb40d34d8e6\" y=\"67.736216\"/>\n     <use style=\"fill:#1f77b4;stroke:#1f77b4;\" x=\"88.58243\" xlink:href=\"#mb40d34d8e6\" y=\"45.300883\"/>\n     <use style=\"fill:#1f77b4;stroke:#1f77b4;\" x=\"120.714546\" xlink:href=\"#mb40d34d8e6\" y=\"78.008682\"/>\n     <use style=\"fill:#1f77b4;stroke:#1f77b4;\" x=\"188.698891\" xlink:href=\"#mb40d34d8e6\" y=\"117.185315\"/>\n     <use style=\"fill:#1f77b4;stroke:#1f77b4;\" x=\"114.317825\" xlink:href=\"#mb40d34d8e6\" y=\"79.479063\"/>\n     <use style=\"fill:#1f77b4;stroke:#1f77b4;\" x=\"144.648192\" xlink:href=\"#mb40d34d8e6\" y=\"84.254881\"/>\n     <use style=\"fill:#1f77b4;stroke:#1f77b4;\" x=\"74.287438\" xlink:href=\"#mb40d34d8e6\" y=\"45.452632\"/>\n     <use style=\"fill:#1f77b4;stroke:#1f77b4;\" x=\"147.872247\" xlink:href=\"#mb40d34d8e6\" y=\"92.654762\"/>\n     <use style=\"fill:#1f77b4;stroke:#1f77b4;\" x=\"91.764002\" xlink:href=\"#mb40d34d8e6\" y=\"52.80574\"/>\n     <use style=\"fill:#1f77b4;stroke:#1f77b4;\" x=\"175.126939\" xlink:href=\"#mb40d34d8e6\" y=\"117.52172\"/>\n     <use style=\"fill:#1f77b4;stroke:#1f77b4;\" x=\"138.958512\" xlink:href=\"#mb40d34d8e6\" y=\"83.958202\"/>\n     <use style=\"fill:#1f77b4;stroke:#1f77b4;\" x=\"99.012109\" xlink:href=\"#mb40d34d8e6\" y=\"66.335307\"/>\n     <use style=\"fill:#1f77b4;stroke:#1f77b4;\" x=\"181.607887\" xlink:href=\"#mb40d34d8e6\" y=\"92.531533\"/>\n     <use style=\"fill:#1f77b4;stroke:#1f77b4;\" x=\"161.298093\" xlink:href=\"#mb40d34d8e6\" y=\"88.948975\"/>\n     <use style=\"fill:#1f77b4;stroke:#1f77b4;\" x=\"54.523425\" xlink:href=\"#mb40d34d8e6\" y=\"20.313169\"/>\n     <use style=\"fill:#1f77b4;stroke:#1f77b4;\" x=\"99.285826\" xlink:href=\"#mb40d34d8e6\" y=\"52.316656\"/>\n     <use style=\"fill:#1f77b4;stroke:#1f77b4;\" x=\"92.654348\" xlink:href=\"#mb40d34d8e6\" y=\"58.527541\"/>\n     <use style=\"fill:#1f77b4;stroke:#1f77b4;\" x=\"102.004455\" xlink:href=\"#mb40d34d8e6\" y=\"44.099274\"/>\n     <use style=\"fill:#1f77b4;stroke:#1f77b4;\" x=\"139.12921\" xlink:href=\"#mb40d34d8e6\" y=\"90.573804\"/>\n     <use style=\"fill:#1f77b4;stroke:#1f77b4;\" x=\"153.341778\" xlink:href=\"#mb40d34d8e6\" y=\"99.7625\"/>\n     <use style=\"fill:#1f77b4;stroke:#1f77b4;\" x=\"112.32191\" xlink:href=\"#mb40d34d8e6\" y=\"64.79798\"/>\n     <use style=\"fill:#1f77b4;stroke:#1f77b4;\" x=\"195.830197\" xlink:href=\"#mb40d34d8e6\" y=\"105.015414\"/>\n     <use style=\"fill:#1f77b4;stroke:#1f77b4;\" x=\"133.447292\" xlink:href=\"#mb40d34d8e6\" y=\"78.231296\"/>\n     <use style=\"fill:#1f77b4;stroke:#1f77b4;\" x=\"121.447434\" xlink:href=\"#mb40d34d8e6\" y=\"79.372405\"/>\n     <use style=\"fill:#1f77b4;stroke:#1f77b4;\" x=\"125.798905\" xlink:href=\"#mb40d34d8e6\" y=\"71.084943\"/>\n     <use style=\"fill:#1f77b4;stroke:#1f77b4;\" x=\"99.546218\" xlink:href=\"#mb40d34d8e6\" y=\"62.23487\"/>\n     <use style=\"fill:#1f77b4;stroke:#1f77b4;\" x=\"129.091729\" xlink:href=\"#mb40d34d8e6\" y=\"83.444853\"/>\n     <use style=\"fill:#1f77b4;stroke:#1f77b4;\" x=\"121.177768\" xlink:href=\"#mb40d34d8e6\" y=\"80.578627\"/>\n     <use style=\"fill:#1f77b4;stroke:#1f77b4;\" x=\"185.660909\" xlink:href=\"#mb40d34d8e6\" y=\"103.991746\"/>\n     <use style=\"fill:#1f77b4;stroke:#1f77b4;\" x=\"160.302348\" xlink:href=\"#mb40d34d8e6\" y=\"90.969475\"/>\n     <use style=\"fill:#1f77b4;stroke:#1f77b4;\" x=\"78.443718\" xlink:href=\"#mb40d34d8e6\" y=\"72.868175\"/>\n     <use style=\"fill:#1f77b4;stroke:#1f77b4;\" x=\"175.096495\" xlink:href=\"#mb40d34d8e6\" y=\"106.826386\"/>\n     <use style=\"fill:#1f77b4;stroke:#1f77b4;\" x=\"159.84188\" xlink:href=\"#mb40d34d8e6\" y=\"99.296857\"/>\n     <use style=\"fill:#1f77b4;stroke:#1f77b4;\" x=\"140.86034\" xlink:href=\"#mb40d34d8e6\" y=\"85.168147\"/>\n     <use style=\"fill:#1f77b4;stroke:#1f77b4;\" x=\"119.561113\" xlink:href=\"#mb40d34d8e6\" y=\"64.235201\"/>\n     <use style=\"fill:#1f77b4;stroke:#1f77b4;\" x=\"184.473498\" xlink:href=\"#mb40d34d8e6\" y=\"129.296416\"/>\n     <use style=\"fill:#1f77b4;stroke:#1f77b4;\" x=\"69.53927\" xlink:href=\"#mb40d34d8e6\" y=\"49.498282\"/>\n     <use style=\"fill:#1f77b4;stroke:#1f77b4;\" x=\"142.235545\" xlink:href=\"#mb40d34d8e6\" y=\"75.210233\"/>\n     <use style=\"fill:#1f77b4;stroke:#1f77b4;\" x=\"159.745815\" xlink:href=\"#mb40d34d8e6\" y=\"91.07126\"/>\n     <use style=\"fill:#1f77b4;stroke:#1f77b4;\" x=\"103.416484\" xlink:href=\"#mb40d34d8e6\" y=\"58.224952\"/>\n     <use style=\"fill:#1f77b4;stroke:#1f77b4;\" x=\"93.511823\" xlink:href=\"#mb40d34d8e6\" y=\"65.052294\"/>\n     <use style=\"fill:#1f77b4;stroke:#1f77b4;\" x=\"137.32466\" xlink:href=\"#mb40d34d8e6\" y=\"83.915292\"/>\n     <use style=\"fill:#1f77b4;stroke:#1f77b4;\" x=\"128.326935\" xlink:href=\"#mb40d34d8e6\" y=\"76.979658\"/>\n     <use style=\"fill:#1f77b4;stroke:#1f77b4;\" x=\"115.61446\" xlink:href=\"#mb40d34d8e6\" y=\"74.176294\"/>\n     <use style=\"fill:#1f77b4;stroke:#1f77b4;\" x=\"135.794463\" xlink:href=\"#mb40d34d8e6\" y=\"70.159879\"/>\n     <use style=\"fill:#1f77b4;stroke:#1f77b4;\" x=\"84.345695\" xlink:href=\"#mb40d34d8e6\" y=\"53.509785\"/>\n     <use style=\"fill:#1f77b4;stroke:#1f77b4;\" x=\"49.395186\" xlink:href=\"#mb40d34d8e6\" y=\"39.04305\"/>\n     <use style=\"fill:#1f77b4;stroke:#1f77b4;\" x=\"96.39604\" xlink:href=\"#mb40d34d8e6\" y=\"65.226003\"/>\n     <use style=\"fill:#1f77b4;stroke:#1f77b4;\" x=\"149.608726\" xlink:href=\"#mb40d34d8e6\" y=\"90.472812\"/>\n     <use style=\"fill:#1f77b4;stroke:#1f77b4;\" x=\"127.346856\" xlink:href=\"#mb40d34d8e6\" y=\"80.453262\"/>\n     <use style=\"fill:#1f77b4;stroke:#1f77b4;\" x=\"128.516634\" xlink:href=\"#mb40d34d8e6\" y=\"71.276894\"/>\n     <use style=\"fill:#1f77b4;stroke:#1f77b4;\" x=\"108.537467\" xlink:href=\"#mb40d34d8e6\" y=\"68.560041\"/>\n     <use style=\"fill:#1f77b4;stroke:#1f77b4;\" x=\"159.779636\" xlink:href=\"#mb40d34d8e6\" y=\"82.612261\"/>\n     <use style=\"fill:#1f77b4;stroke:#1f77b4;\" x=\"106.925549\" xlink:href=\"#mb40d34d8e6\" y=\"66.824533\"/>\n     <use style=\"fill:#1f77b4;stroke:#1f77b4;\" x=\"150.397279\" xlink:href=\"#mb40d34d8e6\" y=\"98.016994\"/>\n     <use style=\"fill:#1f77b4;stroke:#1f77b4;\" x=\"103.336122\" xlink:href=\"#mb40d34d8e6\" y=\"64.167105\"/>\n     <use style=\"fill:#1f77b4;stroke:#1f77b4;\" x=\"109.692173\" xlink:href=\"#mb40d34d8e6\" y=\"70.947653\"/>\n     <use style=\"fill:#1f77b4;stroke:#1f77b4;\" x=\"139.864486\" xlink:href=\"#mb40d34d8e6\" y=\"79.127477\"/>\n     <use style=\"fill:#1f77b4;stroke:#1f77b4;\" x=\"104.67068\" xlink:href=\"#mb40d34d8e6\" y=\"61.451929\"/>\n     <use style=\"fill:#1f77b4;stroke:#1f77b4;\" x=\"120.702911\" xlink:href=\"#mb40d34d8e6\" y=\"94.484229\"/>\n     <use style=\"fill:#1f77b4;stroke:#1f77b4;\" x=\"93.698667\" xlink:href=\"#mb40d34d8e6\" y=\"43.205126\"/>\n     <use style=\"fill:#1f77b4;stroke:#1f77b4;\" x=\"111.983983\" xlink:href=\"#mb40d34d8e6\" y=\"83.754894\"/>\n     <use style=\"fill:#1f77b4;stroke:#1f77b4;\" x=\"122.314233\" xlink:href=\"#mb40d34d8e6\" y=\"82.131728\"/>\n     <use style=\"fill:#1f77b4;stroke:#1f77b4;\" x=\"112.591117\" xlink:href=\"#mb40d34d8e6\" y=\"61.484661\"/>\n     <use style=\"fill:#1f77b4;stroke:#1f77b4;\" x=\"155.118037\" xlink:href=\"#mb40d34d8e6\" y=\"85.589033\"/>\n     <use style=\"fill:#1f77b4;stroke:#1f77b4;\" x=\"95.776564\" xlink:href=\"#mb40d34d8e6\" y=\"60.332902\"/>\n     <use style=\"fill:#1f77b4;stroke:#1f77b4;\" x=\"111.589468\" xlink:href=\"#mb40d34d8e6\" y=\"73.279644\"/>\n     <use style=\"fill:#1f77b4;stroke:#1f77b4;\" x=\"97.141518\" xlink:href=\"#mb40d34d8e6\" y=\"73.351258\"/>\n     <use style=\"fill:#1f77b4;stroke:#1f77b4;\" x=\"170.998782\" xlink:href=\"#mb40d34d8e6\" y=\"87.464724\"/>\n     <use style=\"fill:#1f77b4;stroke:#1f77b4;\" x=\"111.154194\" xlink:href=\"#mb40d34d8e6\" y=\"60.916644\"/>\n     <use style=\"fill:#1f77b4;stroke:#1f77b4;\" x=\"81.621388\" xlink:href=\"#mb40d34d8e6\" y=\"37.659218\"/>\n     <use style=\"fill:#1f77b4;stroke:#1f77b4;\" x=\"94.36182\" xlink:href=\"#mb40d34d8e6\" y=\"51.040814\"/>\n     <use style=\"fill:#1f77b4;stroke:#1f77b4;\" x=\"145.159774\" xlink:href=\"#mb40d34d8e6\" y=\"94.84749\"/>\n     <use style=\"fill:#1f77b4;stroke:#1f77b4;\" x=\"48.408722\" xlink:href=\"#mb40d34d8e6\" y=\"31.600919\"/>\n     <use style=\"fill:#1f77b4;stroke:#1f77b4;\" x=\"104.323255\" xlink:href=\"#mb40d34d8e6\" y=\"53.031636\"/>\n     <use style=\"fill:#1f77b4;stroke:#1f77b4;\" x=\"118.107656\" xlink:href=\"#mb40d34d8e6\" y=\"64.207463\"/>\n     <use style=\"fill:#1f77b4;stroke:#1f77b4;\" x=\"110.062275\" xlink:href=\"#mb40d34d8e6\" y=\"62.050429\"/>\n     <use style=\"fill:#1f77b4;stroke:#1f77b4;\" x=\"105.036794\" xlink:href=\"#mb40d34d8e6\" y=\"64.794648\"/>\n     <use style=\"fill:#1f77b4;stroke:#1f77b4;\" x=\"134.677565\" xlink:href=\"#mb40d34d8e6\" y=\"88.277504\"/>\n     <use style=\"fill:#1f77b4;stroke:#1f77b4;\" x=\"121.90459\" xlink:href=\"#mb40d34d8e6\" y=\"61.915022\"/>\n     <use style=\"fill:#1f77b4;stroke:#1f77b4;\" x=\"155.821148\" xlink:href=\"#mb40d34d8e6\" y=\"73.551857\"/>\n     <use style=\"fill:#1f77b4;stroke:#1f77b4;\" x=\"69.835069\" xlink:href=\"#mb40d34d8e6\" y=\"46.092408\"/>\n     <use style=\"fill:#1f77b4;stroke:#1f77b4;\" x=\"171.398859\" xlink:href=\"#mb40d34d8e6\" y=\"98.500763\"/>\n     <use style=\"fill:#1f77b4;stroke:#1f77b4;\" x=\"92.921763\" xlink:href=\"#mb40d34d8e6\" y=\"52.32971\"/>\n     <use style=\"fill:#1f77b4;stroke:#1f77b4;\" x=\"180.506822\" xlink:href=\"#mb40d34d8e6\" y=\"102.413504\"/>\n     <use style=\"fill:#1f77b4;stroke:#1f77b4;\" x=\"171.233667\" xlink:href=\"#mb40d34d8e6\" y=\"97.14867\"/>\n     <use style=\"fill:#1f77b4;stroke:#1f77b4;\" x=\"206.16152\" xlink:href=\"#mb40d34d8e6\" y=\"133.215622\"/>\n     <use style=\"fill:#1f77b4;stroke:#1f77b4;\" x=\"107.505221\" xlink:href=\"#mb40d34d8e6\" y=\"56.834982\"/>\n     <use style=\"fill:#1f77b4;stroke:#1f77b4;\" x=\"110.693895\" xlink:href=\"#mb40d34d8e6\" y=\"50.072847\"/>\n     <use style=\"fill:#1f77b4;stroke:#1f77b4;\" x=\"86.134323\" xlink:href=\"#mb40d34d8e6\" y=\"43.699431\"/>\n     <use style=\"fill:#1f77b4;stroke:#1f77b4;\" x=\"123.381936\" xlink:href=\"#mb40d34d8e6\" y=\"84.815258\"/>\n     <use style=\"fill:#1f77b4;stroke:#1f77b4;\" x=\"143.756121\" xlink:href=\"#mb40d34d8e6\" y=\"82.855694\"/>\n     <use style=\"fill:#1f77b4;stroke:#1f77b4;\" x=\"112.394068\" xlink:href=\"#mb40d34d8e6\" y=\"73.88382\"/>\n     <use style=\"fill:#1f77b4;stroke:#1f77b4;\" x=\"101.808606\" xlink:href=\"#mb40d34d8e6\" y=\"73.662801\"/>\n     <use style=\"fill:#1f77b4;stroke:#1f77b4;\" x=\"122.694927\" xlink:href=\"#mb40d34d8e6\" y=\"80.492065\"/>\n     <use style=\"fill:#1f77b4;stroke:#1f77b4;\" x=\"91.182811\" xlink:href=\"#mb40d34d8e6\" y=\"70.02053\"/>\n     <use style=\"fill:#1f77b4;stroke:#1f77b4;\" x=\"144.376043\" xlink:href=\"#mb40d34d8e6\" y=\"87.519\"/>\n     <use style=\"fill:#1f77b4;stroke:#1f77b4;\" x=\"128.750223\" xlink:href=\"#mb40d34d8e6\" y=\"86.9308\"/>\n     <use style=\"fill:#1f77b4;stroke:#1f77b4;\" x=\"99.987954\" xlink:href=\"#mb40d34d8e6\" y=\"63.03391\"/>\n     <use style=\"fill:#1f77b4;stroke:#1f77b4;\" x=\"130.665573\" xlink:href=\"#mb40d34d8e6\" y=\"85.117935\"/>\n     <use style=\"fill:#1f77b4;stroke:#1f77b4;\" x=\"89.307412\" xlink:href=\"#mb40d34d8e6\" y=\"65.057258\"/>\n     <use style=\"fill:#1f77b4;stroke:#1f77b4;\" x=\"137.978746\" xlink:href=\"#mb40d34d8e6\" y=\"87.749378\"/>\n     <use style=\"fill:#1f77b4;stroke:#1f77b4;\" x=\"62.076464\" xlink:href=\"#mb40d34d8e6\" y=\"40.688077\"/>\n     <use style=\"fill:#1f77b4;stroke:#1f77b4;\" x=\"133.426497\" xlink:href=\"#mb40d34d8e6\" y=\"76.763975\"/>\n     <use style=\"fill:#1f77b4;stroke:#1f77b4;\" x=\"131.200622\" xlink:href=\"#mb40d34d8e6\" y=\"75.48001\"/>\n     <use style=\"fill:#1f77b4;stroke:#1f77b4;\" x=\"137.23596\" xlink:href=\"#mb40d34d8e6\" y=\"82.516551\"/>\n     <use style=\"fill:#1f77b4;stroke:#1f77b4;\" x=\"121.878178\" xlink:href=\"#mb40d34d8e6\" y=\"59.627292\"/>\n     <use style=\"fill:#1f77b4;stroke:#1f77b4;\" x=\"108.047456\" xlink:href=\"#mb40d34d8e6\" y=\"48.692497\"/>\n     <use style=\"fill:#1f77b4;stroke:#1f77b4;\" x=\"130.638797\" xlink:href=\"#mb40d34d8e6\" y=\"86.917108\"/>\n     <use style=\"fill:#1f77b4;stroke:#1f77b4;\" x=\"92.622088\" xlink:href=\"#mb40d34d8e6\" y=\"63.731418\"/>\n     <use style=\"fill:#1f77b4;stroke:#1f77b4;\" x=\"150.285609\" xlink:href=\"#mb40d34d8e6\" y=\"75.20703\"/>\n     <use style=\"fill:#1f77b4;stroke:#1f77b4;\" x=\"175.047679\" xlink:href=\"#mb40d34d8e6\" y=\"83.039915\"/>\n     <use style=\"fill:#1f77b4;stroke:#1f77b4;\" x=\"101.423881\" xlink:href=\"#mb40d34d8e6\" y=\"35.02008\"/>\n     <use style=\"fill:#1f77b4;stroke:#1f77b4;\" x=\"128.358892\" xlink:href=\"#mb40d34d8e6\" y=\"70.863703\"/>\n     <use style=\"fill:#1f77b4;stroke:#1f77b4;\" x=\"107.445728\" xlink:href=\"#mb40d34d8e6\" y=\"65.052274\"/>\n     <use style=\"fill:#1f77b4;stroke:#1f77b4;\" x=\"155.032665\" xlink:href=\"#mb40d34d8e6\" y=\"110.235552\"/>\n     <use style=\"fill:#1f77b4;stroke:#1f77b4;\" x=\"54.189802\" xlink:href=\"#mb40d34d8e6\" y=\"26.012325\"/>\n     <use style=\"fill:#1f77b4;stroke:#1f77b4;\" x=\"133.57397\" xlink:href=\"#mb40d34d8e6\" y=\"92.123224\"/>\n     <use style=\"fill:#1f77b4;stroke:#1f77b4;\" x=\"95.248848\" xlink:href=\"#mb40d34d8e6\" y=\"69.623194\"/>\n     <use style=\"fill:#1f77b4;stroke:#1f77b4;\" x=\"97.136561\" xlink:href=\"#mb40d34d8e6\" y=\"56.472989\"/>\n     <use style=\"fill:#1f77b4;stroke:#1f77b4;\" x=\"160.382227\" xlink:href=\"#mb40d34d8e6\" y=\"111.559028\"/>\n     <use style=\"fill:#1f77b4;stroke:#1f77b4;\" x=\"161.188786\" xlink:href=\"#mb40d34d8e6\" y=\"96.709719\"/>\n     <use style=\"fill:#1f77b4;stroke:#1f77b4;\" x=\"159.96463\" xlink:href=\"#mb40d34d8e6\" y=\"87.364842\"/>\n     <use style=\"fill:#1f77b4;stroke:#1f77b4;\" x=\"178.007894\" xlink:href=\"#mb40d34d8e6\" y=\"93.548323\"/>\n     <use style=\"fill:#1f77b4;stroke:#1f77b4;\" x=\"134.434191\" xlink:href=\"#mb40d34d8e6\" y=\"69.291919\"/>\n     <use style=\"fill:#1f77b4;stroke:#1f77b4;\" x=\"66.876032\" xlink:href=\"#mb40d34d8e6\" y=\"38.297753\"/>\n     <use style=\"fill:#1f77b4;stroke:#1f77b4;\" x=\"115.628712\" xlink:href=\"#mb40d34d8e6\" y=\"56.873966\"/>\n     <use style=\"fill:#1f77b4;stroke:#1f77b4;\" x=\"168.914815\" xlink:href=\"#mb40d34d8e6\" y=\"90.190478\"/>\n     <use style=\"fill:#1f77b4;stroke:#1f77b4;\" x=\"153.766974\" xlink:href=\"#mb40d34d8e6\" y=\"80.410202\"/>\n     <use style=\"fill:#1f77b4;stroke:#1f77b4;\" x=\"136.809972\" xlink:href=\"#mb40d34d8e6\" y=\"75.68442\"/>\n     <use style=\"fill:#1f77b4;stroke:#1f77b4;\" x=\"145.14814\" xlink:href=\"#mb40d34d8e6\" y=\"95.306156\"/>\n     <use style=\"fill:#1f77b4;stroke:#1f77b4;\" x=\"155.774993\" xlink:href=\"#mb40d34d8e6\" y=\"93.953538\"/>\n     <use style=\"fill:#1f77b4;stroke:#1f77b4;\" x=\"115.541411\" xlink:href=\"#mb40d34d8e6\" y=\"76.218727\"/>\n     <use style=\"fill:#1f77b4;stroke:#1f77b4;\" x=\"118.227425\" xlink:href=\"#mb40d34d8e6\" y=\"67.381705\"/>\n     <use style=\"fill:#1f77b4;stroke:#1f77b4;\" x=\"98.161198\" xlink:href=\"#mb40d34d8e6\" y=\"64.981419\"/>\n     <use style=\"fill:#1f77b4;stroke:#1f77b4;\" x=\"168.304715\" xlink:href=\"#mb40d34d8e6\" y=\"86.327504\"/>\n     <use style=\"fill:#1f77b4;stroke:#1f77b4;\" x=\"90.204094\" xlink:href=\"#mb40d34d8e6\" y=\"56.205831\"/>\n     <use style=\"fill:#1f77b4;stroke:#1f77b4;\" x=\"99.814933\" xlink:href=\"#mb40d34d8e6\" y=\"61.124206\"/>\n     <use style=\"fill:#1f77b4;stroke:#1f77b4;\" x=\"167.038511\" xlink:href=\"#mb40d34d8e6\" y=\"90.134865\"/>\n     <use style=\"fill:#1f77b4;stroke:#1f77b4;\" x=\"149.392153\" xlink:href=\"#mb40d34d8e6\" y=\"65.362646\"/>\n     <use style=\"fill:#1f77b4;stroke:#1f77b4;\" x=\"157.600653\" xlink:href=\"#mb40d34d8e6\" y=\"81.708103\"/>\n     <use style=\"fill:#1f77b4;stroke:#1f77b4;\" x=\"135.827433\" xlink:href=\"#mb40d34d8e6\" y=\"88.991996\"/>\n     <use style=\"fill:#1f77b4;stroke:#1f77b4;\" x=\"73.352762\" xlink:href=\"#mb40d34d8e6\" y=\"38.385848\"/>\n     <use style=\"fill:#1f77b4;stroke:#1f77b4;\" x=\"118.409037\" xlink:href=\"#mb40d34d8e6\" y=\"69.111318\"/>\n     <use style=\"fill:#1f77b4;stroke:#1f77b4;\" x=\"109.501262\" xlink:href=\"#mb40d34d8e6\" y=\"71.656573\"/>\n     <use style=\"fill:#1f77b4;stroke:#1f77b4;\" x=\"185.871162\" xlink:href=\"#mb40d34d8e6\" y=\"82.176526\"/>\n     <use style=\"fill:#1f77b4;stroke:#1f77b4;\" x=\"74.1464\" xlink:href=\"#mb40d34d8e6\" y=\"51.82705\"/>\n     <use style=\"fill:#1f77b4;stroke:#1f77b4;\" x=\"102.533662\" xlink:href=\"#mb40d34d8e6\" y=\"59.759079\"/>\n     <use style=\"fill:#1f77b4;stroke:#1f77b4;\" x=\"191.992869\" xlink:href=\"#mb40d34d8e6\" y=\"100.95305\"/>\n     <use style=\"fill:#1f77b4;stroke:#1f77b4;\" x=\"139.210641\" xlink:href=\"#mb40d34d8e6\" y=\"76.781459\"/>\n     <use style=\"fill:#1f77b4;stroke:#1f77b4;\" x=\"159.617313\" xlink:href=\"#mb40d34d8e6\" y=\"73.671097\"/>\n     <use style=\"fill:#1f77b4;stroke:#1f77b4;\" x=\"126.603411\" xlink:href=\"#mb40d34d8e6\" y=\"65.724999\"/>\n     <use style=\"fill:#1f77b4;stroke:#1f77b4;\" x=\"165.774965\" xlink:href=\"#mb40d34d8e6\" y=\"123.500731\"/>\n     <use style=\"fill:#1f77b4;stroke:#1f77b4;\" x=\"157.117406\" xlink:href=\"#mb40d34d8e6\" y=\"109.030186\"/>\n     <use style=\"fill:#1f77b4;stroke:#1f77b4;\" x=\"108.546618\" xlink:href=\"#mb40d34d8e6\" y=\"69.494785\"/>\n     <use style=\"fill:#1f77b4;stroke:#1f77b4;\" x=\"79.461824\" xlink:href=\"#mb40d34d8e6\" y=\"59.034942\"/>\n     <use style=\"fill:#1f77b4;stroke:#1f77b4;\" x=\"93.069278\" xlink:href=\"#mb40d34d8e6\" y=\"41.897768\"/>\n     <use style=\"fill:#1f77b4;stroke:#1f77b4;\" x=\"180.100497\" xlink:href=\"#mb40d34d8e6\" y=\"85.681171\"/>\n     <use style=\"fill:#1f77b4;stroke:#1f77b4;\" x=\"130.848488\" xlink:href=\"#mb40d34d8e6\" y=\"72.857254\"/>\n     <use style=\"fill:#1f77b4;stroke:#1f77b4;\" x=\"157.692322\" xlink:href=\"#mb40d34d8e6\" y=\"92.882939\"/>\n     <use style=\"fill:#1f77b4;stroke:#1f77b4;\" x=\"118.688098\" xlink:href=\"#mb40d34d8e6\" y=\"60.471249\"/>\n     <use style=\"fill:#1f77b4;stroke:#1f77b4;\" x=\"146.949836\" xlink:href=\"#mb40d34d8e6\" y=\"84.374083\"/>\n     <use style=\"fill:#1f77b4;stroke:#1f77b4;\" x=\"116.152568\" xlink:href=\"#mb40d34d8e6\" y=\"76.243714\"/>\n     <use style=\"fill:#1f77b4;stroke:#1f77b4;\" x=\"145.475562\" xlink:href=\"#mb40d34d8e6\" y=\"90.970579\"/>\n     <use style=\"fill:#1f77b4;stroke:#1f77b4;\" x=\"132.905952\" xlink:href=\"#mb40d34d8e6\" y=\"80.055864\"/>\n     <use style=\"fill:#1f77b4;stroke:#1f77b4;\" x=\"99.640854\" xlink:href=\"#mb40d34d8e6\" y=\"65.326599\"/>\n     <use style=\"fill:#1f77b4;stroke:#1f77b4;\" x=\"77.997286\" xlink:href=\"#mb40d34d8e6\" y=\"38.293367\"/>\n     <use style=\"fill:#1f77b4;stroke:#1f77b4;\" x=\"173.647906\" xlink:href=\"#mb40d34d8e6\" y=\"107.133062\"/>\n     <use style=\"fill:#1f77b4;stroke:#1f77b4;\" x=\"115.704599\" xlink:href=\"#mb40d34d8e6\" y=\"73.163597\"/>\n     <use style=\"fill:#1f77b4;stroke:#1f77b4;\" x=\"169.644908\" xlink:href=\"#mb40d34d8e6\" y=\"91.045444\"/>\n     <use style=\"fill:#1f77b4;stroke:#1f77b4;\" x=\"116.245313\" xlink:href=\"#mb40d34d8e6\" y=\"85.704281\"/>\n     <use style=\"fill:#1f77b4;stroke:#1f77b4;\" x=\"153.964737\" xlink:href=\"#mb40d34d8e6\" y=\"96.228702\"/>\n     <use style=\"fill:#1f77b4;stroke:#1f77b4;\" x=\"151.269388\" xlink:href=\"#mb40d34d8e6\" y=\"91.674109\"/>\n     <use style=\"fill:#1f77b4;stroke:#1f77b4;\" x=\"107.005425\" xlink:href=\"#mb40d34d8e6\" y=\"65.460371\"/>\n     <use style=\"fill:#1f77b4;stroke:#1f77b4;\" x=\"147.337166\" xlink:href=\"#mb40d34d8e6\" y=\"85.671302\"/>\n     <use style=\"fill:#1f77b4;stroke:#1f77b4;\" x=\"115.880339\" xlink:href=\"#mb40d34d8e6\" y=\"68.369596\"/>\n     <use style=\"fill:#1f77b4;stroke:#1f77b4;\" x=\"137.408025\" xlink:href=\"#mb40d34d8e6\" y=\"75.04021\"/>\n     <use style=\"fill:#1f77b4;stroke:#1f77b4;\" x=\"128.572953\" xlink:href=\"#mb40d34d8e6\" y=\"78.913735\"/>\n     <use style=\"fill:#1f77b4;stroke:#1f77b4;\" x=\"144.260225\" xlink:href=\"#mb40d34d8e6\" y=\"78.563797\"/>\n     <use style=\"fill:#1f77b4;stroke:#1f77b4;\" x=\"47.424749\" xlink:href=\"#mb40d34d8e6\" y=\"34.705122\"/>\n     <use style=\"fill:#1f77b4;stroke:#1f77b4;\" x=\"190.944287\" xlink:href=\"#mb40d34d8e6\" y=\"89.068863\"/>\n     <use style=\"fill:#1f77b4;stroke:#1f77b4;\" x=\"142.029389\" xlink:href=\"#mb40d34d8e6\" y=\"91.780718\"/>\n     <use style=\"fill:#1f77b4;stroke:#1f77b4;\" x=\"148.832824\" xlink:href=\"#mb40d34d8e6\" y=\"88.566474\"/>\n     <use style=\"fill:#1f77b4;stroke:#1f77b4;\" x=\"184.381503\" xlink:href=\"#mb40d34d8e6\" y=\"94.349698\"/>\n     <use style=\"fill:#1f77b4;stroke:#1f77b4;\" x=\"157.987692\" xlink:href=\"#mb40d34d8e6\" y=\"93.959642\"/>\n     <use style=\"fill:#1f77b4;stroke:#1f77b4;\" x=\"135.412484\" xlink:href=\"#mb40d34d8e6\" y=\"75.666047\"/>\n     <use style=\"fill:#1f77b4;stroke:#1f77b4;\" x=\"152.560252\" xlink:href=\"#mb40d34d8e6\" y=\"91.040774\"/>\n     <use style=\"fill:#1f77b4;stroke:#1f77b4;\" x=\"156.108118\" xlink:href=\"#mb40d34d8e6\" y=\"96.930401\"/>\n     <use style=\"fill:#1f77b4;stroke:#1f77b4;\" x=\"130.765861\" xlink:href=\"#mb40d34d8e6\" y=\"71.021299\"/>\n     <use style=\"fill:#1f77b4;stroke:#1f77b4;\" x=\"102.415641\" xlink:href=\"#mb40d34d8e6\" y=\"51.556598\"/>\n     <use style=\"fill:#1f77b4;stroke:#1f77b4;\" x=\"75.085713\" xlink:href=\"#mb40d34d8e6\" y=\"43.070421\"/>\n     <use style=\"fill:#1f77b4;stroke:#1f77b4;\" x=\"120.401835\" xlink:href=\"#mb40d34d8e6\" y=\"73.898397\"/>\n     <use style=\"fill:#1f77b4;stroke:#1f77b4;\" x=\"102.840023\" xlink:href=\"#mb40d34d8e6\" y=\"71.579733\"/>\n     <use style=\"fill:#1f77b4;stroke:#1f77b4;\" x=\"96.994523\" xlink:href=\"#mb40d34d8e6\" y=\"67.154605\"/>\n     <use style=\"fill:#1f77b4;stroke:#1f77b4;\" x=\"169.878789\" xlink:href=\"#mb40d34d8e6\" y=\"111.790466\"/>\n     <use style=\"fill:#1f77b4;stroke:#1f77b4;\" x=\"158.741965\" xlink:href=\"#mb40d34d8e6\" y=\"97.971345\"/>\n     <use style=\"fill:#1f77b4;stroke:#1f77b4;\" x=\"124.459659\" xlink:href=\"#mb40d34d8e6\" y=\"71.9808\"/>\n     <use style=\"fill:#1f77b4;stroke:#1f77b4;\" x=\"89.859337\" xlink:href=\"#mb40d34d8e6\" y=\"50.539053\"/>\n     <use style=\"fill:#1f77b4;stroke:#1f77b4;\" x=\"157.756742\" xlink:href=\"#mb40d34d8e6\" y=\"87.14743\"/>\n     <use style=\"fill:#1f77b4;stroke:#1f77b4;\" x=\"118.043932\" xlink:href=\"#mb40d34d8e6\" y=\"72.281732\"/>\n     <use style=\"fill:#1f77b4;stroke:#1f77b4;\" x=\"132.661679\" xlink:href=\"#mb40d34d8e6\" y=\"63.402437\"/>\n     <use style=\"fill:#1f77b4;stroke:#1f77b4;\" x=\"122.723069\" xlink:href=\"#mb40d34d8e6\" y=\"86.254385\"/>\n     <use style=\"fill:#1f77b4;stroke:#1f77b4;\" x=\"72.282742\" xlink:href=\"#mb40d34d8e6\" y=\"58.483519\"/>\n     <use style=\"fill:#1f77b4;stroke:#1f77b4;\" x=\"84.115487\" xlink:href=\"#mb40d34d8e6\" y=\"63.726617\"/>\n     <use style=\"fill:#1f77b4;stroke:#1f77b4;\" x=\"119.961376\" xlink:href=\"#mb40d34d8e6\" y=\"74.884899\"/>\n     <use style=\"fill:#1f77b4;stroke:#1f77b4;\" x=\"102.254551\" xlink:href=\"#mb40d34d8e6\" y=\"50.926075\"/>\n     <use style=\"fill:#1f77b4;stroke:#1f77b4;\" x=\"88.658128\" xlink:href=\"#mb40d34d8e6\" y=\"52.104821\"/>\n     <use style=\"fill:#1f77b4;stroke:#1f77b4;\" x=\"153.445672\" xlink:href=\"#mb40d34d8e6\" y=\"85.269599\"/>\n     <use style=\"fill:#1f77b4;stroke:#1f77b4;\" x=\"124.526381\" xlink:href=\"#mb40d34d8e6\" y=\"70.365616\"/>\n     <use style=\"fill:#1f77b4;stroke:#1f77b4;\" x=\"155.557935\" xlink:href=\"#mb40d34d8e6\" y=\"81.361046\"/>\n     <use style=\"fill:#1f77b4;stroke:#1f77b4;\" x=\"117.625171\" xlink:href=\"#mb40d34d8e6\" y=\"79.107381\"/>\n     <use style=\"fill:#1f77b4;stroke:#1f77b4;\" x=\"118.380778\" xlink:href=\"#mb40d34d8e6\" y=\"98.079975\"/>\n     <use style=\"fill:#1f77b4;stroke:#1f77b4;\" x=\"103.377353\" xlink:href=\"#mb40d34d8e6\" y=\"61.774817\"/>\n     <use style=\"fill:#1f77b4;stroke:#1f77b4;\" x=\"147.021705\" xlink:href=\"#mb40d34d8e6\" y=\"117.382743\"/>\n     <use style=\"fill:#1f77b4;stroke:#1f77b4;\" x=\"143.706902\" xlink:href=\"#mb40d34d8e6\" y=\"81.560175\"/>\n     <use style=\"fill:#1f77b4;stroke:#1f77b4;\" x=\"126.052499\" xlink:href=\"#mb40d34d8e6\" y=\"62.246339\"/>\n     <use style=\"fill:#1f77b4;stroke:#1f77b4;\" x=\"96.525465\" xlink:href=\"#mb40d34d8e6\" y=\"57.004292\"/>\n     <use style=\"fill:#1f77b4;stroke:#1f77b4;\" x=\"119.713264\" xlink:href=\"#mb40d34d8e6\" y=\"73.047905\"/>\n     <use style=\"fill:#1f77b4;stroke:#1f77b4;\" x=\"68.01728\" xlink:href=\"#mb40d34d8e6\" y=\"44.805115\"/>\n     <use style=\"fill:#1f77b4;stroke:#1f77b4;\" x=\"120.61626\" xlink:href=\"#mb40d34d8e6\" y=\"84.758082\"/>\n     <use style=\"fill:#1f77b4;stroke:#1f77b4;\" x=\"148.835331\" xlink:href=\"#mb40d34d8e6\" y=\"85.514799\"/>\n     <use style=\"fill:#1f77b4;stroke:#1f77b4;\" x=\"120.05485\" xlink:href=\"#mb40d34d8e6\" y=\"66.311573\"/>\n     <use style=\"fill:#1f77b4;stroke:#1f77b4;\" x=\"144.197292\" xlink:href=\"#mb40d34d8e6\" y=\"82.897892\"/>\n     <use style=\"fill:#1f77b4;stroke:#1f77b4;\" x=\"109.939615\" xlink:href=\"#mb40d34d8e6\" y=\"84.237267\"/>\n     <use style=\"fill:#1f77b4;stroke:#1f77b4;\" x=\"121.40667\" xlink:href=\"#mb40d34d8e6\" y=\"66.087843\"/>\n     <use style=\"fill:#1f77b4;stroke:#1f77b4;\" x=\"121.159986\" xlink:href=\"#mb40d34d8e6\" y=\"58.45805\"/>\n     <use style=\"fill:#1f77b4;stroke:#1f77b4;\" x=\"127.601857\" xlink:href=\"#mb40d34d8e6\" y=\"70.815917\"/>\n     <use style=\"fill:#1f77b4;stroke:#1f77b4;\" x=\"108.148929\" xlink:href=\"#mb40d34d8e6\" y=\"78.073046\"/>\n     <use style=\"fill:#1f77b4;stroke:#1f77b4;\" x=\"93.08479\" xlink:href=\"#mb40d34d8e6\" y=\"72.446875\"/>\n     <use style=\"fill:#1f77b4;stroke:#1f77b4;\" x=\"131.557479\" xlink:href=\"#mb40d34d8e6\" y=\"76.165403\"/>\n     <use style=\"fill:#1f77b4;stroke:#1f77b4;\" x=\"110.148704\" xlink:href=\"#mb40d34d8e6\" y=\"83.807601\"/>\n     <use style=\"fill:#1f77b4;stroke:#1f77b4;\" x=\"108.205368\" xlink:href=\"#mb40d34d8e6\" y=\"70.344605\"/>\n     <use style=\"fill:#1f77b4;stroke:#1f77b4;\" x=\"155.743685\" xlink:href=\"#mb40d34d8e6\" y=\"86.154573\"/>\n     <use style=\"fill:#1f77b4;stroke:#1f77b4;\" x=\"163.686632\" xlink:href=\"#mb40d34d8e6\" y=\"88.863913\"/>\n     <use style=\"fill:#1f77b4;stroke:#1f77b4;\" x=\"153.343197\" xlink:href=\"#mb40d34d8e6\" y=\"79.39196\"/>\n     <use style=\"fill:#1f77b4;stroke:#1f77b4;\" x=\"141.577948\" xlink:href=\"#mb40d34d8e6\" y=\"106.992671\"/>\n     <use style=\"fill:#1f77b4;stroke:#1f77b4;\" x=\"132.474184\" xlink:href=\"#mb40d34d8e6\" y=\"62.52383\"/>\n     <use style=\"fill:#1f77b4;stroke:#1f77b4;\" x=\"108.374264\" xlink:href=\"#mb40d34d8e6\" y=\"53.444678\"/>\n     <use style=\"fill:#1f77b4;stroke:#1f77b4;\" x=\"181.226957\" xlink:href=\"#mb40d34d8e6\" y=\"115.683542\"/>\n     <use style=\"fill:#1f77b4;stroke:#1f77b4;\" x=\"158.982436\" xlink:href=\"#mb40d34d8e6\" y=\"71.257439\"/>\n     <use style=\"fill:#1f77b4;stroke:#1f77b4;\" x=\"105.090747\" xlink:href=\"#mb40d34d8e6\" y=\"60.741657\"/>\n     <use style=\"fill:#1f77b4;stroke:#1f77b4;\" x=\"116.98415\" xlink:href=\"#mb40d34d8e6\" y=\"60.642609\"/>\n     <use style=\"fill:#1f77b4;stroke:#1f77b4;\" x=\"104.097151\" xlink:href=\"#mb40d34d8e6\" y=\"53.837406\"/>\n     <use style=\"fill:#1f77b4;stroke:#1f77b4;\" x=\"149.89722\" xlink:href=\"#mb40d34d8e6\" y=\"80.508062\"/>\n     <use style=\"fill:#1f77b4;stroke:#1f77b4;\" x=\"153.477053\" xlink:href=\"#mb40d34d8e6\" y=\"105.914033\"/>\n     <use style=\"fill:#1f77b4;stroke:#1f77b4;\" x=\"80.390121\" xlink:href=\"#mb40d34d8e6\" y=\"34.802038\"/>\n     <use style=\"fill:#1f77b4;stroke:#1f77b4;\" x=\"175.083671\" xlink:href=\"#mb40d34d8e6\" y=\"90.388456\"/>\n     <use style=\"fill:#1f77b4;stroke:#1f77b4;\" x=\"109.688313\" xlink:href=\"#mb40d34d8e6\" y=\"84.029682\"/>\n     <use style=\"fill:#1f77b4;stroke:#1f77b4;\" x=\"151.858416\" xlink:href=\"#mb40d34d8e6\" y=\"78.659544\"/>\n     <use style=\"fill:#1f77b4;stroke:#1f77b4;\" x=\"103.811528\" xlink:href=\"#mb40d34d8e6\" y=\"65.373571\"/>\n     <use style=\"fill:#1f77b4;stroke:#1f77b4;\" x=\"76.169142\" xlink:href=\"#mb40d34d8e6\" y=\"48.174099\"/>\n     <use style=\"fill:#1f77b4;stroke:#1f77b4;\" x=\"142.620693\" xlink:href=\"#mb40d34d8e6\" y=\"76.229851\"/>\n     <use style=\"fill:#1f77b4;stroke:#1f77b4;\" x=\"149.351076\" xlink:href=\"#mb40d34d8e6\" y=\"94.207453\"/>\n     <use style=\"fill:#1f77b4;stroke:#1f77b4;\" x=\"107.348368\" xlink:href=\"#mb40d34d8e6\" y=\"63.471219\"/>\n     <use style=\"fill:#1f77b4;stroke:#1f77b4;\" x=\"170.492314\" xlink:href=\"#mb40d34d8e6\" y=\"107.911284\"/>\n     <use style=\"fill:#1f77b4;stroke:#1f77b4;\" x=\"68.610569\" xlink:href=\"#mb40d34d8e6\" y=\"49.12868\"/>\n     <use style=\"fill:#1f77b4;stroke:#1f77b4;\" x=\"100.681786\" xlink:href=\"#mb40d34d8e6\" y=\"79.211187\"/>\n     <use style=\"fill:#1f77b4;stroke:#1f77b4;\" x=\"77.960349\" xlink:href=\"#mb40d34d8e6\" y=\"52.946499\"/>\n     <use style=\"fill:#1f77b4;stroke:#1f77b4;\" x=\"114.719895\" xlink:href=\"#mb40d34d8e6\" y=\"67.438293\"/>\n     <use style=\"fill:#1f77b4;stroke:#1f77b4;\" x=\"158.018988\" xlink:href=\"#mb40d34d8e6\" y=\"101.03114\"/>\n     <use style=\"fill:#1f77b4;stroke:#1f77b4;\" x=\"128.298109\" xlink:href=\"#mb40d34d8e6\" y=\"64.599544\"/>\n     <use style=\"fill:#1f77b4;stroke:#1f77b4;\" x=\"144.302552\" xlink:href=\"#mb40d34d8e6\" y=\"93.43671\"/>\n     <use style=\"fill:#1f77b4;stroke:#1f77b4;\" x=\"104.073279\" xlink:href=\"#mb40d34d8e6\" y=\"63.364461\"/>\n     <use style=\"fill:#1f77b4;stroke:#1f77b4;\" x=\"80.166662\" xlink:href=\"#mb40d34d8e6\" y=\"33.871373\"/>\n     <use style=\"fill:#1f77b4;stroke:#1f77b4;\" x=\"181.972883\" xlink:href=\"#mb40d34d8e6\" y=\"99.36387\"/>\n     <use style=\"fill:#1f77b4;stroke:#1f77b4;\" x=\"123.441314\" xlink:href=\"#mb40d34d8e6\" y=\"72.742242\"/>\n     <use style=\"fill:#1f77b4;stroke:#1f77b4;\" x=\"108.41482\" xlink:href=\"#mb40d34d8e6\" y=\"76.575943\"/>\n     <use style=\"fill:#1f77b4;stroke:#1f77b4;\" x=\"117.294661\" xlink:href=\"#mb40d34d8e6\" y=\"68.605478\"/>\n     <use style=\"fill:#1f77b4;stroke:#1f77b4;\" x=\"155.688906\" xlink:href=\"#mb40d34d8e6\" y=\"97.295611\"/>\n     <use style=\"fill:#1f77b4;stroke:#1f77b4;\" x=\"106.009528\" xlink:href=\"#mb40d34d8e6\" y=\"70.535529\"/>\n     <use style=\"fill:#1f77b4;stroke:#1f77b4;\" x=\"133.170383\" xlink:href=\"#mb40d34d8e6\" y=\"86.842565\"/>\n     <use style=\"fill:#1f77b4;stroke:#1f77b4;\" x=\"112.520201\" xlink:href=\"#mb40d34d8e6\" y=\"63.314452\"/>\n     <use style=\"fill:#1f77b4;stroke:#1f77b4;\" x=\"60.690327\" xlink:href=\"#mb40d34d8e6\" y=\"31.963173\"/>\n     <use style=\"fill:#1f77b4;stroke:#1f77b4;\" x=\"122.318239\" xlink:href=\"#mb40d34d8e6\" y=\"57.810643\"/>\n     <use style=\"fill:#1f77b4;stroke:#1f77b4;\" x=\"117.09134\" xlink:href=\"#mb40d34d8e6\" y=\"71.573566\"/>\n     <use style=\"fill:#1f77b4;stroke:#1f77b4;\" x=\"108.372036\" xlink:href=\"#mb40d34d8e6\" y=\"74.588545\"/>\n     <use style=\"fill:#1f77b4;stroke:#1f77b4;\" x=\"153.420378\" xlink:href=\"#mb40d34d8e6\" y=\"101.1995\"/>\n     <use style=\"fill:#1f77b4;stroke:#1f77b4;\" x=\"100.911726\" xlink:href=\"#mb40d34d8e6\" y=\"79.194066\"/>\n     <use style=\"fill:#1f77b4;stroke:#1f77b4;\" x=\"162.689301\" xlink:href=\"#mb40d34d8e6\" y=\"103.752384\"/>\n     <use style=\"fill:#1f77b4;stroke:#1f77b4;\" x=\"142.651298\" xlink:href=\"#mb40d34d8e6\" y=\"96.198954\"/>\n     <use style=\"fill:#1f77b4;stroke:#1f77b4;\" x=\"95.475472\" xlink:href=\"#mb40d34d8e6\" y=\"46.294528\"/>\n     <use style=\"fill:#1f77b4;stroke:#1f77b4;\" x=\"130.255506\" xlink:href=\"#mb40d34d8e6\" y=\"72.310552\"/>\n     <use style=\"fill:#1f77b4;stroke:#1f77b4;\" x=\"125.035951\" xlink:href=\"#mb40d34d8e6\" y=\"88.495761\"/>\n     <use style=\"fill:#1f77b4;stroke:#1f77b4;\" x=\"144.678467\" xlink:href=\"#mb40d34d8e6\" y=\"86.115882\"/>\n     <use style=\"fill:#1f77b4;stroke:#1f77b4;\" x=\"104.046806\" xlink:href=\"#mb40d34d8e6\" y=\"64.785369\"/>\n     <use style=\"fill:#1f77b4;stroke:#1f77b4;\" x=\"126.929712\" xlink:href=\"#mb40d34d8e6\" y=\"74.085289\"/>\n     <use style=\"fill:#1f77b4;stroke:#1f77b4;\" x=\"137.107152\" xlink:href=\"#mb40d34d8e6\" y=\"89.861034\"/>\n     <use style=\"fill:#1f77b4;stroke:#1f77b4;\" x=\"190.842444\" xlink:href=\"#mb40d34d8e6\" y=\"102.878191\"/>\n     <use style=\"fill:#1f77b4;stroke:#1f77b4;\" x=\"109.532891\" xlink:href=\"#mb40d34d8e6\" y=\"64.514039\"/>\n     <use style=\"fill:#1f77b4;stroke:#1f77b4;\" x=\"121.226944\" xlink:href=\"#mb40d34d8e6\" y=\"72.541291\"/>\n     <use style=\"fill:#1f77b4;stroke:#1f77b4;\" x=\"100.937639\" xlink:href=\"#mb40d34d8e6\" y=\"71.553952\"/>\n     <use style=\"fill:#1f77b4;stroke:#1f77b4;\" x=\"112.402405\" xlink:href=\"#mb40d34d8e6\" y=\"54.291283\"/>\n     <use style=\"fill:#1f77b4;stroke:#1f77b4;\" x=\"168.671083\" xlink:href=\"#mb40d34d8e6\" y=\"97.494261\"/>\n     <use style=\"fill:#1f77b4;stroke:#1f77b4;\" x=\"110.695526\" xlink:href=\"#mb40d34d8e6\" y=\"75.482727\"/>\n     <use style=\"fill:#1f77b4;stroke:#1f77b4;\" x=\"107.597051\" xlink:href=\"#mb40d34d8e6\" y=\"60.67225\"/>\n     <use style=\"fill:#1f77b4;stroke:#1f77b4;\" x=\"157.156849\" xlink:href=\"#mb40d34d8e6\" y=\"91.509567\"/>\n     <use style=\"fill:#1f77b4;stroke:#1f77b4;\" x=\"105.637009\" xlink:href=\"#mb40d34d8e6\" y=\"66.977361\"/>\n     <use style=\"fill:#1f77b4;stroke:#1f77b4;\" x=\"123.952905\" xlink:href=\"#mb40d34d8e6\" y=\"77.106115\"/>\n     <use style=\"fill:#1f77b4;stroke:#1f77b4;\" x=\"85.429811\" xlink:href=\"#mb40d34d8e6\" y=\"45.340046\"/>\n     <use style=\"fill:#1f77b4;stroke:#1f77b4;\" x=\"149.5648\" xlink:href=\"#mb40d34d8e6\" y=\"87.114331\"/>\n     <use style=\"fill:#1f77b4;stroke:#1f77b4;\" x=\"124.279654\" xlink:href=\"#mb40d34d8e6\" y=\"82.219973\"/>\n     <use style=\"fill:#1f77b4;stroke:#1f77b4;\" x=\"129.184649\" xlink:href=\"#mb40d34d8e6\" y=\"75.255886\"/>\n     <use style=\"fill:#1f77b4;stroke:#1f77b4;\" x=\"62.117909\" xlink:href=\"#mb40d34d8e6\" y=\"36.434179\"/>\n     <use style=\"fill:#1f77b4;stroke:#1f77b4;\" x=\"139.724052\" xlink:href=\"#mb40d34d8e6\" y=\"88.942359\"/>\n     <use style=\"fill:#1f77b4;stroke:#1f77b4;\" x=\"169.042576\" xlink:href=\"#mb40d34d8e6\" y=\"102.813096\"/>\n     <use style=\"fill:#1f77b4;stroke:#1f77b4;\" x=\"211.841179\" xlink:href=\"#mb40d34d8e6\" y=\"120.326559\"/>\n     <use style=\"fill:#1f77b4;stroke:#1f77b4;\" x=\"194.187933\" xlink:href=\"#mb40d34d8e6\" y=\"129.310674\"/>\n     <use style=\"fill:#1f77b4;stroke:#1f77b4;\" x=\"101.660649\" xlink:href=\"#mb40d34d8e6\" y=\"55.505956\"/>\n     <use style=\"fill:#1f77b4;stroke:#1f77b4;\" x=\"66.69616\" xlink:href=\"#mb40d34d8e6\" y=\"31.932688\"/>\n     <use style=\"fill:#1f77b4;stroke:#1f77b4;\" x=\"185.601307\" xlink:href=\"#mb40d34d8e6\" y=\"121.843035\"/>\n     <use style=\"fill:#1f77b4;stroke:#1f77b4;\" x=\"145.651713\" xlink:href=\"#mb40d34d8e6\" y=\"72.023235\"/>\n     <use style=\"fill:#1f77b4;stroke:#1f77b4;\" x=\"129.062277\" xlink:href=\"#mb40d34d8e6\" y=\"56.578651\"/>\n     <use style=\"fill:#1f77b4;stroke:#1f77b4;\" x=\"170.319714\" xlink:href=\"#mb40d34d8e6\" y=\"98.789684\"/>\n     <use style=\"fill:#1f77b4;stroke:#1f77b4;\" x=\"106.220867\" xlink:href=\"#mb40d34d8e6\" y=\"46.911575\"/>\n     <use style=\"fill:#1f77b4;stroke:#1f77b4;\" x=\"94.772893\" xlink:href=\"#mb40d34d8e6\" y=\"46.496757\"/>\n     <use style=\"fill:#1f77b4;stroke:#1f77b4;\" x=\"161.664476\" xlink:href=\"#mb40d34d8e6\" y=\"106.37178\"/>\n     <use style=\"fill:#1f77b4;stroke:#1f77b4;\" x=\"191.094193\" xlink:href=\"#mb40d34d8e6\" y=\"113.745731\"/>\n     <use style=\"fill:#1f77b4;stroke:#1f77b4;\" x=\"70.744834\" xlink:href=\"#mb40d34d8e6\" y=\"54.24688\"/>\n     <use style=\"fill:#1f77b4;stroke:#1f77b4;\" x=\"126.543468\" xlink:href=\"#mb40d34d8e6\" y=\"84.67939\"/>\n     <use style=\"fill:#1f77b4;stroke:#1f77b4;\" x=\"184.691749\" xlink:href=\"#mb40d34d8e6\" y=\"118.310735\"/>\n     <use style=\"fill:#1f77b4;stroke:#1f77b4;\" x=\"119.1678\" xlink:href=\"#mb40d34d8e6\" y=\"74.280138\"/>\n     <use style=\"fill:#1f77b4;stroke:#1f77b4;\" x=\"108.626338\" xlink:href=\"#mb40d34d8e6\" y=\"61.758929\"/>\n     <use style=\"fill:#1f77b4;stroke:#1f77b4;\" x=\"106.775278\" xlink:href=\"#mb40d34d8e6\" y=\"63.013237\"/>\n     <use style=\"fill:#1f77b4;stroke:#1f77b4;\" x=\"104.027519\" xlink:href=\"#mb40d34d8e6\" y=\"67.581619\"/>\n     <use style=\"fill:#1f77b4;stroke:#1f77b4;\" x=\"137.885057\" xlink:href=\"#mb40d34d8e6\" y=\"79.77158\"/>\n     <use style=\"fill:#1f77b4;stroke:#1f77b4;\" x=\"129.444414\" xlink:href=\"#mb40d34d8e6\" y=\"87.979234\"/>\n     <use style=\"fill:#1f77b4;stroke:#1f77b4;\" x=\"135.037574\" xlink:href=\"#mb40d34d8e6\" y=\"80.244284\"/>\n     <use style=\"fill:#1f77b4;stroke:#1f77b4;\" x=\"183.344492\" xlink:href=\"#mb40d34d8e6\" y=\"117.061714\"/>\n     <use style=\"fill:#1f77b4;stroke:#1f77b4;\" x=\"130.113528\" xlink:href=\"#mb40d34d8e6\" y=\"70.631208\"/>\n     <use style=\"fill:#1f77b4;stroke:#1f77b4;\" x=\"103.196135\" xlink:href=\"#mb40d34d8e6\" y=\"64.535932\"/>\n     <use style=\"fill:#1f77b4;stroke:#1f77b4;\" x=\"157.71863\" xlink:href=\"#mb40d34d8e6\" y=\"91.24771\"/>\n     <use style=\"fill:#1f77b4;stroke:#1f77b4;\" x=\"177.380485\" xlink:href=\"#mb40d34d8e6\" y=\"91.027389\"/>\n     <use style=\"fill:#1f77b4;stroke:#1f77b4;\" x=\"105.251798\" xlink:href=\"#mb40d34d8e6\" y=\"63.569595\"/>\n     <use style=\"fill:#1f77b4;stroke:#1f77b4;\" x=\"93.61479\" xlink:href=\"#mb40d34d8e6\" y=\"58.895699\"/>\n     <use style=\"fill:#1f77b4;stroke:#1f77b4;\" x=\"177.129081\" xlink:href=\"#mb40d34d8e6\" y=\"113.385634\"/>\n     <use style=\"fill:#1f77b4;stroke:#1f77b4;\" x=\"123.978734\" xlink:href=\"#mb40d34d8e6\" y=\"64.058833\"/>\n     <use style=\"fill:#1f77b4;stroke:#1f77b4;\" x=\"114.383905\" xlink:href=\"#mb40d34d8e6\" y=\"59.818759\"/>\n     <use style=\"fill:#1f77b4;stroke:#1f77b4;\" x=\"135.872966\" xlink:href=\"#mb40d34d8e6\" y=\"60.633812\"/>\n     <use style=\"fill:#1f77b4;stroke:#1f77b4;\" x=\"107.655904\" xlink:href=\"#mb40d34d8e6\" y=\"83.792644\"/>\n     <use style=\"fill:#1f77b4;stroke:#1f77b4;\" x=\"135.70318\" xlink:href=\"#mb40d34d8e6\" y=\"69.777947\"/>\n     <use style=\"fill:#1f77b4;stroke:#1f77b4;\" x=\"140.866037\" xlink:href=\"#mb40d34d8e6\" y=\"78.696124\"/>\n     <use style=\"fill:#1f77b4;stroke:#1f77b4;\" x=\"115.304494\" xlink:href=\"#mb40d34d8e6\" y=\"56.884177\"/>\n     <use style=\"fill:#1f77b4;stroke:#1f77b4;\" x=\"119.948154\" xlink:href=\"#mb40d34d8e6\" y=\"77.849187\"/>\n     <use style=\"fill:#1f77b4;stroke:#1f77b4;\" x=\"104.616246\" xlink:href=\"#mb40d34d8e6\" y=\"42.03553\"/>\n     <use style=\"fill:#1f77b4;stroke:#1f77b4;\" x=\"118.761528\" xlink:href=\"#mb40d34d8e6\" y=\"67.925772\"/>\n     <use style=\"fill:#1f77b4;stroke:#1f77b4;\" x=\"121.443665\" xlink:href=\"#mb40d34d8e6\" y=\"66.743484\"/>\n     <use style=\"fill:#1f77b4;stroke:#1f77b4;\" x=\"103.755881\" xlink:href=\"#mb40d34d8e6\" y=\"62.612699\"/>\n     <use style=\"fill:#1f77b4;stroke:#1f77b4;\" x=\"152.399202\" xlink:href=\"#mb40d34d8e6\" y=\"96.707714\"/>\n     <use style=\"fill:#1f77b4;stroke:#1f77b4;\" x=\"114.449148\" xlink:href=\"#mb40d34d8e6\" y=\"58.759129\"/>\n     <use style=\"fill:#1f77b4;stroke:#1f77b4;\" x=\"125.097074\" xlink:href=\"#mb40d34d8e6\" y=\"76.506044\"/>\n     <use style=\"fill:#1f77b4;stroke:#1f77b4;\" x=\"99.904286\" xlink:href=\"#mb40d34d8e6\" y=\"55.60385\"/>\n     <use style=\"fill:#1f77b4;stroke:#1f77b4;\" x=\"125.677291\" xlink:href=\"#mb40d34d8e6\" y=\"96.455141\"/>\n     <use style=\"fill:#1f77b4;stroke:#1f77b4;\" x=\"161.044468\" xlink:href=\"#mb40d34d8e6\" y=\"117.968692\"/>\n     <use style=\"fill:#1f77b4;stroke:#1f77b4;\" x=\"153.242111\" xlink:href=\"#mb40d34d8e6\" y=\"76.842662\"/>\n     <use style=\"fill:#1f77b4;stroke:#1f77b4;\" x=\"150.528422\" xlink:href=\"#mb40d34d8e6\" y=\"72.514974\"/>\n     <use style=\"fill:#1f77b4;stroke:#1f77b4;\" x=\"70.122677\" xlink:href=\"#mb40d34d8e6\" y=\"56.053033\"/>\n     <use style=\"fill:#1f77b4;stroke:#1f77b4;\" x=\"163.778975\" xlink:href=\"#mb40d34d8e6\" y=\"113.153847\"/>\n     <use style=\"fill:#1f77b4;stroke:#1f77b4;\" x=\"132.343586\" xlink:href=\"#mb40d34d8e6\" y=\"84.62651\"/>\n     <use style=\"fill:#1f77b4;stroke:#1f77b4;\" x=\"143.545154\" xlink:href=\"#mb40d34d8e6\" y=\"86.181133\"/>\n     <use style=\"fill:#1f77b4;stroke:#1f77b4;\" x=\"80.047525\" xlink:href=\"#mb40d34d8e6\" y=\"67.680627\"/>\n     <use style=\"fill:#1f77b4;stroke:#1f77b4;\" x=\"95.605233\" xlink:href=\"#mb40d34d8e6\" y=\"70.773552\"/>\n     <use style=\"fill:#1f77b4;stroke:#1f77b4;\" x=\"108.756186\" xlink:href=\"#mb40d34d8e6\" y=\"83.348303\"/>\n     <use style=\"fill:#1f77b4;stroke:#1f77b4;\" x=\"55.600739\" xlink:href=\"#mb40d34d8e6\" y=\"31.875361\"/>\n     <use style=\"fill:#1f77b4;stroke:#1f77b4;\" x=\"145.149956\" xlink:href=\"#mb40d34d8e6\" y=\"67.180679\"/>\n     <use style=\"fill:#1f77b4;stroke:#1f77b4;\" x=\"62.272448\" xlink:href=\"#mb40d34d8e6\" y=\"39.074597\"/>\n     <use style=\"fill:#1f77b4;stroke:#1f77b4;\" x=\"143.926277\" xlink:href=\"#mb40d34d8e6\" y=\"77.04878\"/>\n     <use style=\"fill:#1f77b4;stroke:#1f77b4;\" x=\"152.648324\" xlink:href=\"#mb40d34d8e6\" y=\"94.154913\"/>\n     <use style=\"fill:#1f77b4;stroke:#1f77b4;\" x=\"141.220316\" xlink:href=\"#mb40d34d8e6\" y=\"88.849707\"/>\n     <use style=\"fill:#1f77b4;stroke:#1f77b4;\" x=\"132.705712\" xlink:href=\"#mb40d34d8e6\" y=\"92.01371\"/>\n     <use style=\"fill:#1f77b4;stroke:#1f77b4;\" x=\"152.272291\" xlink:href=\"#mb40d34d8e6\" y=\"110.743533\"/>\n     <use style=\"fill:#1f77b4;stroke:#1f77b4;\" x=\"117.70817\" xlink:href=\"#mb40d34d8e6\" y=\"72.042069\"/>\n     <use style=\"fill:#1f77b4;stroke:#1f77b4;\" x=\"127.365878\" xlink:href=\"#mb40d34d8e6\" y=\"79.926968\"/>\n     <use style=\"fill:#1f77b4;stroke:#1f77b4;\" x=\"165.770624\" xlink:href=\"#mb40d34d8e6\" y=\"89.255647\"/>\n     <use style=\"fill:#1f77b4;stroke:#1f77b4;\" x=\"137.130691\" xlink:href=\"#mb40d34d8e6\" y=\"76.900774\"/>\n     <use style=\"fill:#1f77b4;stroke:#1f77b4;\" x=\"83.04364\" xlink:href=\"#mb40d34d8e6\" y=\"56.619269\"/>\n     <use style=\"fill:#1f77b4;stroke:#1f77b4;\" x=\"119.604113\" xlink:href=\"#mb40d34d8e6\" y=\"47.657616\"/>\n     <use style=\"fill:#1f77b4;stroke:#1f77b4;\" x=\"96.88992\" xlink:href=\"#mb40d34d8e6\" y=\"62.812581\"/>\n     <use style=\"fill:#1f77b4;stroke:#1f77b4;\" x=\"127.82984\" xlink:href=\"#mb40d34d8e6\" y=\"80.478418\"/>\n     <use style=\"fill:#1f77b4;stroke:#1f77b4;\" x=\"94.449269\" xlink:href=\"#mb40d34d8e6\" y=\"63.876872\"/>\n     <use style=\"fill:#1f77b4;stroke:#1f77b4;\" x=\"64.96146\" xlink:href=\"#mb40d34d8e6\" y=\"18.139786\"/>\n     <use style=\"fill:#1f77b4;stroke:#1f77b4;\" x=\"182.030906\" xlink:href=\"#mb40d34d8e6\" y=\"85.12859\"/>\n     <use style=\"fill:#1f77b4;stroke:#1f77b4;\" x=\"138.297186\" xlink:href=\"#mb40d34d8e6\" y=\"75.249428\"/>\n     <use style=\"fill:#1f77b4;stroke:#1f77b4;\" x=\"119.156065\" xlink:href=\"#mb40d34d8e6\" y=\"70.079527\"/>\n     <use style=\"fill:#1f77b4;stroke:#1f77b4;\" x=\"145.489132\" xlink:href=\"#mb40d34d8e6\" y=\"75.009282\"/>\n     <use style=\"fill:#1f77b4;stroke:#1f77b4;\" x=\"118.196608\" xlink:href=\"#mb40d34d8e6\" y=\"58.421683\"/>\n     <use style=\"fill:#1f77b4;stroke:#1f77b4;\" x=\"119.066668\" xlink:href=\"#mb40d34d8e6\" y=\"93.694221\"/>\n     <use style=\"fill:#1f77b4;stroke:#1f77b4;\" x=\"106.991116\" xlink:href=\"#mb40d34d8e6\" y=\"48.002543\"/>\n     <use style=\"fill:#1f77b4;stroke:#1f77b4;\" x=\"146.714935\" xlink:href=\"#mb40d34d8e6\" y=\"108.14748\"/>\n     <use style=\"fill:#1f77b4;stroke:#1f77b4;\" x=\"118.253246\" xlink:href=\"#mb40d34d8e6\" y=\"70.885889\"/>\n     <use style=\"fill:#1f77b4;stroke:#1f77b4;\" x=\"76.535254\" xlink:href=\"#mb40d34d8e6\" y=\"31.519984\"/>\n     <use style=\"fill:#1f77b4;stroke:#1f77b4;\" x=\"92.542028\" xlink:href=\"#mb40d34d8e6\" y=\"49.534522\"/>\n     <use style=\"fill:#1f77b4;stroke:#1f77b4;\" x=\"173.149092\" xlink:href=\"#mb40d34d8e6\" y=\"80.879838\"/>\n     <use style=\"fill:#1f77b4;stroke:#1f77b4;\" x=\"189.01897\" xlink:href=\"#mb40d34d8e6\" y=\"114.876072\"/>\n     <use style=\"fill:#1f77b4;stroke:#1f77b4;\" x=\"152.218613\" xlink:href=\"#mb40d34d8e6\" y=\"98.488842\"/>\n     <use style=\"fill:#1f77b4;stroke:#1f77b4;\" x=\"142.407071\" xlink:href=\"#mb40d34d8e6\" y=\"97.299153\"/>\n     <use style=\"fill:#1f77b4;stroke:#1f77b4;\" x=\"113.611701\" xlink:href=\"#mb40d34d8e6\" y=\"63.683265\"/>\n     <use style=\"fill:#1f77b4;stroke:#1f77b4;\" x=\"129.347599\" xlink:href=\"#mb40d34d8e6\" y=\"110.454241\"/>\n     <use style=\"fill:#1f77b4;stroke:#1f77b4;\" x=\"112.082481\" xlink:href=\"#mb40d34d8e6\" y=\"61.001127\"/>\n     <use style=\"fill:#1f77b4;stroke:#1f77b4;\" x=\"74.100798\" xlink:href=\"#mb40d34d8e6\" y=\"59.908375\"/>\n     <use style=\"fill:#1f77b4;stroke:#1f77b4;\" x=\"163.740926\" xlink:href=\"#mb40d34d8e6\" y=\"79.799886\"/>\n     <use style=\"fill:#1f77b4;stroke:#1f77b4;\" x=\"80.411091\" xlink:href=\"#mb40d34d8e6\" y=\"53.436997\"/>\n     <use style=\"fill:#1f77b4;stroke:#1f77b4;\" x=\"131.562505\" xlink:href=\"#mb40d34d8e6\" y=\"70.579743\"/>\n     <use style=\"fill:#1f77b4;stroke:#1f77b4;\" x=\"141.671339\" xlink:href=\"#mb40d34d8e6\" y=\"87.732035\"/>\n     <use style=\"fill:#1f77b4;stroke:#1f77b4;\" x=\"105.910292\" xlink:href=\"#mb40d34d8e6\" y=\"77.424348\"/>\n     <use style=\"fill:#1f77b4;stroke:#1f77b4;\" x=\"120.851342\" xlink:href=\"#mb40d34d8e6\" y=\"77.714479\"/>\n     <use style=\"fill:#1f77b4;stroke:#1f77b4;\" x=\"123.656671\" xlink:href=\"#mb40d34d8e6\" y=\"61.098654\"/>\n     <use style=\"fill:#1f77b4;stroke:#1f77b4;\" x=\"81.115158\" xlink:href=\"#mb40d34d8e6\" y=\"51.315405\"/>\n     <use style=\"fill:#1f77b4;stroke:#1f77b4;\" x=\"82.120992\" xlink:href=\"#mb40d34d8e6\" y=\"34.540825\"/>\n     <use style=\"fill:#1f77b4;stroke:#1f77b4;\" x=\"116.367358\" xlink:href=\"#mb40d34d8e6\" y=\"88.331143\"/>\n     <use style=\"fill:#1f77b4;stroke:#1f77b4;\" x=\"126.419906\" xlink:href=\"#mb40d34d8e6\" y=\"85.740899\"/>\n     <use style=\"fill:#1f77b4;stroke:#1f77b4;\" x=\"104.223478\" xlink:href=\"#mb40d34d8e6\" y=\"68.049738\"/>\n     <use style=\"fill:#1f77b4;stroke:#1f77b4;\" x=\"160.044313\" xlink:href=\"#mb40d34d8e6\" y=\"84.184636\"/>\n     <use style=\"fill:#1f77b4;stroke:#1f77b4;\" x=\"138.740604\" xlink:href=\"#mb40d34d8e6\" y=\"76.178\"/>\n     <use style=\"fill:#1f77b4;stroke:#1f77b4;\" x=\"160.457447\" xlink:href=\"#mb40d34d8e6\" y=\"115.746812\"/>\n     <use style=\"fill:#1f77b4;stroke:#1f77b4;\" x=\"102.997887\" xlink:href=\"#mb40d34d8e6\" y=\"83.153083\"/>\n     <use style=\"fill:#1f77b4;stroke:#1f77b4;\" x=\"173.44776\" xlink:href=\"#mb40d34d8e6\" y=\"106.465618\"/>\n     <use style=\"fill:#1f77b4;stroke:#1f77b4;\" x=\"135.996729\" xlink:href=\"#mb40d34d8e6\" y=\"68.633296\"/>\n     <use style=\"fill:#1f77b4;stroke:#1f77b4;\" x=\"156.6714\" xlink:href=\"#mb40d34d8e6\" y=\"81.377196\"/>\n     <use style=\"fill:#1f77b4;stroke:#1f77b4;\" x=\"86.466118\" xlink:href=\"#mb40d34d8e6\" y=\"45.146728\"/>\n     <use style=\"fill:#1f77b4;stroke:#1f77b4;\" x=\"79.259702\" xlink:href=\"#mb40d34d8e6\" y=\"26.990375\"/>\n     <use style=\"fill:#1f77b4;stroke:#1f77b4;\" x=\"169.547183\" xlink:href=\"#mb40d34d8e6\" y=\"107.352085\"/>\n     <use style=\"fill:#1f77b4;stroke:#1f77b4;\" x=\"124.182542\" xlink:href=\"#mb40d34d8e6\" y=\"67.39135\"/>\n     <use style=\"fill:#1f77b4;stroke:#1f77b4;\" x=\"79.601093\" xlink:href=\"#mb40d34d8e6\" y=\"55.707091\"/>\n     <use style=\"fill:#1f77b4;stroke:#1f77b4;\" x=\"87.839627\" xlink:href=\"#mb40d34d8e6\" y=\"46.126242\"/>\n     <use style=\"fill:#1f77b4;stroke:#1f77b4;\" x=\"141.535585\" xlink:href=\"#mb40d34d8e6\" y=\"66.189242\"/>\n     <use style=\"fill:#1f77b4;stroke:#1f77b4;\" x=\"80.445008\" xlink:href=\"#mb40d34d8e6\" y=\"44.27083\"/>\n     <use style=\"fill:#1f77b4;stroke:#1f77b4;\" x=\"89.580706\" xlink:href=\"#mb40d34d8e6\" y=\"46.86169\"/>\n     <use style=\"fill:#1f77b4;stroke:#1f77b4;\" x=\"155.431448\" xlink:href=\"#mb40d34d8e6\" y=\"105.12741\"/>\n     <use style=\"fill:#1f77b4;stroke:#1f77b4;\" x=\"40.480375\" xlink:href=\"#mb40d34d8e6\" y=\"32.130372\"/>\n     <use style=\"fill:#1f77b4;stroke:#1f77b4;\" x=\"141.681398\" xlink:href=\"#mb40d34d8e6\" y=\"86.335537\"/>\n     <use style=\"fill:#1f77b4;stroke:#1f77b4;\" x=\"107.939572\" xlink:href=\"#mb40d34d8e6\" y=\"77.143114\"/>\n     <use style=\"fill:#1f77b4;stroke:#1f77b4;\" x=\"88.783172\" xlink:href=\"#mb40d34d8e6\" y=\"58.862044\"/>\n     <use style=\"fill:#1f77b4;stroke:#1f77b4;\" x=\"103.61292\" xlink:href=\"#mb40d34d8e6\" y=\"58.424457\"/>\n     <use style=\"fill:#1f77b4;stroke:#1f77b4;\" x=\"133.504548\" xlink:href=\"#mb40d34d8e6\" y=\"81.998882\"/>\n     <use style=\"fill:#1f77b4;stroke:#1f77b4;\" x=\"142.562013\" xlink:href=\"#mb40d34d8e6\" y=\"84.449545\"/>\n     <use style=\"fill:#1f77b4;stroke:#1f77b4;\" x=\"151.558247\" xlink:href=\"#mb40d34d8e6\" y=\"84.741925\"/>\n     <use style=\"fill:#1f77b4;stroke:#1f77b4;\" x=\"163.68012\" xlink:href=\"#mb40d34d8e6\" y=\"99.157602\"/>\n     <use style=\"fill:#1f77b4;stroke:#1f77b4;\" x=\"143.410104\" xlink:href=\"#mb40d34d8e6\" y=\"82.000683\"/>\n     <use style=\"fill:#1f77b4;stroke:#1f77b4;\" x=\"104.289086\" xlink:href=\"#mb40d34d8e6\" y=\"71.395029\"/>\n     <use style=\"fill:#1f77b4;stroke:#1f77b4;\" x=\"132.213813\" xlink:href=\"#mb40d34d8e6\" y=\"83.229102\"/>\n     <use style=\"fill:#1f77b4;stroke:#1f77b4;\" x=\"120.861493\" xlink:href=\"#mb40d34d8e6\" y=\"81.947448\"/>\n     <use style=\"fill:#1f77b4;stroke:#1f77b4;\" x=\"154.396572\" xlink:href=\"#mb40d34d8e6\" y=\"95.664345\"/>\n     <use style=\"fill:#1f77b4;stroke:#1f77b4;\" x=\"185.392132\" xlink:href=\"#mb40d34d8e6\" y=\"115.68973\"/>\n     <use style=\"fill:#1f77b4;stroke:#1f77b4;\" x=\"110.867338\" xlink:href=\"#mb40d34d8e6\" y=\"55.274282\"/>\n     <use style=\"fill:#1f77b4;stroke:#1f77b4;\" x=\"151.416863\" xlink:href=\"#mb40d34d8e6\" y=\"90.867968\"/>\n     <use style=\"fill:#1f77b4;stroke:#1f77b4;\" x=\"162.471805\" xlink:href=\"#mb40d34d8e6\" y=\"77.445347\"/>\n     <use style=\"fill:#1f77b4;stroke:#1f77b4;\" x=\"181.124758\" xlink:href=\"#mb40d34d8e6\" y=\"88.363557\"/>\n     <use style=\"fill:#1f77b4;stroke:#1f77b4;\" x=\"102.030086\" xlink:href=\"#mb40d34d8e6\" y=\"82.841969\"/>\n     <use style=\"fill:#1f77b4;stroke:#1f77b4;\" x=\"104.752554\" xlink:href=\"#mb40d34d8e6\" y=\"68.727764\"/>\n     <use style=\"fill:#1f77b4;stroke:#1f77b4;\" x=\"144.712573\" xlink:href=\"#mb40d34d8e6\" y=\"73.231785\"/>\n     <use style=\"fill:#1f77b4;stroke:#1f77b4;\" x=\"50.364438\" xlink:href=\"#mb40d34d8e6\" y=\"33.079039\"/>\n     <use style=\"fill:#1f77b4;stroke:#1f77b4;\" x=\"127.324465\" xlink:href=\"#mb40d34d8e6\" y=\"85.919702\"/>\n     <use style=\"fill:#1f77b4;stroke:#1f77b4;\" x=\"81.998816\" xlink:href=\"#mb40d34d8e6\" y=\"63.575787\"/>\n     <use style=\"fill:#1f77b4;stroke:#1f77b4;\" x=\"112.146475\" xlink:href=\"#mb40d34d8e6\" y=\"77.300324\"/>\n     <use style=\"fill:#1f77b4;stroke:#1f77b4;\" x=\"124.225505\" xlink:href=\"#mb40d34d8e6\" y=\"85.744214\"/>\n     <use style=\"fill:#1f77b4;stroke:#1f77b4;\" x=\"129.912821\" xlink:href=\"#mb40d34d8e6\" y=\"76.160835\"/>\n     <use style=\"fill:#1f77b4;stroke:#1f77b4;\" x=\"172.083497\" xlink:href=\"#mb40d34d8e6\" y=\"140.403586\"/>\n     <use style=\"fill:#1f77b4;stroke:#1f77b4;\" x=\"110.475922\" xlink:href=\"#mb40d34d8e6\" y=\"67.843914\"/>\n     <use style=\"fill:#1f77b4;stroke:#1f77b4;\" x=\"144.617587\" xlink:href=\"#mb40d34d8e6\" y=\"98.192657\"/>\n     <use style=\"fill:#1f77b4;stroke:#1f77b4;\" x=\"179.567318\" xlink:href=\"#mb40d34d8e6\" y=\"120.958342\"/>\n     <use style=\"fill:#1f77b4;stroke:#1f77b4;\" x=\"152.0027\" xlink:href=\"#mb40d34d8e6\" y=\"91.108427\"/>\n     <use style=\"fill:#1f77b4;stroke:#1f77b4;\" x=\"215.285317\" xlink:href=\"#mb40d34d8e6\" y=\"113.178612\"/>\n     <use style=\"fill:#1f77b4;stroke:#1f77b4;\" x=\"149.205756\" xlink:href=\"#mb40d34d8e6\" y=\"121.369423\"/>\n     <use style=\"fill:#1f77b4;stroke:#1f77b4;\" x=\"67.891483\" xlink:href=\"#mb40d34d8e6\" y=\"50.57955\"/>\n     <use style=\"fill:#1f77b4;stroke:#1f77b4;\" x=\"126.065227\" xlink:href=\"#mb40d34d8e6\" y=\"67.793915\"/>\n     <use style=\"fill:#1f77b4;stroke:#1f77b4;\" x=\"133.92819\" xlink:href=\"#mb40d34d8e6\" y=\"83.633831\"/>\n     <use style=\"fill:#1f77b4;stroke:#1f77b4;\" x=\"139.706603\" xlink:href=\"#mb40d34d8e6\" y=\"92.33386\"/>\n     <use style=\"fill:#1f77b4;stroke:#1f77b4;\" x=\"105.075099\" xlink:href=\"#mb40d34d8e6\" y=\"70.706829\"/>\n     <use style=\"fill:#1f77b4;stroke:#1f77b4;\" x=\"135.940998\" xlink:href=\"#mb40d34d8e6\" y=\"91.348144\"/>\n     <use style=\"fill:#1f77b4;stroke:#1f77b4;\" x=\"41.915351\" xlink:href=\"#mb40d34d8e6\" y=\"16.896414\"/>\n     <use style=\"fill:#1f77b4;stroke:#1f77b4;\" x=\"111.780042\" xlink:href=\"#mb40d34d8e6\" y=\"68.542688\"/>\n     <use style=\"fill:#1f77b4;stroke:#1f77b4;\" x=\"146.2718\" xlink:href=\"#mb40d34d8e6\" y=\"95.478641\"/>\n     <use style=\"fill:#1f77b4;stroke:#1f77b4;\" x=\"128.569867\" xlink:href=\"#mb40d34d8e6\" y=\"76.386598\"/>\n     <use style=\"fill:#1f77b4;stroke:#1f77b4;\" x=\"87.672968\" xlink:href=\"#mb40d34d8e6\" y=\"32.546956\"/>\n     <use style=\"fill:#1f77b4;stroke:#1f77b4;\" x=\"105.416258\" xlink:href=\"#mb40d34d8e6\" y=\"64.094572\"/>\n     <use style=\"fill:#1f77b4;stroke:#1f77b4;\" x=\"192.163776\" xlink:href=\"#mb40d34d8e6\" y=\"109.220168\"/>\n     <use style=\"fill:#1f77b4;stroke:#1f77b4;\" x=\"109.415503\" xlink:href=\"#mb40d34d8e6\" y=\"73.788066\"/>\n     <use style=\"fill:#1f77b4;stroke:#1f77b4;\" x=\"107.859\" xlink:href=\"#mb40d34d8e6\" y=\"67.089411\"/>\n     <use style=\"fill:#1f77b4;stroke:#1f77b4;\" x=\"90.026249\" xlink:href=\"#mb40d34d8e6\" y=\"67.972948\"/>\n     <use style=\"fill:#1f77b4;stroke:#1f77b4;\" x=\"168.542432\" xlink:href=\"#mb40d34d8e6\" y=\"109.445174\"/>\n     <use style=\"fill:#1f77b4;stroke:#1f77b4;\" x=\"49.646417\" xlink:href=\"#mb40d34d8e6\" y=\"32.053451\"/>\n     <use style=\"fill:#1f77b4;stroke:#1f77b4;\" x=\"117.630029\" xlink:href=\"#mb40d34d8e6\" y=\"71.664348\"/>\n     <use style=\"fill:#1f77b4;stroke:#1f77b4;\" x=\"112.705785\" xlink:href=\"#mb40d34d8e6\" y=\"58.863788\"/>\n     <use style=\"fill:#1f77b4;stroke:#1f77b4;\" x=\"138.010278\" xlink:href=\"#mb40d34d8e6\" y=\"68.009593\"/>\n     <use style=\"fill:#1f77b4;stroke:#1f77b4;\" x=\"198.420446\" xlink:href=\"#mb40d34d8e6\" y=\"111.777553\"/>\n     <use style=\"fill:#1f77b4;stroke:#1f77b4;\" x=\"105.993425\" xlink:href=\"#mb40d34d8e6\" y=\"50.411507\"/>\n     <use style=\"fill:#1f77b4;stroke:#1f77b4;\" x=\"77.200509\" xlink:href=\"#mb40d34d8e6\" y=\"66.038288\"/>\n     <use style=\"fill:#1f77b4;stroke:#1f77b4;\" x=\"129.065747\" xlink:href=\"#mb40d34d8e6\" y=\"74.653399\"/>\n     <use style=\"fill:#1f77b4;stroke:#1f77b4;\" x=\"84.908106\" xlink:href=\"#mb40d34d8e6\" y=\"62.260438\"/>\n     <use style=\"fill:#1f77b4;stroke:#1f77b4;\" x=\"64.805453\" xlink:href=\"#mb40d34d8e6\" y=\"34.25512\"/>\n     <use style=\"fill:#1f77b4;stroke:#1f77b4;\" x=\"152.553291\" xlink:href=\"#mb40d34d8e6\" y=\"71.962518\"/>\n     <use style=\"fill:#1f77b4;stroke:#1f77b4;\" x=\"170.673328\" xlink:href=\"#mb40d34d8e6\" y=\"96.96727\"/>\n     <use style=\"fill:#1f77b4;stroke:#1f77b4;\" x=\"116.695799\" xlink:href=\"#mb40d34d8e6\" y=\"83.958795\"/>\n     <use style=\"fill:#1f77b4;stroke:#1f77b4;\" x=\"105.013106\" xlink:href=\"#mb40d34d8e6\" y=\"61.703073\"/>\n     <use style=\"fill:#1f77b4;stroke:#1f77b4;\" x=\"122.52371\" xlink:href=\"#mb40d34d8e6\" y=\"75.455678\"/>\n     <use style=\"fill:#1f77b4;stroke:#1f77b4;\" x=\"130.75709\" xlink:href=\"#mb40d34d8e6\" y=\"77.344647\"/>\n     <use style=\"fill:#1f77b4;stroke:#1f77b4;\" x=\"98.916726\" xlink:href=\"#mb40d34d8e6\" y=\"80.683209\"/>\n     <use style=\"fill:#1f77b4;stroke:#1f77b4;\" x=\"136.842368\" xlink:href=\"#mb40d34d8e6\" y=\"82.979531\"/>\n     <use style=\"fill:#1f77b4;stroke:#1f77b4;\" x=\"176.332118\" xlink:href=\"#mb40d34d8e6\" y=\"115.062023\"/>\n     <use style=\"fill:#1f77b4;stroke:#1f77b4;\" x=\"124.166388\" xlink:href=\"#mb40d34d8e6\" y=\"79.935082\"/>\n     <use style=\"fill:#1f77b4;stroke:#1f77b4;\" x=\"109.911082\" xlink:href=\"#mb40d34d8e6\" y=\"73.37693\"/>\n     <use style=\"fill:#1f77b4;stroke:#1f77b4;\" x=\"125.429473\" xlink:href=\"#mb40d34d8e6\" y=\"88.497337\"/>\n     <use style=\"fill:#1f77b4;stroke:#1f77b4;\" x=\"123.439917\" xlink:href=\"#mb40d34d8e6\" y=\"67.602046\"/>\n     <use style=\"fill:#1f77b4;stroke:#1f77b4;\" x=\"110.21682\" xlink:href=\"#mb40d34d8e6\" y=\"73.750171\"/>\n     <use style=\"fill:#1f77b4;stroke:#1f77b4;\" x=\"116.869734\" xlink:href=\"#mb40d34d8e6\" y=\"74.8424\"/>\n     <use style=\"fill:#1f77b4;stroke:#1f77b4;\" x=\"121.091111\" xlink:href=\"#mb40d34d8e6\" y=\"73.376789\"/>\n     <use style=\"fill:#1f77b4;stroke:#1f77b4;\" x=\"148.531886\" xlink:href=\"#mb40d34d8e6\" y=\"75.523224\"/>\n     <use style=\"fill:#1f77b4;stroke:#1f77b4;\" x=\"150.869174\" xlink:href=\"#mb40d34d8e6\" y=\"81.608988\"/>\n     <use style=\"fill:#1f77b4;stroke:#1f77b4;\" x=\"161.121768\" xlink:href=\"#mb40d34d8e6\" y=\"118.142942\"/>\n     <use style=\"fill:#1f77b4;stroke:#1f77b4;\" x=\"117.760518\" xlink:href=\"#mb40d34d8e6\" y=\"73.220135\"/>\n     <use style=\"fill:#1f77b4;stroke:#1f77b4;\" x=\"176.679279\" xlink:href=\"#mb40d34d8e6\" y=\"112.201798\"/>\n     <use style=\"fill:#1f77b4;stroke:#1f77b4;\" x=\"131.481663\" xlink:href=\"#mb40d34d8e6\" y=\"76.422378\"/>\n     <use style=\"fill:#1f77b4;stroke:#1f77b4;\" x=\"180.956561\" xlink:href=\"#mb40d34d8e6\" y=\"103.802825\"/>\n     <use style=\"fill:#1f77b4;stroke:#1f77b4;\" x=\"94.42947\" xlink:href=\"#mb40d34d8e6\" y=\"61.753561\"/>\n     <use style=\"fill:#1f77b4;stroke:#1f77b4;\" x=\"137.000628\" xlink:href=\"#mb40d34d8e6\" y=\"79.221646\"/>\n     <use style=\"fill:#1f77b4;stroke:#1f77b4;\" x=\"129.371073\" xlink:href=\"#mb40d34d8e6\" y=\"69.906475\"/>\n     <use style=\"fill:#1f77b4;stroke:#1f77b4;\" x=\"165.895665\" xlink:href=\"#mb40d34d8e6\" y=\"110.727181\"/>\n     <use style=\"fill:#1f77b4;stroke:#1f77b4;\" x=\"131.882278\" xlink:href=\"#mb40d34d8e6\" y=\"81.118949\"/>\n     <use style=\"fill:#1f77b4;stroke:#1f77b4;\" x=\"101.67295\" xlink:href=\"#mb40d34d8e6\" y=\"79.475584\"/>\n     <use style=\"fill:#1f77b4;stroke:#1f77b4;\" x=\"83.175197\" xlink:href=\"#mb40d34d8e6\" y=\"53.490241\"/>\n     <use style=\"fill:#1f77b4;stroke:#1f77b4;\" x=\"145.936191\" xlink:href=\"#mb40d34d8e6\" y=\"82.768835\"/>\n     <use style=\"fill:#1f77b4;stroke:#1f77b4;\" x=\"138.565597\" xlink:href=\"#mb40d34d8e6\" y=\"90.892322\"/>\n     <use style=\"fill:#1f77b4;stroke:#1f77b4;\" x=\"122.055998\" xlink:href=\"#mb40d34d8e6\" y=\"47.266336\"/>\n     <use style=\"fill:#1f77b4;stroke:#1f77b4;\" x=\"176.670647\" xlink:href=\"#mb40d34d8e6\" y=\"109.560979\"/>\n     <use style=\"fill:#1f77b4;stroke:#1f77b4;\" x=\"95.053862\" xlink:href=\"#mb40d34d8e6\" y=\"46.722663\"/>\n     <use style=\"fill:#1f77b4;stroke:#1f77b4;\" x=\"167.723591\" xlink:href=\"#mb40d34d8e6\" y=\"107.490782\"/>\n     <use style=\"fill:#1f77b4;stroke:#1f77b4;\" x=\"119.291489\" xlink:href=\"#mb40d34d8e6\" y=\"70.681584\"/>\n     <use style=\"fill:#1f77b4;stroke:#1f77b4;\" x=\"68.231221\" xlink:href=\"#mb40d34d8e6\" y=\"40.150149\"/>\n     <use style=\"fill:#1f77b4;stroke:#1f77b4;\" x=\"158.718111\" xlink:href=\"#mb40d34d8e6\" y=\"81.134538\"/>\n     <use style=\"fill:#1f77b4;stroke:#1f77b4;\" x=\"130.669387\" xlink:href=\"#mb40d34d8e6\" y=\"90.567506\"/>\n     <use style=\"fill:#1f77b4;stroke:#1f77b4;\" x=\"119.203008\" xlink:href=\"#mb40d34d8e6\" y=\"47.230508\"/>\n     <use style=\"fill:#1f77b4;stroke:#1f77b4;\" x=\"77.366586\" xlink:href=\"#mb40d34d8e6\" y=\"41.068386\"/>\n     <use style=\"fill:#1f77b4;stroke:#1f77b4;\" x=\"140.819952\" xlink:href=\"#mb40d34d8e6\" y=\"92.557534\"/>\n     <use style=\"fill:#1f77b4;stroke:#1f77b4;\" x=\"97.886939\" xlink:href=\"#mb40d34d8e6\" y=\"55.506564\"/>\n     <use style=\"fill:#1f77b4;stroke:#1f77b4;\" x=\"127.078774\" xlink:href=\"#mb40d34d8e6\" y=\"69.910673\"/>\n     <use style=\"fill:#1f77b4;stroke:#1f77b4;\" x=\"60.54538\" xlink:href=\"#mb40d34d8e6\" y=\"43.127684\"/>\n     <use style=\"fill:#1f77b4;stroke:#1f77b4;\" x=\"163.427781\" xlink:href=\"#mb40d34d8e6\" y=\"118.93057\"/>\n     <use style=\"fill:#1f77b4;stroke:#1f77b4;\" x=\"176.718681\" xlink:href=\"#mb40d34d8e6\" y=\"121.147256\"/>\n     <use style=\"fill:#1f77b4;stroke:#1f77b4;\" x=\"153.44867\" xlink:href=\"#mb40d34d8e6\" y=\"102.587559\"/>\n     <use style=\"fill:#1f77b4;stroke:#1f77b4;\" x=\"118.532675\" xlink:href=\"#mb40d34d8e6\" y=\"45.855552\"/>\n     <use style=\"fill:#1f77b4;stroke:#1f77b4;\" x=\"97.714994\" xlink:href=\"#mb40d34d8e6\" y=\"58.78353\"/>\n     <use style=\"fill:#1f77b4;stroke:#1f77b4;\" x=\"111.554396\" xlink:href=\"#mb40d34d8e6\" y=\"69.044881\"/>\n     <use style=\"fill:#1f77b4;stroke:#1f77b4;\" x=\"131.030514\" xlink:href=\"#mb40d34d8e6\" y=\"66.69154\"/>\n     <use style=\"fill:#1f77b4;stroke:#1f77b4;\" x=\"99.47062\" xlink:href=\"#mb40d34d8e6\" y=\"63.845993\"/>\n     <use style=\"fill:#1f77b4;stroke:#1f77b4;\" x=\"110.628087\" xlink:href=\"#mb40d34d8e6\" y=\"68.01029\"/>\n     <use style=\"fill:#1f77b4;stroke:#1f77b4;\" x=\"140.189307\" xlink:href=\"#mb40d34d8e6\" y=\"93.045001\"/>\n     <use style=\"fill:#1f77b4;stroke:#1f77b4;\" x=\"82.315182\" xlink:href=\"#mb40d34d8e6\" y=\"41.364118\"/>\n     <use style=\"fill:#1f77b4;stroke:#1f77b4;\" x=\"89.252917\" xlink:href=\"#mb40d34d8e6\" y=\"57.240112\"/>\n     <use style=\"fill:#1f77b4;stroke:#1f77b4;\" x=\"127.612934\" xlink:href=\"#mb40d34d8e6\" y=\"88.197935\"/>\n     <use style=\"fill:#1f77b4;stroke:#1f77b4;\" x=\"155.953653\" xlink:href=\"#mb40d34d8e6\" y=\"85.475028\"/>\n     <use style=\"fill:#1f77b4;stroke:#1f77b4;\" x=\"142.842784\" xlink:href=\"#mb40d34d8e6\" y=\"82.296373\"/>\n     <use style=\"fill:#1f77b4;stroke:#1f77b4;\" x=\"174.597655\" xlink:href=\"#mb40d34d8e6\" y=\"91.596646\"/>\n     <use style=\"fill:#1f77b4;stroke:#1f77b4;\" x=\"94.038403\" xlink:href=\"#mb40d34d8e6\" y=\"74.110711\"/>\n     <use style=\"fill:#1f77b4;stroke:#1f77b4;\" x=\"157.435703\" xlink:href=\"#mb40d34d8e6\" y=\"86.765265\"/>\n     <use style=\"fill:#1f77b4;stroke:#1f77b4;\" x=\"190.539028\" xlink:href=\"#mb40d34d8e6\" y=\"96.812614\"/>\n     <use style=\"fill:#1f77b4;stroke:#1f77b4;\" x=\"125.655189\" xlink:href=\"#mb40d34d8e6\" y=\"73.933233\"/>\n     <use style=\"fill:#1f77b4;stroke:#1f77b4;\" x=\"122.464073\" xlink:href=\"#mb40d34d8e6\" y=\"63.923257\"/>\n     <use style=\"fill:#1f77b4;stroke:#1f77b4;\" x=\"122.53302\" xlink:href=\"#mb40d34d8e6\" y=\"102.028651\"/>\n     <use style=\"fill:#1f77b4;stroke:#1f77b4;\" x=\"140.401032\" xlink:href=\"#mb40d34d8e6\" y=\"83.228271\"/>\n     <use style=\"fill:#1f77b4;stroke:#1f77b4;\" x=\"182.665709\" xlink:href=\"#mb40d34d8e6\" y=\"86.663851\"/>\n     <use style=\"fill:#1f77b4;stroke:#1f77b4;\" x=\"134.121751\" xlink:href=\"#mb40d34d8e6\" y=\"79.670382\"/>\n     <use style=\"fill:#1f77b4;stroke:#1f77b4;\" x=\"80.147444\" xlink:href=\"#mb40d34d8e6\" y=\"55.567933\"/>\n     <use style=\"fill:#1f77b4;stroke:#1f77b4;\" x=\"156.023436\" xlink:href=\"#mb40d34d8e6\" y=\"104.023566\"/>\n     <use style=\"fill:#1f77b4;stroke:#1f77b4;\" x=\"88.203049\" xlink:href=\"#mb40d34d8e6\" y=\"64.346708\"/>\n     <use style=\"fill:#1f77b4;stroke:#1f77b4;\" x=\"141.055254\" xlink:href=\"#mb40d34d8e6\" y=\"94.285473\"/>\n     <use style=\"fill:#1f77b4;stroke:#1f77b4;\" x=\"61.290146\" xlink:href=\"#mb40d34d8e6\" y=\"36.874758\"/>\n     <use style=\"fill:#1f77b4;stroke:#1f77b4;\" x=\"150.662429\" xlink:href=\"#mb40d34d8e6\" y=\"100.339964\"/>\n     <use style=\"fill:#1f77b4;stroke:#1f77b4;\" x=\"145.008733\" xlink:href=\"#mb40d34d8e6\" y=\"73.133976\"/>\n     <use style=\"fill:#1f77b4;stroke:#1f77b4;\" x=\"61.722583\" xlink:href=\"#mb40d34d8e6\" y=\"39.365516\"/>\n     <use style=\"fill:#1f77b4;stroke:#1f77b4;\" x=\"136.900444\" xlink:href=\"#mb40d34d8e6\" y=\"87.957466\"/>\n     <use style=\"fill:#1f77b4;stroke:#1f77b4;\" x=\"137.423669\" xlink:href=\"#mb40d34d8e6\" y=\"88.426106\"/>\n     <use style=\"fill:#1f77b4;stroke:#1f77b4;\" x=\"119.084451\" xlink:href=\"#mb40d34d8e6\" y=\"92.34984\"/>\n     <use style=\"fill:#1f77b4;stroke:#1f77b4;\" x=\"103.052018\" xlink:href=\"#mb40d34d8e6\" y=\"61.82907\"/>\n     <use style=\"fill:#1f77b4;stroke:#1f77b4;\" x=\"105.24453\" xlink:href=\"#mb40d34d8e6\" y=\"65.743463\"/>\n     <use style=\"fill:#1f77b4;stroke:#1f77b4;\" x=\"106.514954\" xlink:href=\"#mb40d34d8e6\" y=\"62.962087\"/>\n     <use style=\"fill:#1f77b4;stroke:#1f77b4;\" x=\"54.396193\" xlink:href=\"#mb40d34d8e6\" y=\"31.451726\"/>\n     <use style=\"fill:#1f77b4;stroke:#1f77b4;\" x=\"127.543904\" xlink:href=\"#mb40d34d8e6\" y=\"84.61129\"/>\n     <use style=\"fill:#1f77b4;stroke:#1f77b4;\" x=\"131.656086\" xlink:href=\"#mb40d34d8e6\" y=\"71.405717\"/>\n     <use style=\"fill:#1f77b4;stroke:#1f77b4;\" x=\"141.675951\" xlink:href=\"#mb40d34d8e6\" y=\"92.932434\"/>\n     <use style=\"fill:#1f77b4;stroke:#1f77b4;\" x=\"112.594203\" xlink:href=\"#mb40d34d8e6\" y=\"66.683222\"/>\n     <use style=\"fill:#1f77b4;stroke:#1f77b4;\" x=\"122.575479\" xlink:href=\"#mb40d34d8e6\" y=\"57.750703\"/>\n     <use style=\"fill:#1f77b4;stroke:#1f77b4;\" x=\"71.404118\" xlink:href=\"#mb40d34d8e6\" y=\"49.581192\"/>\n     <use style=\"fill:#1f77b4;stroke:#1f77b4;\" x=\"133.155419\" xlink:href=\"#mb40d34d8e6\" y=\"86.2139\"/>\n     <use style=\"fill:#1f77b4;stroke:#1f77b4;\" x=\"108.449839\" xlink:href=\"#mb40d34d8e6\" y=\"59.670853\"/>\n     <use style=\"fill:#1f77b4;stroke:#1f77b4;\" x=\"102.008797\" xlink:href=\"#mb40d34d8e6\" y=\"42.701196\"/>\n     <use style=\"fill:#1f77b4;stroke:#1f77b4;\" x=\"116.535849\" xlink:href=\"#mb40d34d8e6\" y=\"72.096822\"/>\n     <use style=\"fill:#1f77b4;stroke:#1f77b4;\" x=\"112.438302\" xlink:href=\"#mb40d34d8e6\" y=\"70.668143\"/>\n     <use style=\"fill:#1f77b4;stroke:#1f77b4;\" x=\"147.185637\" xlink:href=\"#mb40d34d8e6\" y=\"96.464475\"/>\n     <use style=\"fill:#1f77b4;stroke:#1f77b4;\" x=\"114.1312\" xlink:href=\"#mb40d34d8e6\" y=\"68.624819\"/>\n     <use style=\"fill:#1f77b4;stroke:#1f77b4;\" x=\"143.685941\" xlink:href=\"#mb40d34d8e6\" y=\"68.326018\"/>\n     <use style=\"fill:#1f77b4;stroke:#1f77b4;\" x=\"130.005637\" xlink:href=\"#mb40d34d8e6\" y=\"82.077853\"/>\n     <use style=\"fill:#1f77b4;stroke:#1f77b4;\" x=\"105.193718\" xlink:href=\"#mb40d34d8e6\" y=\"66.711734\"/>\n     <use style=\"fill:#1f77b4;stroke:#1f77b4;\" x=\"165.291699\" xlink:href=\"#mb40d34d8e6\" y=\"93.36081\"/>\n     <use style=\"fill:#1f77b4;stroke:#1f77b4;\" x=\"132.501725\" xlink:href=\"#mb40d34d8e6\" y=\"74.816108\"/>\n     <use style=\"fill:#1f77b4;stroke:#1f77b4;\" x=\"128.811675\" xlink:href=\"#mb40d34d8e6\" y=\"78.490959\"/>\n     <use style=\"fill:#1f77b4;stroke:#1f77b4;\" x=\"134.368548\" xlink:href=\"#mb40d34d8e6\" y=\"85.570133\"/>\n     <use style=\"fill:#1f77b4;stroke:#1f77b4;\" x=\"83.009523\" xlink:href=\"#mb40d34d8e6\" y=\"59.642008\"/>\n     <use style=\"fill:#1f77b4;stroke:#1f77b4;\" x=\"74.207855\" xlink:href=\"#mb40d34d8e6\" y=\"32.386708\"/>\n     <use style=\"fill:#1f77b4;stroke:#1f77b4;\" x=\"106.505853\" xlink:href=\"#mb40d34d8e6\" y=\"71.457705\"/>\n     <use style=\"fill:#1f77b4;stroke:#1f77b4;\" x=\"140.37311\" xlink:href=\"#mb40d34d8e6\" y=\"70.283405\"/>\n     <use style=\"fill:#1f77b4;stroke:#1f77b4;\" x=\"100.502407\" xlink:href=\"#mb40d34d8e6\" y=\"54.074243\"/>\n     <use style=\"fill:#1f77b4;stroke:#1f77b4;\" x=\"164.963799\" xlink:href=\"#mb40d34d8e6\" y=\"100.029249\"/>\n     <use style=\"fill:#1f77b4;stroke:#1f77b4;\" x=\"127.127366\" xlink:href=\"#mb40d34d8e6\" y=\"84.333131\"/>\n     <use style=\"fill:#1f77b4;stroke:#1f77b4;\" x=\"114.922524\" xlink:href=\"#mb40d34d8e6\" y=\"66.790069\"/>\n     <use style=\"fill:#1f77b4;stroke:#1f77b4;\" x=\"160.867035\" xlink:href=\"#mb40d34d8e6\" y=\"97.176859\"/>\n     <use style=\"fill:#1f77b4;stroke:#1f77b4;\" x=\"132.42169\" xlink:href=\"#mb40d34d8e6\" y=\"75.082043\"/>\n     <use style=\"fill:#1f77b4;stroke:#1f77b4;\" x=\"181.718873\" xlink:href=\"#mb40d34d8e6\" y=\"122.645185\"/>\n     <use style=\"fill:#1f77b4;stroke:#1f77b4;\" x=\"118.868831\" xlink:href=\"#mb40d34d8e6\" y=\"64.299994\"/>\n     <use style=\"fill:#1f77b4;stroke:#1f77b4;\" x=\"92.572416\" xlink:href=\"#mb40d34d8e6\" y=\"65.217265\"/>\n     <use style=\"fill:#1f77b4;stroke:#1f77b4;\" x=\"127.631481\" xlink:href=\"#mb40d34d8e6\" y=\"78.85205\"/>\n     <use style=\"fill:#1f77b4;stroke:#1f77b4;\" x=\"126.666965\" xlink:href=\"#mb40d34d8e6\" y=\"74.591169\"/>\n     <use style=\"fill:#1f77b4;stroke:#1f77b4;\" x=\"151.144738\" xlink:href=\"#mb40d34d8e6\" y=\"102.452877\"/>\n     <use style=\"fill:#1f77b4;stroke:#1f77b4;\" x=\"113.617615\" xlink:href=\"#mb40d34d8e6\" y=\"71.653154\"/>\n     <use style=\"fill:#1f77b4;stroke:#1f77b4;\" x=\"123.605099\" xlink:href=\"#mb40d34d8e6\" y=\"73.226171\"/>\n     <use style=\"fill:#1f77b4;stroke:#1f77b4;\" x=\"145.26604\" xlink:href=\"#mb40d34d8e6\" y=\"72.433902\"/>\n     <use style=\"fill:#1f77b4;stroke:#1f77b4;\" x=\"85.776798\" xlink:href=\"#mb40d34d8e6\" y=\"47.315631\"/>\n     <use style=\"fill:#1f77b4;stroke:#1f77b4;\" x=\"141.983075\" xlink:href=\"#mb40d34d8e6\" y=\"74.674566\"/>\n     <use style=\"fill:#1f77b4;stroke:#1f77b4;\" x=\"106.072224\" xlink:href=\"#mb40d34d8e6\" y=\"62.701992\"/>\n     <use style=\"fill:#1f77b4;stroke:#1f77b4;\" x=\"93.132885\" xlink:href=\"#mb40d34d8e6\" y=\"81.206722\"/>\n     <use style=\"fill:#1f77b4;stroke:#1f77b4;\" x=\"165.83729\" xlink:href=\"#mb40d34d8e6\" y=\"94.969173\"/>\n     <use style=\"fill:#1f77b4;stroke:#1f77b4;\" x=\"174.437537\" xlink:href=\"#mb40d34d8e6\" y=\"100.928684\"/>\n     <use style=\"fill:#1f77b4;stroke:#1f77b4;\" x=\"108.1059\" xlink:href=\"#mb40d34d8e6\" y=\"67.662708\"/>\n     <use style=\"fill:#1f77b4;stroke:#1f77b4;\" x=\"53.673546\" xlink:href=\"#mb40d34d8e6\" y=\"34.949153\"/>\n     <use style=\"fill:#1f77b4;stroke:#1f77b4;\" x=\"108.959307\" xlink:href=\"#mb40d34d8e6\" y=\"51.172235\"/>\n     <use style=\"fill:#1f77b4;stroke:#1f77b4;\" x=\"146.19948\" xlink:href=\"#mb40d34d8e6\" y=\"94.136424\"/>\n     <use style=\"fill:#1f77b4;stroke:#1f77b4;\" x=\"131.967536\" xlink:href=\"#mb40d34d8e6\" y=\"83.09291\"/>\n     <use style=\"fill:#1f77b4;stroke:#1f77b4;\" x=\"105.626694\" xlink:href=\"#mb40d34d8e6\" y=\"69.554289\"/>\n     <use style=\"fill:#1f77b4;stroke:#1f77b4;\" x=\"114.469963\" xlink:href=\"#mb40d34d8e6\" y=\"49.245017\"/>\n     <use style=\"fill:#1f77b4;stroke:#1f77b4;\" x=\"106.73395\" xlink:href=\"#mb40d34d8e6\" y=\"71.896471\"/>\n     <use style=\"fill:#1f77b4;stroke:#1f77b4;\" x=\"154.89877\" xlink:href=\"#mb40d34d8e6\" y=\"94.666449\"/>\n     <use style=\"fill:#1f77b4;stroke:#1f77b4;\" x=\"77.163119\" xlink:href=\"#mb40d34d8e6\" y=\"39.217434\"/>\n     <use style=\"fill:#1f77b4;stroke:#1f77b4;\" x=\"100.48172\" xlink:href=\"#mb40d34d8e6\" y=\"59.316022\"/>\n     <use style=\"fill:#1f77b4;stroke:#1f77b4;\" x=\"109.800262\" xlink:href=\"#mb40d34d8e6\" y=\"57.853557\"/>\n     <use style=\"fill:#1f77b4;stroke:#1f77b4;\" x=\"118.260369\" xlink:href=\"#mb40d34d8e6\" y=\"95.099185\"/>\n     <use style=\"fill:#1f77b4;stroke:#1f77b4;\" x=\"113.178705\" xlink:href=\"#mb40d34d8e6\" y=\"61.495942\"/>\n     <use style=\"fill:#1f77b4;stroke:#1f77b4;\" x=\"99.025024\" xlink:href=\"#mb40d34d8e6\" y=\"62.16558\"/>\n     <use style=\"fill:#1f77b4;stroke:#1f77b4;\" x=\"82.108913\" xlink:href=\"#mb40d34d8e6\" y=\"70.556557\"/>\n     <use style=\"fill:#1f77b4;stroke:#1f77b4;\" x=\"137.076011\" xlink:href=\"#mb40d34d8e6\" y=\"75.863308\"/>\n     <use style=\"fill:#1f77b4;stroke:#1f77b4;\" x=\"179.996541\" xlink:href=\"#mb40d34d8e6\" y=\"107.59845\"/>\n     <use style=\"fill:#1f77b4;stroke:#1f77b4;\" x=\"72.088423\" xlink:href=\"#mb40d34d8e6\" y=\"17.170901\"/>\n     <use style=\"fill:#1f77b4;stroke:#1f77b4;\" x=\"130.415276\" xlink:href=\"#mb40d34d8e6\" y=\"84.742342\"/>\n     <use style=\"fill:#1f77b4;stroke:#1f77b4;\" x=\"177.102006\" xlink:href=\"#mb40d34d8e6\" y=\"93.760022\"/>\n     <use style=\"fill:#1f77b4;stroke:#1f77b4;\" x=\"145.052222\" xlink:href=\"#mb40d34d8e6\" y=\"65.63119\"/>\n     <use style=\"fill:#1f77b4;stroke:#1f77b4;\" x=\"175.14421\" xlink:href=\"#mb40d34d8e6\" y=\"102.934093\"/>\n     <use style=\"fill:#1f77b4;stroke:#1f77b4;\" x=\"116.17029\" xlink:href=\"#mb40d34d8e6\" y=\"74.01625\"/>\n     <use style=\"fill:#1f77b4;stroke:#1f77b4;\" x=\"106.532284\" xlink:href=\"#mb40d34d8e6\" y=\"63.019759\"/>\n     <use style=\"fill:#1f77b4;stroke:#1f77b4;\" x=\"119.374062\" xlink:href=\"#mb40d34d8e6\" y=\"67.562965\"/>\n     <use style=\"fill:#1f77b4;stroke:#1f77b4;\" x=\"127.596235\" xlink:href=\"#mb40d34d8e6\" y=\"89.886799\"/>\n     <use style=\"fill:#1f77b4;stroke:#1f77b4;\" x=\"134.763699\" xlink:href=\"#mb40d34d8e6\" y=\"97.15813\"/>\n     <use style=\"fill:#1f77b4;stroke:#1f77b4;\" x=\"157.035922\" xlink:href=\"#mb40d34d8e6\" y=\"91.664402\"/>\n     <use style=\"fill:#1f77b4;stroke:#1f77b4;\" x=\"98.063041\" xlink:href=\"#mb40d34d8e6\" y=\"63.174542\"/>\n     <use style=\"fill:#1f77b4;stroke:#1f77b4;\" x=\"140.709635\" xlink:href=\"#mb40d34d8e6\" y=\"90.31088\"/>\n     <use style=\"fill:#1f77b4;stroke:#1f77b4;\" x=\"114.971588\" xlink:href=\"#mb40d34d8e6\" y=\"72.613057\"/>\n     <use style=\"fill:#1f77b4;stroke:#1f77b4;\" x=\"153.154628\" xlink:href=\"#mb40d34d8e6\" y=\"106.323257\"/>\n     <use style=\"fill:#1f77b4;stroke:#1f77b4;\" x=\"89.802975\" xlink:href=\"#mb40d34d8e6\" y=\"69.520619\"/>\n     <use style=\"fill:#1f77b4;stroke:#1f77b4;\" x=\"102.220944\" xlink:href=\"#mb40d34d8e6\" y=\"48.123772\"/>\n     <use style=\"fill:#1f77b4;stroke:#1f77b4;\" x=\"91.856238\" xlink:href=\"#mb40d34d8e6\" y=\"65.076663\"/>\n     <use style=\"fill:#1f77b4;stroke:#1f77b4;\" x=\"118.466451\" xlink:href=\"#mb40d34d8e6\" y=\"69.588289\"/>\n     <use style=\"fill:#1f77b4;stroke:#1f77b4;\" x=\"175.866702\" xlink:href=\"#mb40d34d8e6\" y=\"110.540142\"/>\n     <use style=\"fill:#1f77b4;stroke:#1f77b4;\" x=\"176.766412\" xlink:href=\"#mb40d34d8e6\" y=\"111.969835\"/>\n     <use style=\"fill:#1f77b4;stroke:#1f77b4;\" x=\"146.226651\" xlink:href=\"#mb40d34d8e6\" y=\"90.714691\"/>\n     <use style=\"fill:#1f77b4;stroke:#1f77b4;\" x=\"72.278328\" xlink:href=\"#mb40d34d8e6\" y=\"29.757936\"/>\n     <use style=\"fill:#1f77b4;stroke:#1f77b4;\" x=\"111.330014\" xlink:href=\"#mb40d34d8e6\" y=\"81.073555\"/>\n     <use style=\"fill:#1f77b4;stroke:#1f77b4;\" x=\"138.840372\" xlink:href=\"#mb40d34d8e6\" y=\"95.64237\"/>\n     <use style=\"fill:#1f77b4;stroke:#1f77b4;\" x=\"131.918032\" xlink:href=\"#mb40d34d8e6\" y=\"79.534815\"/>\n     <use style=\"fill:#1f77b4;stroke:#1f77b4;\" x=\"114.585881\" xlink:href=\"#mb40d34d8e6\" y=\"61.81556\"/>\n     <use style=\"fill:#1f77b4;stroke:#1f77b4;\" x=\"133.718821\" xlink:href=\"#mb40d34d8e6\" y=\"68.003569\"/>\n     <use style=\"fill:#1f77b4;stroke:#1f77b4;\" x=\"110.166743\" xlink:href=\"#mb40d34d8e6\" y=\"64.193052\"/>\n     <use style=\"fill:#1f77b4;stroke:#1f77b4;\" x=\"140.836897\" xlink:href=\"#mb40d34d8e6\" y=\"90.348486\"/>\n     <use style=\"fill:#1f77b4;stroke:#1f77b4;\" x=\"121.474911\" xlink:href=\"#mb40d34d8e6\" y=\"62.666528\"/>\n     <use style=\"fill:#1f77b4;stroke:#1f77b4;\" x=\"130.202285\" xlink:href=\"#mb40d34d8e6\" y=\"80.146378\"/>\n     <use style=\"fill:#1f77b4;stroke:#1f77b4;\" x=\"104.136822\" xlink:href=\"#mb40d34d8e6\" y=\"65.769827\"/>\n     <use style=\"fill:#1f77b4;stroke:#1f77b4;\" x=\"143.261808\" xlink:href=\"#mb40d34d8e6\" y=\"103.041897\"/>\n     <use style=\"fill:#1f77b4;stroke:#1f77b4;\" x=\"142.565106\" xlink:href=\"#mb40d34d8e6\" y=\"80.272724\"/>\n     <use style=\"fill:#1f77b4;stroke:#1f77b4;\" x=\"146.853193\" xlink:href=\"#mb40d34d8e6\" y=\"95.190656\"/>\n     <use style=\"fill:#1f77b4;stroke:#1f77b4;\" x=\"124.561592\" xlink:href=\"#mb40d34d8e6\" y=\"79.496923\"/>\n     <use style=\"fill:#1f77b4;stroke:#1f77b4;\" x=\"161.245719\" xlink:href=\"#mb40d34d8e6\" y=\"75.08462\"/>\n     <use style=\"fill:#1f77b4;stroke:#1f77b4;\" x=\"134.675205\" xlink:href=\"#mb40d34d8e6\" y=\"84.145737\"/>\n     <use style=\"fill:#1f77b4;stroke:#1f77b4;\" x=\"167.665775\" xlink:href=\"#mb40d34d8e6\" y=\"93.401988\"/>\n     <use style=\"fill:#1f77b4;stroke:#1f77b4;\" x=\"103.010377\" xlink:href=\"#mb40d34d8e6\" y=\"56.394338\"/>\n     <use style=\"fill:#1f77b4;stroke:#1f77b4;\" x=\"123.623321\" xlink:href=\"#mb40d34d8e6\" y=\"72.738079\"/>\n     <use style=\"fill:#1f77b4;stroke:#1f77b4;\" x=\"114.896073\" xlink:href=\"#mb40d34d8e6\" y=\"71.911257\"/>\n     <use style=\"fill:#1f77b4;stroke:#1f77b4;\" x=\"47.990914\" xlink:href=\"#mb40d34d8e6\" y=\"27.62583\"/>\n     <use style=\"fill:#1f77b4;stroke:#1f77b4;\" x=\"56.790132\" xlink:href=\"#mb40d34d8e6\" y=\"36.461464\"/>\n     <use style=\"fill:#1f77b4;stroke:#1f77b4;\" x=\"81.644609\" xlink:href=\"#mb40d34d8e6\" y=\"44.944906\"/>\n     <use style=\"fill:#1f77b4;stroke:#1f77b4;\" x=\"105.268651\" xlink:href=\"#mb40d34d8e6\" y=\"62.783324\"/>\n     <use style=\"fill:#1f77b4;stroke:#1f77b4;\" x=\"169.754267\" xlink:href=\"#mb40d34d8e6\" y=\"102.348261\"/>\n     <use style=\"fill:#1f77b4;stroke:#1f77b4;\" x=\"65.513789\" xlink:href=\"#mb40d34d8e6\" y=\"44.742022\"/>\n     <use style=\"fill:#1f77b4;stroke:#1f77b4;\" x=\"143.991671\" xlink:href=\"#mb40d34d8e6\" y=\"94.213002\"/>\n     <use style=\"fill:#1f77b4;stroke:#1f77b4;\" x=\"122.351433\" xlink:href=\"#mb40d34d8e6\" y=\"61.417311\"/>\n     <use style=\"fill:#1f77b4;stroke:#1f77b4;\" x=\"128.86068\" xlink:href=\"#mb40d34d8e6\" y=\"62.494933\"/>\n     <use style=\"fill:#1f77b4;stroke:#1f77b4;\" x=\"65.786291\" xlink:href=\"#mb40d34d8e6\" y=\"37.586598\"/>\n     <use style=\"fill:#1f77b4;stroke:#1f77b4;\" x=\"122.266839\" xlink:href=\"#mb40d34d8e6\" y=\"91.598693\"/>\n     <use style=\"fill:#1f77b4;stroke:#1f77b4;\" x=\"126.872749\" xlink:href=\"#mb40d34d8e6\" y=\"79.303009\"/>\n     <use style=\"fill:#1f77b4;stroke:#1f77b4;\" x=\"172.104401\" xlink:href=\"#mb40d34d8e6\" y=\"107.367276\"/>\n     <use style=\"fill:#1f77b4;stroke:#1f77b4;\" x=\"145.866588\" xlink:href=\"#mb40d34d8e6\" y=\"83.914418\"/>\n     <use style=\"fill:#1f77b4;stroke:#1f77b4;\" x=\"135.809865\" xlink:href=\"#mb40d34d8e6\" y=\"82.631314\"/>\n     <use style=\"fill:#1f77b4;stroke:#1f77b4;\" x=\"120.375942\" xlink:href=\"#mb40d34d8e6\" y=\"63.588744\"/>\n     <use style=\"fill:#1f77b4;stroke:#1f77b4;\" x=\"143.125474\" xlink:href=\"#mb40d34d8e6\" y=\"95.611207\"/>\n     <use style=\"fill:#1f77b4;stroke:#1f77b4;\" x=\"168.066197\" xlink:href=\"#mb40d34d8e6\" y=\"99.535729\"/>\n     <use style=\"fill:#1f77b4;stroke:#1f77b4;\" x=\"161.678882\" xlink:href=\"#mb40d34d8e6\" y=\"96.033152\"/>\n     <use style=\"fill:#1f77b4;stroke:#1f77b4;\" x=\"112.600594\" xlink:href=\"#mb40d34d8e6\" y=\"79.411094\"/>\n     <use style=\"fill:#1f77b4;stroke:#1f77b4;\" x=\"140.342496\" xlink:href=\"#mb40d34d8e6\" y=\"80.644311\"/>\n     <use style=\"fill:#1f77b4;stroke:#1f77b4;\" x=\"125.228132\" xlink:href=\"#mb40d34d8e6\" y=\"80.273082\"/>\n     <use style=\"fill:#1f77b4;stroke:#1f77b4;\" x=\"120.963148\" xlink:href=\"#mb40d34d8e6\" y=\"64.105183\"/>\n     <use style=\"fill:#1f77b4;stroke:#1f77b4;\" x=\"82.318043\" xlink:href=\"#mb40d34d8e6\" y=\"64.060086\"/>\n     <use style=\"fill:#1f77b4;stroke:#1f77b4;\" x=\"110.995641\" xlink:href=\"#mb40d34d8e6\" y=\"62.962211\"/>\n     <use style=\"fill:#1f77b4;stroke:#1f77b4;\" x=\"134.568058\" xlink:href=\"#mb40d34d8e6\" y=\"106.699662\"/>\n     <use style=\"fill:#1f77b4;stroke:#1f77b4;\" x=\"132.410014\" xlink:href=\"#mb40d34d8e6\" y=\"94.917347\"/>\n     <use style=\"fill:#1f77b4;stroke:#1f77b4;\" x=\"126.784978\" xlink:href=\"#mb40d34d8e6\" y=\"76.726839\"/>\n     <use style=\"fill:#1f77b4;stroke:#1f77b4;\" x=\"130.407145\" xlink:href=\"#mb40d34d8e6\" y=\"88.290548\"/>\n     <use style=\"fill:#1f77b4;stroke:#1f77b4;\" x=\"170.239738\" xlink:href=\"#mb40d34d8e6\" y=\"97.215137\"/>\n     <use style=\"fill:#1f77b4;stroke:#1f77b4;\" x=\"79.54002\" xlink:href=\"#mb40d34d8e6\" y=\"55.32213\"/>\n     <use style=\"fill:#1f77b4;stroke:#1f77b4;\" x=\"108.390759\" xlink:href=\"#mb40d34d8e6\" y=\"65.063036\"/>\n     <use style=\"fill:#1f77b4;stroke:#1f77b4;\" x=\"134.172943\" xlink:href=\"#mb40d34d8e6\" y=\"87.936162\"/>\n     <use style=\"fill:#1f77b4;stroke:#1f77b4;\" x=\"128.794593\" xlink:href=\"#mb40d34d8e6\" y=\"59.978947\"/>\n     <use style=\"fill:#1f77b4;stroke:#1f77b4;\" x=\"157.493633\" xlink:href=\"#mb40d34d8e6\" y=\"92.574983\"/>\n     <use style=\"fill:#1f77b4;stroke:#1f77b4;\" x=\"117.054573\" xlink:href=\"#mb40d34d8e6\" y=\"68.350732\"/>\n     <use style=\"fill:#1f77b4;stroke:#1f77b4;\" x=\"126.144023\" xlink:href=\"#mb40d34d8e6\" y=\"70.537067\"/>\n     <use style=\"fill:#1f77b4;stroke:#1f77b4;\" x=\"106.081594\" xlink:href=\"#mb40d34d8e6\" y=\"50.379385\"/>\n     <use style=\"fill:#1f77b4;stroke:#1f77b4;\" x=\"95.188007\" xlink:href=\"#mb40d34d8e6\" y=\"58.664581\"/>\n     <use style=\"fill:#1f77b4;stroke:#1f77b4;\" x=\"114.826659\" xlink:href=\"#mb40d34d8e6\" y=\"61.620017\"/>\n     <use style=\"fill:#1f77b4;stroke:#1f77b4;\" x=\"203.454136\" xlink:href=\"#mb40d34d8e6\" y=\"112.169983\"/>\n     <use style=\"fill:#1f77b4;stroke:#1f77b4;\" x=\"128.743681\" xlink:href=\"#mb40d34d8e6\" y=\"81.525695\"/>\n     <use style=\"fill:#1f77b4;stroke:#1f77b4;\" x=\"120.353099\" xlink:href=\"#mb40d34d8e6\" y=\"60.403589\"/>\n     <use style=\"fill:#1f77b4;stroke:#1f77b4;\" x=\"132.901136\" xlink:href=\"#mb40d34d8e6\" y=\"76.822847\"/>\n     <use style=\"fill:#1f77b4;stroke:#1f77b4;\" x=\"126.724309\" xlink:href=\"#mb40d34d8e6\" y=\"59.448839\"/>\n     <use style=\"fill:#1f77b4;stroke:#1f77b4;\" x=\"104.395564\" xlink:href=\"#mb40d34d8e6\" y=\"51.030519\"/>\n     <use style=\"fill:#1f77b4;stroke:#1f77b4;\" x=\"136.67917\" xlink:href=\"#mb40d34d8e6\" y=\"68.589712\"/>\n     <use style=\"fill:#1f77b4;stroke:#1f77b4;\" x=\"92.820331\" xlink:href=\"#mb40d34d8e6\" y=\"56.26041\"/>\n     <use style=\"fill:#1f77b4;stroke:#1f77b4;\" x=\"128.117944\" xlink:href=\"#mb40d34d8e6\" y=\"66.719206\"/>\n     <use style=\"fill:#1f77b4;stroke:#1f77b4;\" x=\"139.161805\" xlink:href=\"#mb40d34d8e6\" y=\"60.243331\"/>\n     <use style=\"fill:#1f77b4;stroke:#1f77b4;\" x=\"136.018306\" xlink:href=\"#mb40d34d8e6\" y=\"102.566247\"/>\n     <use style=\"fill:#1f77b4;stroke:#1f77b4;\" x=\"102.556816\" xlink:href=\"#mb40d34d8e6\" y=\"77.283153\"/>\n     <use style=\"fill:#1f77b4;stroke:#1f77b4;\" x=\"123.843003\" xlink:href=\"#mb40d34d8e6\" y=\"68.430489\"/>\n     <use style=\"fill:#1f77b4;stroke:#1f77b4;\" x=\"78.848662\" xlink:href=\"#mb40d34d8e6\" y=\"38.293501\"/>\n     <use style=\"fill:#1f77b4;stroke:#1f77b4;\" x=\"85.229372\" xlink:href=\"#mb40d34d8e6\" y=\"44.989973\"/>\n     <use style=\"fill:#1f77b4;stroke:#1f77b4;\" x=\"138.664923\" xlink:href=\"#mb40d34d8e6\" y=\"78.867779\"/>\n     <use style=\"fill:#1f77b4;stroke:#1f77b4;\" x=\"107.600649\" xlink:href=\"#mb40d34d8e6\" y=\"71.177077\"/>\n     <use style=\"fill:#1f77b4;stroke:#1f77b4;\" x=\"116.102971\" xlink:href=\"#mb40d34d8e6\" y=\"76.121221\"/>\n     <use style=\"fill:#1f77b4;stroke:#1f77b4;\" x=\"114.051319\" xlink:href=\"#mb40d34d8e6\" y=\"61.297658\"/>\n     <use style=\"fill:#1f77b4;stroke:#1f77b4;\" x=\"146.207032\" xlink:href=\"#mb40d34d8e6\" y=\"83.730859\"/>\n     <use style=\"fill:#1f77b4;stroke:#1f77b4;\" x=\"92.556395\" xlink:href=\"#mb40d34d8e6\" y=\"71.503281\"/>\n     <use style=\"fill:#1f77b4;stroke:#1f77b4;\" x=\"143.847919\" xlink:href=\"#mb40d34d8e6\" y=\"77.561607\"/>\n     <use style=\"fill:#1f77b4;stroke:#1f77b4;\" x=\"160.650755\" xlink:href=\"#mb40d34d8e6\" y=\"97.379723\"/>\n     <use style=\"fill:#1f77b4;stroke:#1f77b4;\" x=\"162.231331\" xlink:href=\"#mb40d34d8e6\" y=\"88.289047\"/>\n     <use style=\"fill:#1f77b4;stroke:#1f77b4;\" x=\"132.569332\" xlink:href=\"#mb40d34d8e6\" y=\"67.215317\"/>\n     <use style=\"fill:#1f77b4;stroke:#1f77b4;\" x=\"147.120353\" xlink:href=\"#mb40d34d8e6\" y=\"109.953717\"/>\n     <use style=\"fill:#1f77b4;stroke:#1f77b4;\" x=\"90.159566\" xlink:href=\"#mb40d34d8e6\" y=\"44.475361\"/>\n     <use style=\"fill:#1f77b4;stroke:#1f77b4;\" x=\"79.580838\" xlink:href=\"#mb40d34d8e6\" y=\"58.631427\"/>\n     <use style=\"fill:#1f77b4;stroke:#1f77b4;\" x=\"120.299176\" xlink:href=\"#mb40d34d8e6\" y=\"61.560938\"/>\n     <use style=\"fill:#1f77b4;stroke:#1f77b4;\" x=\"102.870309\" xlink:href=\"#mb40d34d8e6\" y=\"54.644568\"/>\n     <use style=\"fill:#1f77b4;stroke:#1f77b4;\" x=\"133.228876\" xlink:href=\"#mb40d34d8e6\" y=\"80.375359\"/>\n     <use style=\"fill:#1f77b4;stroke:#1f77b4;\" x=\"133.043908\" xlink:href=\"#mb40d34d8e6\" y=\"57.950486\"/>\n     <use style=\"fill:#1f77b4;stroke:#1f77b4;\" x=\"143.633304\" xlink:href=\"#mb40d34d8e6\" y=\"86.650444\"/>\n     <use style=\"fill:#1f77b4;stroke:#1f77b4;\" x=\"128.452724\" xlink:href=\"#mb40d34d8e6\" y=\"75.402917\"/>\n     <use style=\"fill:#1f77b4;stroke:#1f77b4;\" x=\"111.584418\" xlink:href=\"#mb40d34d8e6\" y=\"67.004487\"/>\n     <use style=\"fill:#1f77b4;stroke:#1f77b4;\" x=\"178.307896\" xlink:href=\"#mb40d34d8e6\" y=\"96.161882\"/>\n     <use style=\"fill:#1f77b4;stroke:#1f77b4;\" x=\"113.896259\" xlink:href=\"#mb40d34d8e6\" y=\"55.778661\"/>\n     <use style=\"fill:#1f77b4;stroke:#1f77b4;\" x=\"134.491924\" xlink:href=\"#mb40d34d8e6\" y=\"81.8521\"/>\n     <use style=\"fill:#1f77b4;stroke:#1f77b4;\" x=\"43.550876\" xlink:href=\"#mb40d34d8e6\" y=\"22.733123\"/>\n     <use style=\"fill:#1f77b4;stroke:#1f77b4;\" x=\"120.528478\" xlink:href=\"#mb40d34d8e6\" y=\"76.008383\"/>\n     <use style=\"fill:#1f77b4;stroke:#1f77b4;\" x=\"58.857587\" xlink:href=\"#mb40d34d8e6\" y=\"30.351638\"/>\n     <use style=\"fill:#1f77b4;stroke:#1f77b4;\" x=\"149.995793\" xlink:href=\"#mb40d34d8e6\" y=\"93.93534\"/>\n     <use style=\"fill:#1f77b4;stroke:#1f77b4;\" x=\"107.612389\" xlink:href=\"#mb40d34d8e6\" y=\"70.495987\"/>\n     <use style=\"fill:#1f77b4;stroke:#1f77b4;\" x=\"130.435993\" xlink:href=\"#mb40d34d8e6\" y=\"81.806563\"/>\n     <use style=\"fill:#1f77b4;stroke:#1f77b4;\" x=\"105.148727\" xlink:href=\"#mb40d34d8e6\" y=\"84.370764\"/>\n     <use style=\"fill:#1f77b4;stroke:#1f77b4;\" x=\"162.980552\" xlink:href=\"#mb40d34d8e6\" y=\"94.615333\"/>\n     <use style=\"fill:#1f77b4;stroke:#1f77b4;\" x=\"109.742521\" xlink:href=\"#mb40d34d8e6\" y=\"54.529648\"/>\n     <use style=\"fill:#1f77b4;stroke:#1f77b4;\" x=\"59.271029\" xlink:href=\"#mb40d34d8e6\" y=\"26.167755\"/>\n     <use style=\"fill:#1f77b4;stroke:#1f77b4;\" x=\"131.598211\" xlink:href=\"#mb40d34d8e6\" y=\"76.842071\"/>\n     <use style=\"fill:#1f77b4;stroke:#1f77b4;\" x=\"115.270904\" xlink:href=\"#mb40d34d8e6\" y=\"78.915997\"/>\n     <use style=\"fill:#1f77b4;stroke:#1f77b4;\" x=\"114.91271\" xlink:href=\"#mb40d34d8e6\" y=\"77.175982\"/>\n     <use style=\"fill:#1f77b4;stroke:#1f77b4;\" x=\"117.030642\" xlink:href=\"#mb40d34d8e6\" y=\"79.959757\"/>\n     <use style=\"fill:#1f77b4;stroke:#1f77b4;\" x=\"148.750618\" xlink:href=\"#mb40d34d8e6\" y=\"74.378126\"/>\n     <use style=\"fill:#1f77b4;stroke:#1f77b4;\" x=\"104.112088\" xlink:href=\"#mb40d34d8e6\" y=\"66.969539\"/>\n     <use style=\"fill:#1f77b4;stroke:#1f77b4;\" x=\"144.022523\" xlink:href=\"#mb40d34d8e6\" y=\"60.531078\"/>\n     <use style=\"fill:#1f77b4;stroke:#1f77b4;\" x=\"139.237477\" xlink:href=\"#mb40d34d8e6\" y=\"82.708523\"/>\n     <use style=\"fill:#1f77b4;stroke:#1f77b4;\" x=\"159.898298\" xlink:href=\"#mb40d34d8e6\" y=\"106.204549\"/>\n     <use style=\"fill:#1f77b4;stroke:#1f77b4;\" x=\"89.807156\" xlink:href=\"#mb40d34d8e6\" y=\"74.521326\"/>\n     <use style=\"fill:#1f77b4;stroke:#1f77b4;\" x=\"124.760775\" xlink:href=\"#mb40d34d8e6\" y=\"80.28856\"/>\n     <use style=\"fill:#1f77b4;stroke:#1f77b4;\" x=\"156.178509\" xlink:href=\"#mb40d34d8e6\" y=\"97.658661\"/>\n     <use style=\"fill:#1f77b4;stroke:#1f77b4;\" x=\"136.111042\" xlink:href=\"#mb40d34d8e6\" y=\"92.453435\"/>\n     <use style=\"fill:#1f77b4;stroke:#1f77b4;\" x=\"94.202156\" xlink:href=\"#mb40d34d8e6\" y=\"43.183543\"/>\n     <use style=\"fill:#1f77b4;stroke:#1f77b4;\" x=\"152.72016\" xlink:href=\"#mb40d34d8e6\" y=\"90.354494\"/>\n     <use style=\"fill:#1f77b4;stroke:#1f77b4;\" x=\"169.73399\" xlink:href=\"#mb40d34d8e6\" y=\"116.158408\"/>\n     <use style=\"fill:#1f77b4;stroke:#1f77b4;\" x=\"76.102039\" xlink:href=\"#mb40d34d8e6\" y=\"31.472952\"/>\n     <use style=\"fill:#1f77b4;stroke:#1f77b4;\" x=\"141.696523\" xlink:href=\"#mb40d34d8e6\" y=\"99.95162\"/>\n     <use style=\"fill:#1f77b4;stroke:#1f77b4;\" x=\"149.22623\" xlink:href=\"#mb40d34d8e6\" y=\"68.054935\"/>\n     <use style=\"fill:#1f77b4;stroke:#1f77b4;\" x=\"155.652342\" xlink:href=\"#mb40d34d8e6\" y=\"97.452033\"/>\n     <use style=\"fill:#1f77b4;stroke:#1f77b4;\" x=\"56.465309\" xlink:href=\"#mb40d34d8e6\" y=\"35.824694\"/>\n     <use style=\"fill:#1f77b4;stroke:#1f77b4;\" x=\"58.832859\" xlink:href=\"#mb40d34d8e6\" y=\"31.046152\"/>\n     <use style=\"fill:#1f77b4;stroke:#1f77b4;\" x=\"194.302496\" xlink:href=\"#mb40d34d8e6\" y=\"114.660257\"/>\n     <use style=\"fill:#1f77b4;stroke:#1f77b4;\" x=\"168.839669\" xlink:href=\"#mb40d34d8e6\" y=\"102.045292\"/>\n     <use style=\"fill:#1f77b4;stroke:#1f77b4;\" x=\"153.349946\" xlink:href=\"#mb40d34d8e6\" y=\"94.182092\"/>\n     <use style=\"fill:#1f77b4;stroke:#1f77b4;\" x=\"94.259074\" xlink:href=\"#mb40d34d8e6\" y=\"62.572871\"/>\n     <use style=\"fill:#1f77b4;stroke:#1f77b4;\" x=\"168.844124\" xlink:href=\"#mb40d34d8e6\" y=\"103.342463\"/>\n     <use style=\"fill:#1f77b4;stroke:#1f77b4;\" x=\"50.950114\" xlink:href=\"#mb40d34d8e6\" y=\"22.537275\"/>\n     <use style=\"fill:#1f77b4;stroke:#1f77b4;\" x=\"131.921332\" xlink:href=\"#mb40d34d8e6\" y=\"70.433266\"/>\n     <use style=\"fill:#1f77b4;stroke:#1f77b4;\" x=\"135.115292\" xlink:href=\"#mb40d34d8e6\" y=\"76.497795\"/>\n     <use style=\"fill:#1f77b4;stroke:#1f77b4;\" x=\"160.826272\" xlink:href=\"#mb40d34d8e6\" y=\"84.803563\"/>\n     <use style=\"fill:#1f77b4;stroke:#1f77b4;\" x=\"67.664463\" xlink:href=\"#mb40d34d8e6\" y=\"36.212059\"/>\n     <use style=\"fill:#1f77b4;stroke:#1f77b4;\" x=\"108.070956\" xlink:href=\"#mb40d34d8e6\" y=\"80.303806\"/>\n     <use style=\"fill:#1f77b4;stroke:#1f77b4;\" x=\"107.133551\" xlink:href=\"#mb40d34d8e6\" y=\"58.813087\"/>\n     <use style=\"fill:#1f77b4;stroke:#1f77b4;\" x=\"95.393833\" xlink:href=\"#mb40d34d8e6\" y=\"50.807694\"/>\n     <use style=\"fill:#1f77b4;stroke:#1f77b4;\" x=\"129.495561\" xlink:href=\"#mb40d34d8e6\" y=\"94.985754\"/>\n     <use style=\"fill:#1f77b4;stroke:#1f77b4;\" x=\"120.654215\" xlink:href=\"#mb40d34d8e6\" y=\"80.674482\"/>\n     <use style=\"fill:#1f77b4;stroke:#1f77b4;\" x=\"122.811412\" xlink:href=\"#mb40d34d8e6\" y=\"72.232316\"/>\n     <use style=\"fill:#1f77b4;stroke:#1f77b4;\" x=\"128.191421\" xlink:href=\"#mb40d34d8e6\" y=\"72.656\"/>\n     <use style=\"fill:#1f77b4;stroke:#1f77b4;\" x=\"180.317744\" xlink:href=\"#mb40d34d8e6\" y=\"111.225214\"/>\n     <use style=\"fill:#1f77b4;stroke:#1f77b4;\" x=\"118.472141\" xlink:href=\"#mb40d34d8e6\" y=\"88.195995\"/>\n     <use style=\"fill:#1f77b4;stroke:#1f77b4;\" x=\"159.338696\" xlink:href=\"#mb40d34d8e6\" y=\"80.531013\"/>\n     <use style=\"fill:#1f77b4;stroke:#1f77b4;\" x=\"85.212408\" xlink:href=\"#mb40d34d8e6\" y=\"35.536285\"/>\n     <use style=\"fill:#1f77b4;stroke:#1f77b4;\" x=\"155.493326\" xlink:href=\"#mb40d34d8e6\" y=\"93.31542\"/>\n     <use style=\"fill:#1f77b4;stroke:#1f77b4;\" x=\"126.822535\" xlink:href=\"#mb40d34d8e6\" y=\"94.56173\"/>\n     <use style=\"fill:#1f77b4;stroke:#1f77b4;\" x=\"99.190916\" xlink:href=\"#mb40d34d8e6\" y=\"67.677928\"/>\n     <use style=\"fill:#1f77b4;stroke:#1f77b4;\" x=\"154.936852\" xlink:href=\"#mb40d34d8e6\" y=\"99.13833\"/>\n     <use style=\"fill:#1f77b4;stroke:#1f77b4;\" x=\"68.945418\" xlink:href=\"#mb40d34d8e6\" y=\"21.948639\"/>\n     <use style=\"fill:#1f77b4;stroke:#1f77b4;\" x=\"82.07712\" xlink:href=\"#mb40d34d8e6\" y=\"36.382592\"/>\n     <use style=\"fill:#1f77b4;stroke:#1f77b4;\" x=\"124.800817\" xlink:href=\"#mb40d34d8e6\" y=\"90.33483\"/>\n     <use style=\"fill:#1f77b4;stroke:#1f77b4;\" x=\"93.498185\" xlink:href=\"#mb40d34d8e6\" y=\"64.046563\"/>\n     <use style=\"fill:#1f77b4;stroke:#1f77b4;\" x=\"76.046603\" xlink:href=\"#mb40d34d8e6\" y=\"47.095996\"/>\n     <use style=\"fill:#1f77b4;stroke:#1f77b4;\" x=\"91.471035\" xlink:href=\"#mb40d34d8e6\" y=\"67.901281\"/>\n     <use style=\"fill:#1f77b4;stroke:#1f77b4;\" x=\"119.366142\" xlink:href=\"#mb40d34d8e6\" y=\"58.679669\"/>\n     <use style=\"fill:#1f77b4;stroke:#1f77b4;\" x=\"94.754399\" xlink:href=\"#mb40d34d8e6\" y=\"51.959379\"/>\n     <use style=\"fill:#1f77b4;stroke:#1f77b4;\" x=\"149.041917\" xlink:href=\"#mb40d34d8e6\" y=\"68.936885\"/>\n     <use style=\"fill:#1f77b4;stroke:#1f77b4;\" x=\"136.586668\" xlink:href=\"#mb40d34d8e6\" y=\"82.478418\"/>\n     <use style=\"fill:#1f77b4;stroke:#1f77b4;\" x=\"123.047772\" xlink:href=\"#mb40d34d8e6\" y=\"59.939879\"/>\n     <use style=\"fill:#1f77b4;stroke:#1f77b4;\" x=\"135.997718\" xlink:href=\"#mb40d34d8e6\" y=\"94.470988\"/>\n     <use style=\"fill:#1f77b4;stroke:#1f77b4;\" x=\"87.738485\" xlink:href=\"#mb40d34d8e6\" y=\"53.439002\"/>\n     <use style=\"fill:#1f77b4;stroke:#1f77b4;\" x=\"183.217561\" xlink:href=\"#mb40d34d8e6\" y=\"125.715459\"/>\n     <use style=\"fill:#1f77b4;stroke:#1f77b4;\" x=\"112.265546\" xlink:href=\"#mb40d34d8e6\" y=\"67.070934\"/>\n     <use style=\"fill:#1f77b4;stroke:#1f77b4;\" x=\"118.756796\" xlink:href=\"#mb40d34d8e6\" y=\"75.771459\"/>\n     <use style=\"fill:#1f77b4;stroke:#1f77b4;\" x=\"137.005215\" xlink:href=\"#mb40d34d8e6\" y=\"76.949246\"/>\n     <use style=\"fill:#1f77b4;stroke:#1f77b4;\" x=\"137.287982\" xlink:href=\"#mb40d34d8e6\" y=\"75.217256\"/>\n     <use style=\"fill:#1f77b4;stroke:#1f77b4;\" x=\"104.612219\" xlink:href=\"#mb40d34d8e6\" y=\"53.704453\"/>\n     <use style=\"fill:#1f77b4;stroke:#1f77b4;\" x=\"134.132464\" xlink:href=\"#mb40d34d8e6\" y=\"77.426895\"/>\n     <use style=\"fill:#1f77b4;stroke:#1f77b4;\" x=\"129.565356\" xlink:href=\"#mb40d34d8e6\" y=\"82.549714\"/>\n     <use style=\"fill:#1f77b4;stroke:#1f77b4;\" x=\"116.944775\" xlink:href=\"#mb40d34d8e6\" y=\"88.669145\"/>\n     <use style=\"fill:#1f77b4;stroke:#1f77b4;\" x=\"170.125216\" xlink:href=\"#mb40d34d8e6\" y=\"98.015163\"/>\n     <use style=\"fill:#1f77b4;stroke:#1f77b4;\" x=\"121.290811\" xlink:href=\"#mb40d34d8e6\" y=\"69.439897\"/>\n     <use style=\"fill:#1f77b4;stroke:#1f77b4;\" x=\"126.660464\" xlink:href=\"#mb40d34d8e6\" y=\"75.929261\"/>\n     <use style=\"fill:#1f77b4;stroke:#1f77b4;\" x=\"41.440317\" xlink:href=\"#mb40d34d8e6\" y=\"37.499704\"/>\n     <use style=\"fill:#1f77b4;stroke:#1f77b4;\" x=\"151.277104\" xlink:href=\"#mb40d34d8e6\" y=\"78.777952\"/>\n     <use style=\"fill:#1f77b4;stroke:#1f77b4;\" x=\"104.371107\" xlink:href=\"#mb40d34d8e6\" y=\"78.222503\"/>\n     <use style=\"fill:#1f77b4;stroke:#1f77b4;\" x=\"110.555687\" xlink:href=\"#mb40d34d8e6\" y=\"71.660532\"/>\n     <use style=\"fill:#1f77b4;stroke:#1f77b4;\" x=\"138.738638\" xlink:href=\"#mb40d34d8e6\" y=\"89.804843\"/>\n     <use style=\"fill:#1f77b4;stroke:#1f77b4;\" x=\"154.013922\" xlink:href=\"#mb40d34d8e6\" y=\"90.136332\"/>\n     <use style=\"fill:#1f77b4;stroke:#1f77b4;\" x=\"37.899058\" xlink:href=\"#mb40d34d8e6\" y=\"38.802269\"/>\n     <use style=\"fill:#1f77b4;stroke:#1f77b4;\" x=\"141.630004\" xlink:href=\"#mb40d34d8e6\" y=\"76.525906\"/>\n     <use style=\"fill:#1f77b4;stroke:#1f77b4;\" x=\"121.435048\" xlink:href=\"#mb40d34d8e6\" y=\"64.432096\"/>\n     <use style=\"fill:#1f77b4;stroke:#1f77b4;\" x=\"164.925824\" xlink:href=\"#mb40d34d8e6\" y=\"92.086847\"/>\n     <use style=\"fill:#1f77b4;stroke:#1f77b4;\" x=\"111.436971\" xlink:href=\"#mb40d34d8e6\" y=\"71.595303\"/>\n     <use style=\"fill:#1f77b4;stroke:#1f77b4;\" x=\"143.281639\" xlink:href=\"#mb40d34d8e6\" y=\"89.119441\"/>\n     <use style=\"fill:#1f77b4;stroke:#1f77b4;\" x=\"128.576651\" xlink:href=\"#mb40d34d8e6\" y=\"73.502161\"/>\n     <use style=\"fill:#1f77b4;stroke:#1f77b4;\" x=\"93.689377\" xlink:href=\"#mb40d34d8e6\" y=\"55.082803\"/>\n     <use style=\"fill:#1f77b4;stroke:#1f77b4;\" x=\"120.634329\" xlink:href=\"#mb40d34d8e6\" y=\"60.847277\"/>\n     <use style=\"fill:#1f77b4;stroke:#1f77b4;\" x=\"112.629325\" xlink:href=\"#mb40d34d8e6\" y=\"63.539073\"/>\n     <use style=\"fill:#1f77b4;stroke:#1f77b4;\" x=\"177.536926\" xlink:href=\"#mb40d34d8e6\" y=\"122.476061\"/>\n     <use style=\"fill:#1f77b4;stroke:#1f77b4;\" x=\"195.112376\" xlink:href=\"#mb40d34d8e6\" y=\"111.842542\"/>\n     <use style=\"fill:#1f77b4;stroke:#1f77b4;\" x=\"108.307769\" xlink:href=\"#mb40d34d8e6\" y=\"68.542085\"/>\n     <use style=\"fill:#1f77b4;stroke:#1f77b4;\" x=\"154.640264\" xlink:href=\"#mb40d34d8e6\" y=\"96.300362\"/>\n     <use style=\"fill:#1f77b4;stroke:#1f77b4;\" x=\"159.852643\" xlink:href=\"#mb40d34d8e6\" y=\"75.977015\"/>\n     <use style=\"fill:#1f77b4;stroke:#1f77b4;\" x=\"161.073915\" xlink:href=\"#mb40d34d8e6\" y=\"93.371114\"/>\n     <use style=\"fill:#1f77b4;stroke:#1f77b4;\" x=\"93.110491\" xlink:href=\"#mb40d34d8e6\" y=\"63.225042\"/>\n     <use style=\"fill:#1f77b4;stroke:#1f77b4;\" x=\"112.014023\" xlink:href=\"#mb40d34d8e6\" y=\"77.138339\"/>\n     <use style=\"fill:#1f77b4;stroke:#1f77b4;\" x=\"114.439121\" xlink:href=\"#mb40d34d8e6\" y=\"79.539578\"/>\n     <use style=\"fill:#1f77b4;stroke:#1f77b4;\" x=\"142.64607\" xlink:href=\"#mb40d34d8e6\" y=\"83.695107\"/>\n     <use style=\"fill:#1f77b4;stroke:#1f77b4;\" x=\"46.255629\" xlink:href=\"#mb40d34d8e6\" y=\"49.914047\"/>\n     <use style=\"fill:#1f77b4;stroke:#1f77b4;\" x=\"131.559686\" xlink:href=\"#mb40d34d8e6\" y=\"79.563754\"/>\n     <use style=\"fill:#1f77b4;stroke:#1f77b4;\" x=\"122.15141\" xlink:href=\"#mb40d34d8e6\" y=\"58.956416\"/>\n     <use style=\"fill:#1f77b4;stroke:#1f77b4;\" x=\"148.527389\" xlink:href=\"#mb40d34d8e6\" y=\"73.728181\"/>\n     <use style=\"fill:#1f77b4;stroke:#1f77b4;\" x=\"99.349115\" xlink:href=\"#mb40d34d8e6\" y=\"46.889317\"/>\n     <use style=\"fill:#1f77b4;stroke:#1f77b4;\" x=\"118.795755\" xlink:href=\"#mb40d34d8e6\" y=\"75.265839\"/>\n     <use style=\"fill:#1f77b4;stroke:#1f77b4;\" x=\"78.931465\" xlink:href=\"#mb40d34d8e6\" y=\"51.579362\"/>\n     <use style=\"fill:#1f77b4;stroke:#1f77b4;\" x=\"105.031329\" xlink:href=\"#mb40d34d8e6\" y=\"58.482325\"/>\n     <use style=\"fill:#1f77b4;stroke:#1f77b4;\" x=\"114.299702\" xlink:href=\"#mb40d34d8e6\" y=\"70.18624\"/>\n     <use style=\"fill:#1f77b4;stroke:#1f77b4;\" x=\"106.262157\" xlink:href=\"#mb40d34d8e6\" y=\"75.666593\"/>\n     <use style=\"fill:#1f77b4;stroke:#1f77b4;\" x=\"98.643525\" xlink:href=\"#mb40d34d8e6\" y=\"60.285407\"/>\n     <use style=\"fill:#1f77b4;stroke:#1f77b4;\" x=\"147.753685\" xlink:href=\"#mb40d34d8e6\" y=\"87.608072\"/>\n     <use style=\"fill:#1f77b4;stroke:#1f77b4;\" x=\"109.832853\" xlink:href=\"#mb40d34d8e6\" y=\"70.135524\"/>\n     <use style=\"fill:#1f77b4;stroke:#1f77b4;\" x=\"165.067399\" xlink:href=\"#mb40d34d8e6\" y=\"107.813517\"/>\n     <use style=\"fill:#1f77b4;stroke:#1f77b4;\" x=\"127.767365\" xlink:href=\"#mb40d34d8e6\" y=\"83.680613\"/>\n     <use style=\"fill:#1f77b4;stroke:#1f77b4;\" x=\"69.012643\" xlink:href=\"#mb40d34d8e6\" y=\"37.108067\"/>\n     <use style=\"fill:#1f77b4;stroke:#1f77b4;\" x=\"103.120522\" xlink:href=\"#mb40d34d8e6\" y=\"56.672459\"/>\n     <use style=\"fill:#1f77b4;stroke:#1f77b4;\" x=\"123.377766\" xlink:href=\"#mb40d34d8e6\" y=\"72.041236\"/>\n     <use style=\"fill:#1f77b4;stroke:#1f77b4;\" x=\"145.835421\" xlink:href=\"#mb40d34d8e6\" y=\"76.648954\"/>\n     <use style=\"fill:#1f77b4;stroke:#1f77b4;\" x=\"120.187668\" xlink:href=\"#mb40d34d8e6\" y=\"63.264472\"/>\n     <use style=\"fill:#1f77b4;stroke:#1f77b4;\" x=\"128.977689\" xlink:href=\"#mb40d34d8e6\" y=\"61.395031\"/>\n     <use style=\"fill:#1f77b4;stroke:#1f77b4;\" x=\"115.011597\" xlink:href=\"#mb40d34d8e6\" y=\"73.948801\"/>\n     <use style=\"fill:#1f77b4;stroke:#1f77b4;\" x=\"70.489556\" xlink:href=\"#mb40d34d8e6\" y=\"40.9642\"/>\n     <use style=\"fill:#1f77b4;stroke:#1f77b4;\" x=\"97.114964\" xlink:href=\"#mb40d34d8e6\" y=\"77.240621\"/>\n     <use style=\"fill:#1f77b4;stroke:#1f77b4;\" x=\"149.782933\" xlink:href=\"#mb40d34d8e6\" y=\"87.255295\"/>\n     <use style=\"fill:#1f77b4;stroke:#1f77b4;\" x=\"173.083753\" xlink:href=\"#mb40d34d8e6\" y=\"92.831007\"/>\n     <use style=\"fill:#1f77b4;stroke:#1f77b4;\" x=\"123.320947\" xlink:href=\"#mb40d34d8e6\" y=\"76.170466\"/>\n     <use style=\"fill:#1f77b4;stroke:#1f77b4;\" x=\"128.899037\" xlink:href=\"#mb40d34d8e6\" y=\"81.357747\"/>\n     <use style=\"fill:#1f77b4;stroke:#1f77b4;\" x=\"128.976488\" xlink:href=\"#mb40d34d8e6\" y=\"64.856356\"/>\n     <use style=\"fill:#1f77b4;stroke:#1f77b4;\" x=\"149.160783\" xlink:href=\"#mb40d34d8e6\" y=\"87.923318\"/>\n     <use style=\"fill:#1f77b4;stroke:#1f77b4;\" x=\"163.504877\" xlink:href=\"#mb40d34d8e6\" y=\"104.925253\"/>\n     <use style=\"fill:#1f77b4;stroke:#1f77b4;\" x=\"91.380259\" xlink:href=\"#mb40d34d8e6\" y=\"63.125599\"/>\n     <use style=\"fill:#1f77b4;stroke:#1f77b4;\" x=\"117.25878\" xlink:href=\"#mb40d34d8e6\" y=\"66.87775\"/>\n     <use style=\"fill:#1f77b4;stroke:#1f77b4;\" x=\"132.08197\" xlink:href=\"#mb40d34d8e6\" y=\"79.572392\"/>\n     <use style=\"fill:#1f77b4;stroke:#1f77b4;\" x=\"112.130422\" xlink:href=\"#mb40d34d8e6\" y=\"88.496076\"/>\n     <use style=\"fill:#1f77b4;stroke:#1f77b4;\" x=\"131.501297\" xlink:href=\"#mb40d34d8e6\" y=\"87.953794\"/>\n     <use style=\"fill:#1f77b4;stroke:#1f77b4;\" x=\"132.69867\" xlink:href=\"#mb40d34d8e6\" y=\"83.915027\"/>\n     <use style=\"fill:#1f77b4;stroke:#1f77b4;\" x=\"136.555379\" xlink:href=\"#mb40d34d8e6\" y=\"93.031335\"/>\n     <use style=\"fill:#1f77b4;stroke:#1f77b4;\" x=\"134.916192\" xlink:href=\"#mb40d34d8e6\" y=\"71.398306\"/>\n     <use style=\"fill:#1f77b4;stroke:#1f77b4;\" x=\"132.292361\" xlink:href=\"#mb40d34d8e6\" y=\"78.970952\"/>\n     <use style=\"fill:#1f77b4;stroke:#1f77b4;\" x=\"65.561716\" xlink:href=\"#mb40d34d8e6\" y=\"39.329067\"/>\n     <use style=\"fill:#1f77b4;stroke:#1f77b4;\" x=\"178.827047\" xlink:href=\"#mb40d34d8e6\" y=\"131.341854\"/>\n     <use style=\"fill:#1f77b4;stroke:#1f77b4;\" x=\"127.457496\" xlink:href=\"#mb40d34d8e6\" y=\"82.448005\"/>\n     <use style=\"fill:#1f77b4;stroke:#1f77b4;\" x=\"164.870429\" xlink:href=\"#mb40d34d8e6\" y=\"97.339519\"/>\n     <use style=\"fill:#1f77b4;stroke:#1f77b4;\" x=\"105.067716\" xlink:href=\"#mb40d34d8e6\" y=\"72.100106\"/>\n     <use style=\"fill:#1f77b4;stroke:#1f77b4;\" x=\"107.600379\" xlink:href=\"#mb40d34d8e6\" y=\"45.040067\"/>\n     <use style=\"fill:#1f77b4;stroke:#1f77b4;\" x=\"174.803338\" xlink:href=\"#mb40d34d8e6\" y=\"111.898119\"/>\n     <use style=\"fill:#1f77b4;stroke:#1f77b4;\" x=\"145.026524\" xlink:href=\"#mb40d34d8e6\" y=\"92.681824\"/>\n     <use style=\"fill:#1f77b4;stroke:#1f77b4;\" x=\"133.507395\" xlink:href=\"#mb40d34d8e6\" y=\"82.558943\"/>\n     <use style=\"fill:#1f77b4;stroke:#1f77b4;\" x=\"105.303789\" xlink:href=\"#mb40d34d8e6\" y=\"53.002377\"/>\n     <use style=\"fill:#1f77b4;stroke:#1f77b4;\" x=\"124.792593\" xlink:href=\"#mb40d34d8e6\" y=\"71.069261\"/>\n     <use style=\"fill:#1f77b4;stroke:#1f77b4;\" x=\"105.272367\" xlink:href=\"#mb40d34d8e6\" y=\"63.774284\"/>\n     <use style=\"fill:#1f77b4;stroke:#1f77b4;\" x=\"138.005918\" xlink:href=\"#mb40d34d8e6\" y=\"75.824474\"/>\n     <use style=\"fill:#1f77b4;stroke:#1f77b4;\" x=\"82.895546\" xlink:href=\"#mb40d34d8e6\" y=\"57.686223\"/>\n     <use style=\"fill:#1f77b4;stroke:#1f77b4;\" x=\"124.523375\" xlink:href=\"#mb40d34d8e6\" y=\"81.789251\"/>\n     <use style=\"fill:#1f77b4;stroke:#1f77b4;\" x=\"123.729648\" xlink:href=\"#mb40d34d8e6\" y=\"73.860552\"/>\n    </g>\n   </g>\n   <g id=\"matplotlib.axis_1\">\n    <g id=\"xtick_1\">\n     <g id=\"line2d_1\">\n      <defs>\n       <path d=\"M 0 0 \nL 0 3.5 \n\" id=\"m6e4942a1aa\" style=\"stroke:#000000;stroke-width:0.8;\"/>\n      </defs>\n      <g>\n       <use style=\"stroke:#000000;stroke-width:0.8;\" x=\"61.415806\" xlink:href=\"#m6e4942a1aa\" y=\"146.6\"/>\n      </g>\n     </g>\n     <g id=\"text_1\">\n      <!-- −2 -->\n      <defs>\n       <path d=\"M 10.59375 35.5 \nL 73.1875 35.5 \nL 73.1875 27.203125 \nL 10.59375 27.203125 \nz\n\" id=\"DejaVuSans-8722\"/>\n       <path d=\"M 19.1875 8.296875 \nL 53.609375 8.296875 \nL 53.609375 0 \nL 7.328125 0 \nL 7.328125 8.296875 \nQ 12.9375 14.109375 22.625 23.890625 \nQ 32.328125 33.6875 34.8125 36.53125 \nQ 39.546875 41.84375 41.421875 45.53125 \nQ 43.3125 49.21875 43.3125 52.78125 \nQ 43.3125 58.59375 39.234375 62.25 \nQ 35.15625 65.921875 28.609375 65.921875 \nQ 23.96875 65.921875 18.8125 64.3125 \nQ 13.671875 62.703125 7.8125 59.421875 \nL 7.8125 69.390625 \nQ 13.765625 71.78125 18.9375 73 \nQ 24.125 74.21875 28.421875 74.21875 \nQ 39.75 74.21875 46.484375 68.546875 \nQ 53.21875 62.890625 53.21875 53.421875 \nQ 53.21875 48.921875 51.53125 44.890625 \nQ 49.859375 40.875 45.40625 35.40625 \nQ 44.1875 33.984375 37.640625 27.21875 \nQ 31.109375 20.453125 19.1875 8.296875 \nz\n\" id=\"DejaVuSans-50\"/>\n      </defs>\n      <g transform=\"translate(54.044712 161.198437)scale(0.1 -0.1)\">\n       <use xlink:href=\"#DejaVuSans-8722\"/>\n       <use x=\"83.789062\" xlink:href=\"#DejaVuSans-50\"/>\n      </g>\n     </g>\n    </g>\n    <g id=\"xtick_2\">\n     <g id=\"line2d_2\">\n      <g>\n       <use style=\"stroke:#000000;stroke-width:0.8;\" x=\"123.597848\" xlink:href=\"#m6e4942a1aa\" y=\"146.6\"/>\n      </g>\n     </g>\n     <g id=\"text_2\">\n      <!-- 0 -->\n      <defs>\n       <path d=\"M 31.78125 66.40625 \nQ 24.171875 66.40625 20.328125 58.90625 \nQ 16.5 51.421875 16.5 36.375 \nQ 16.5 21.390625 20.328125 13.890625 \nQ 24.171875 6.390625 31.78125 6.390625 \nQ 39.453125 6.390625 43.28125 13.890625 \nQ 47.125 21.390625 47.125 36.375 \nQ 47.125 51.421875 43.28125 58.90625 \nQ 39.453125 66.40625 31.78125 66.40625 \nz\nM 31.78125 74.21875 \nQ 44.046875 74.21875 50.515625 64.515625 \nQ 56.984375 54.828125 56.984375 36.375 \nQ 56.984375 17.96875 50.515625 8.265625 \nQ 44.046875 -1.421875 31.78125 -1.421875 \nQ 19.53125 -1.421875 13.0625 8.265625 \nQ 6.59375 17.96875 6.59375 36.375 \nQ 6.59375 54.828125 13.0625 64.515625 \nQ 19.53125 74.21875 31.78125 74.21875 \nz\n\" id=\"DejaVuSans-48\"/>\n      </defs>\n      <g transform=\"translate(120.416598 161.198437)scale(0.1 -0.1)\">\n       <use xlink:href=\"#DejaVuSans-48\"/>\n      </g>\n     </g>\n    </g>\n    <g id=\"xtick_3\">\n     <g id=\"line2d_3\">\n      <g>\n       <use style=\"stroke:#000000;stroke-width:0.8;\" x=\"185.77989\" xlink:href=\"#m6e4942a1aa\" y=\"146.6\"/>\n      </g>\n     </g>\n     <g id=\"text_3\">\n      <!-- 2 -->\n      <g transform=\"translate(182.59864 161.198437)scale(0.1 -0.1)\">\n       <use xlink:href=\"#DejaVuSans-50\"/>\n      </g>\n     </g>\n    </g>\n   </g>\n   <g id=\"matplotlib.axis_2\">\n    <g id=\"ytick_1\">\n     <g id=\"line2d_4\">\n      <defs>\n       <path d=\"M 0 0 \nL -3.5 0 \n\" id=\"m40b1a16909\" style=\"stroke:#000000;stroke-width:0.8;\"/>\n      </defs>\n      <g>\n       <use style=\"stroke:#000000;stroke-width:0.8;\" x=\"28.942188\" xlink:href=\"#m40b1a16909\" y=\"122.009765\"/>\n      </g>\n     </g>\n     <g id=\"text_4\">\n      <!-- −5 -->\n      <defs>\n       <path d=\"M 10.796875 72.90625 \nL 49.515625 72.90625 \nL 49.515625 64.59375 \nL 19.828125 64.59375 \nL 19.828125 46.734375 \nQ 21.96875 47.46875 24.109375 47.828125 \nQ 26.265625 48.1875 28.421875 48.1875 \nQ 40.625 48.1875 47.75 41.5 \nQ 54.890625 34.8125 54.890625 23.390625 \nQ 54.890625 11.625 47.5625 5.09375 \nQ 40.234375 -1.421875 26.90625 -1.421875 \nQ 22.3125 -1.421875 17.546875 -0.640625 \nQ 12.796875 0.140625 7.71875 1.703125 \nL 7.71875 11.625 \nQ 12.109375 9.234375 16.796875 8.0625 \nQ 21.484375 6.890625 26.703125 6.890625 \nQ 35.15625 6.890625 40.078125 11.328125 \nQ 45.015625 15.765625 45.015625 23.390625 \nQ 45.015625 31 40.078125 35.4375 \nQ 35.15625 39.890625 26.703125 39.890625 \nQ 22.75 39.890625 18.8125 39.015625 \nQ 14.890625 38.140625 10.796875 36.28125 \nz\n\" id=\"DejaVuSans-53\"/>\n      </defs>\n      <g transform=\"translate(7.2 125.808984)scale(0.1 -0.1)\">\n       <use xlink:href=\"#DejaVuSans-8722\"/>\n       <use x=\"83.789062\" xlink:href=\"#DejaVuSans-53\"/>\n      </g>\n     </g>\n    </g>\n    <g id=\"ytick_2\">\n     <g id=\"line2d_5\">\n      <g>\n       <use style=\"stroke:#000000;stroke-width:0.8;\" x=\"28.942188\" xlink:href=\"#m40b1a16909\" y=\"95.996175\"/>\n      </g>\n     </g>\n     <g id=\"text_5\">\n      <!-- 0 -->\n      <g transform=\"translate(15.579688 99.795394)scale(0.1 -0.1)\">\n       <use xlink:href=\"#DejaVuSans-48\"/>\n      </g>\n     </g>\n    </g>\n    <g id=\"ytick_3\">\n     <g id=\"line2d_6\">\n      <g>\n       <use style=\"stroke:#000000;stroke-width:0.8;\" x=\"28.942188\" xlink:href=\"#m40b1a16909\" y=\"69.982585\"/>\n      </g>\n     </g>\n     <g id=\"text_6\">\n      <!-- 5 -->\n      <g transform=\"translate(15.579688 73.781804)scale(0.1 -0.1)\">\n       <use xlink:href=\"#DejaVuSans-53\"/>\n      </g>\n     </g>\n    </g>\n    <g id=\"ytick_4\">\n     <g id=\"line2d_7\">\n      <g>\n       <use style=\"stroke:#000000;stroke-width:0.8;\" x=\"28.942188\" xlink:href=\"#m40b1a16909\" y=\"43.968995\"/>\n      </g>\n     </g>\n     <g id=\"text_7\">\n      <!-- 10 -->\n      <defs>\n       <path d=\"M 12.40625 8.296875 \nL 28.515625 8.296875 \nL 28.515625 63.921875 \nL 10.984375 60.40625 \nL 10.984375 69.390625 \nL 28.421875 72.90625 \nL 38.28125 72.90625 \nL 38.28125 8.296875 \nL 54.390625 8.296875 \nL 54.390625 0 \nL 12.40625 0 \nz\n\" id=\"DejaVuSans-49\"/>\n      </defs>\n      <g transform=\"translate(9.217188 47.768214)scale(0.1 -0.1)\">\n       <use xlink:href=\"#DejaVuSans-49\"/>\n       <use x=\"63.623047\" xlink:href=\"#DejaVuSans-48\"/>\n      </g>\n     </g>\n    </g>\n    <g id=\"ytick_5\">\n     <g id=\"line2d_8\">\n      <g>\n       <use style=\"stroke:#000000;stroke-width:0.8;\" x=\"28.942188\" xlink:href=\"#m40b1a16909\" y=\"17.955405\"/>\n      </g>\n     </g>\n     <g id=\"text_8\">\n      <!-- 15 -->\n      <g transform=\"translate(9.217188 21.754623)scale(0.1 -0.1)\">\n       <use xlink:href=\"#DejaVuSans-49\"/>\n       <use x=\"63.623047\" xlink:href=\"#DejaVuSans-53\"/>\n      </g>\n     </g>\n    </g>\n   </g>\n   <g id=\"patch_3\">\n    <path d=\"M 28.942188 146.6 \nL 28.942188 10.7 \n\" style=\"fill:none;stroke:#000000;stroke-linecap:square;stroke-linejoin:miter;stroke-width:0.8;\"/>\n   </g>\n   <g id=\"patch_4\">\n    <path d=\"M 224.242188 146.6 \nL 224.242188 10.7 \n\" style=\"fill:none;stroke:#000000;stroke-linecap:square;stroke-linejoin:miter;stroke-width:0.8;\"/>\n   </g>\n   <g id=\"patch_5\">\n    <path d=\"M 28.942188 146.6 \nL 224.242188 146.6 \n\" style=\"fill:none;stroke:#000000;stroke-linecap:square;stroke-linejoin:miter;stroke-width:0.8;\"/>\n   </g>\n   <g id=\"patch_6\">\n    <path d=\"M 28.942188 10.7 \nL 224.242188 10.7 \n\" style=\"fill:none;stroke:#000000;stroke-linecap:square;stroke-linejoin:miter;stroke-width:0.8;\"/>\n   </g>\n  </g>\n </g>\n <defs>\n  <clipPath id=\"p56ef591cff\">\n   <rect height=\"135.9\" width=\"195.3\" x=\"28.942188\" y=\"10.7\"/>\n  </clipPath>\n </defs>\n</svg>\n"
          },
          "metadata": {
            "tags": []
          }
        }
      ]
    },
    {
      "cell_type": "markdown",
      "metadata": {
        "id": "kf0q0c_--4g4",
        "colab_type": "text"
      },
      "source": [
        "#### 3.22 读取数据集"
      ]
    },
    {
      "cell_type": "code",
      "metadata": {
        "id": "jz9ubLZr-f1q",
        "colab_type": "code",
        "colab": {}
      },
      "source": [
        "def data_iter(batch_size,features,labels):\n",
        "  \"\"\"\n",
        "  indices: []\n",
        "  j : []\n",
        "  \"\"\"\n",
        "  num_examples = len(features)\n",
        "  indices = list(range(num_examples))\n",
        "  random.shuffle(indices)\n",
        "  for i in range(0, num_examples, batch_size):\n",
        "    j = nd.array(indices[i : min(i + batch_size, num_examples)])\n",
        "    yield features.take(j), labels.take(j) # take 函数根据索引返回对应元素\n",
        "  "
      ],
      "execution_count": 0,
      "outputs": []
    },
    {
      "cell_type": "code",
      "metadata": {
        "id": "4fkPCB60Bjdd",
        "colab_type": "code",
        "outputId": "7008f866-e34b-4ccb-ddaa-c265f087fca4",
        "colab": {
          "base_uri": "https://localhost:8080/",
          "height": 272
        }
      },
      "source": [
        "batch_size = 10\n",
        "for X , y in data_iter(batch_size, features, labels):\n",
        "  print(X, y)\n",
        "  break"
      ],
      "execution_count": 54,
      "outputs": [
        {
          "output_type": "stream",
          "text": [
            "\n",
            "[[-2.3367662  -0.9798637 ]\n",
            " [ 2.0277834  -1.1554744 ]\n",
            " [ 0.85692286 -1.1262228 ]\n",
            " [-0.16860738 -0.77358764]\n",
            " [-0.59888744 -1.7685903 ]\n",
            " [-1.7074687  -0.44738108]\n",
            " [ 0.16636673  0.22444552]\n",
            " [ 0.02764378  0.77693933]\n",
            " [-0.23319568  0.12973629]\n",
            " [-0.9264632  -0.37257782]]\n",
            "<NDArray 10x2 @cpu(0)> \n",
            "[ 2.8426397 12.195398   9.744001   6.4891667  9.008271   2.3000464\n",
            "  3.7669501  1.612254   3.2952247  3.6246123]\n",
            "<NDArray 10 @cpu(0)>\n"
          ],
          "name": "stdout"
        }
      ]
    },
    {
      "cell_type": "markdown",
      "metadata": {
        "id": "sCx7efUtR8EO",
        "colab_type": "text"
      },
      "source": [
        "#### 3.2.3  初始化模型参数"
      ]
    },
    {
      "cell_type": "code",
      "metadata": {
        "id": "XK6Zf5lLBz2T",
        "colab_type": "code",
        "colab": {}
      },
      "source": [
        "w = nd.random.normal(scale=0.01,shape=(num_inputs,1))\n",
        "b = nd.zeros(shape=(1,))"
      ],
      "execution_count": 0,
      "outputs": []
    },
    {
      "cell_type": "code",
      "metadata": {
        "id": "W_37imWjSbE6",
        "colab_type": "code",
        "colab": {}
      },
      "source": [
        "w.attach_grad()\n",
        "b.attach_grad()"
      ],
      "execution_count": 0,
      "outputs": []
    },
    {
      "cell_type": "markdown",
      "metadata": {
        "id": "i5mhdeVpTdkk",
        "colab_type": "text"
      },
      "source": [
        "#### 3.2.4 定义模型"
      ]
    },
    {
      "cell_type": "code",
      "metadata": {
        "id": "0DF7j_enSkWo",
        "colab_type": "code",
        "colab": {}
      },
      "source": [
        "def linreg(X, w, b):\n",
        "  return nd.dot(X, w) + b"
      ],
      "execution_count": 0,
      "outputs": []
    },
    {
      "cell_type": "markdown",
      "metadata": {
        "id": "LWkBIsoKT0O1",
        "colab_type": "text"
      },
      "source": [
        "#### 3.2.5 定义损失函数"
      ]
    },
    {
      "cell_type": "code",
      "metadata": {
        "id": "NkLvqylNTyUj",
        "colab_type": "code",
        "colab": {}
      },
      "source": [
        "def squared_loss(y_hat, y):\n",
        "  return (y_hat - y.reshape(y_hat.shape)) ** 2 / 2"
      ],
      "execution_count": 0,
      "outputs": []
    },
    {
      "cell_type": "markdown",
      "metadata": {
        "id": "xQCvfpWWUVbK",
        "colab_type": "text"
      },
      "source": [
        "#### 3.2.6 定义优化函数"
      ]
    },
    {
      "cell_type": "code",
      "metadata": {
        "id": "lX6oXe3fUPye",
        "colab_type": "code",
        "colab": {}
      },
      "source": [
        "def sgd(params, lr, batch_size):\n",
        "  for param in params:\n",
        "    param[:] = param - lr * param.grad / batch_size"
      ],
      "execution_count": 0,
      "outputs": []
    },
    {
      "cell_type": "markdown",
      "metadata": {
        "id": "4si3hXB9VNU-",
        "colab_type": "text"
      },
      "source": [
        "#### 3.2.7 模型训练"
      ]
    },
    {
      "cell_type": "code",
      "metadata": {
        "id": "UH0knAZmUtix",
        "colab_type": "code",
        "outputId": "0798b693-3956-437a-a1da-96bed48e52a7",
        "colab": {
          "base_uri": "https://localhost:8080/",
          "height": 102
        }
      },
      "source": [
        "lr = 0.03\n",
        "num_ecochs = 5\n",
        "net = linreg\n",
        "loss = squared_loss\n",
        "\n",
        "for epoch in range(num_ecochs):\n",
        "  for X, y in data_iter(batch_size, features, labels):\n",
        "    with autograd.record():\n",
        "      l = loss(net(X, w, b), y)\n",
        "    l.backward()\n",
        "    sgd([w, b], lr, batch_size)\n",
        "  train_l = loss(net(features, w, b), labels)\n",
        "  print('epoch %d, loss %f' % (epoch + 1, train_l.mean().asnumpy()))"
      ],
      "execution_count": 60,
      "outputs": [
        {
          "output_type": "stream",
          "text": [
            "epoch 1, loss 0.046208\n",
            "epoch 2, loss 0.000187\n",
            "epoch 3, loss 0.000052\n",
            "epoch 4, loss 0.000052\n",
            "epoch 5, loss 0.000051\n"
          ],
          "name": "stdout"
        }
      ]
    },
    {
      "cell_type": "code",
      "metadata": {
        "id": "-0ig-3K_Wl5g",
        "colab_type": "code",
        "outputId": "35c5c6bb-59ef-45be-cd1a-0fa6fe442b34",
        "colab": {
          "base_uri": "https://localhost:8080/",
          "height": 85
        }
      },
      "source": [
        "true_w, w"
      ],
      "execution_count": 61,
      "outputs": [
        {
          "output_type": "execute_result",
          "data": {
            "text/plain": [
              "([2, -3.4], \n",
              " [[ 1.999587 ]\n",
              "  [-3.4005857]]\n",
              " <NDArray 2x1 @cpu(0)>)"
            ]
          },
          "metadata": {
            "tags": []
          },
          "execution_count": 61
        }
      ]
    },
    {
      "cell_type": "code",
      "metadata": {
        "id": "UHpLr7-GWymo",
        "colab_type": "code",
        "outputId": "d938cdd2-d75f-442d-fd97-7a9bdd8ef091",
        "colab": {
          "base_uri": "https://localhost:8080/",
          "height": 68
        }
      },
      "source": [
        "true_b,b"
      ],
      "execution_count": 62,
      "outputs": [
        {
          "output_type": "execute_result",
          "data": {
            "text/plain": [
              "(4.2, \n",
              " [4.2002797]\n",
              " <NDArray 1 @cpu(0)>)"
            ]
          },
          "metadata": {
            "tags": []
          },
          "execution_count": 62
        }
      ]
    },
    {
      "cell_type": "markdown",
      "metadata": {
        "id": "HtYMfYxzzGUu",
        "colab_type": "text"
      },
      "source": [
        "### 3.3 线性回归的简洁实现"
      ]
    },
    {
      "cell_type": "code",
      "metadata": {
        "id": "uQ5AfzF_W3yI",
        "colab_type": "code",
        "colab": {}
      },
      "source": [
        ""
      ],
      "execution_count": 0,
      "outputs": []
    },
    {
      "cell_type": "markdown",
      "metadata": {
        "id": "k_892CtO0LEG",
        "colab_type": "text"
      },
      "source": [
        "#### 3.3.1 生成数据集"
      ]
    },
    {
      "cell_type": "code",
      "metadata": {
        "id": "tcHg8I6lawH8",
        "colab_type": "code",
        "colab": {}
      },
      "source": [
        "from mxnet import autograd, nd\n",
        "\n",
        "num_inputs = 2\n",
        "num_features = 1000\n",
        "true_w = [2, -3.4]\n",
        "true_b = 4.2\n",
        "features = nd.random.normal(scale=1,shape=(num_features,num_inputs))\n",
        "labels = true_w[0] * features[:,0] + true_w[1] * features[:,1] + true_b\n",
        "labels += nd.random.normal(scale=0.01, shape=labels.shape)"
      ],
      "execution_count": 0,
      "outputs": []
    },
    {
      "cell_type": "markdown",
      "metadata": {
        "id": "bWE3am6G1S3E",
        "colab_type": "text"
      },
      "source": [
        "#### 3.3.2 读取数据集"
      ]
    },
    {
      "cell_type": "code",
      "metadata": {
        "id": "AePeITWPbUdh",
        "colab_type": "code",
        "colab": {}
      },
      "source": [
        "from mxnet.gluon import data as gdata\n",
        "\n",
        "batch_size = 10\n",
        "dataset = gdata.ArrayDataset(features,labels)\n",
        "data_iter = gdata.DataLoader(dataset,batch_size,shuffle=True)"
      ],
      "execution_count": 0,
      "outputs": []
    },
    {
      "cell_type": "code",
      "metadata": {
        "id": "JxH4_PJ005xO",
        "colab_type": "code",
        "colab": {
          "base_uri": "https://localhost:8080/",
          "height": 272
        },
        "outputId": "de4941a3-7143-4742-9236-ca8aaa98f6eb"
      },
      "source": [
        "for X, y in data_iter:\n",
        "  print(X, y)\n",
        "  break"
      ],
      "execution_count": 65,
      "outputs": [
        {
          "output_type": "stream",
          "text": [
            "\n",
            "[[ 4.3464705e-01  2.4984303e+00]\n",
            " [-5.9956771e-01 -1.4015976e+00]\n",
            " [-6.7451274e-01  1.8617520e+00]\n",
            " [-2.9797339e-01 -1.3338127e-03]\n",
            " [ 3.0817601e-01 -2.8621876e-01]\n",
            " [-4.1796544e-01 -2.6250750e-01]\n",
            " [ 7.3972321e-01  7.7318847e-01]\n",
            " [ 4.3154022e-01 -5.7483792e-01]\n",
            " [-5.9318021e-02  3.0793399e-01]\n",
            " [-1.3716810e+00  1.5890713e-01]]\n",
            "<NDArray 10x2 @cpu(0)> \n",
            "[-3.4174569   7.7603316  -3.476234    3.6180828   5.784286    4.266049\n",
            "  3.0614314   7.0192084   3.0366464   0.91547656]\n",
            "<NDArray 10 @cpu(0)>\n"
          ],
          "name": "stdout"
        }
      ]
    },
    {
      "cell_type": "markdown",
      "metadata": {
        "id": "XPmesXxT1yJ-",
        "colab_type": "text"
      },
      "source": [
        "#### 3.3.3 定义模型"
      ]
    },
    {
      "cell_type": "code",
      "metadata": {
        "id": "sq_fk14G0_0H",
        "colab_type": "code",
        "colab": {}
      },
      "source": [
        "from mxnet.gluon import nn\n",
        "\n",
        "net = nn.Sequential()\n",
        "net.add(nn.Dense(1))"
      ],
      "execution_count": 0,
      "outputs": []
    },
    {
      "cell_type": "markdown",
      "metadata": {
        "id": "Nw1yh3fy16kP",
        "colab_type": "text"
      },
      "source": [
        "#### 3.3.4 初始化模型参数"
      ]
    },
    {
      "cell_type": "code",
      "metadata": {
        "id": "kTRHg6kC1hue",
        "colab_type": "code",
        "colab": {}
      },
      "source": [
        "from mxnet import init\n",
        "\n",
        "net.initialize(init.Normal(sigma=0.01))"
      ],
      "execution_count": 0,
      "outputs": []
    },
    {
      "cell_type": "markdown",
      "metadata": {
        "id": "Rw7QY_DI7QBS",
        "colab_type": "text"
      },
      "source": [
        "#### 3.3.5 定义损失函数"
      ]
    },
    {
      "cell_type": "code",
      "metadata": {
        "id": "Lc9jN1GV2Izo",
        "colab_type": "code",
        "colab": {}
      },
      "source": [
        "from mxnet.gluon import loss as gloss\n",
        "\n",
        "loss = gloss.L2Loss() "
      ],
      "execution_count": 0,
      "outputs": []
    },
    {
      "cell_type": "markdown",
      "metadata": {
        "id": "VKIrHjdW7VFQ",
        "colab_type": "text"
      },
      "source": [
        "#### 3.3.6 定义优化算法"
      ]
    },
    {
      "cell_type": "code",
      "metadata": {
        "id": "7YIHvIq74PB2",
        "colab_type": "code",
        "colab": {}
      },
      "source": [
        "from mxnet import gluon\n",
        "\n",
        "trainer = gluon.Trainer(net.collect_params(),'sgd',{'learning_rate': 0.03})"
      ],
      "execution_count": 0,
      "outputs": []
    },
    {
      "cell_type": "markdown",
      "metadata": {
        "id": "7N73MFwX7bK-",
        "colab_type": "text"
      },
      "source": [
        "#### 3.3.7 训练模型"
      ]
    },
    {
      "cell_type": "code",
      "metadata": {
        "id": "lThiD6A-4tmD",
        "colab_type": "code",
        "colab": {
          "base_uri": "https://localhost:8080/",
          "height": 68
        },
        "outputId": "d9661c98-ee24-4e71-b062-ed57cb0e2168"
      },
      "source": [
        "num_epochs = 3\n",
        "\n",
        "for epoch in range(1,num_epochs + 1):\n",
        "  for X, y in data_iter:\n",
        "    with autograd.record():\n",
        "      l = loss(net(X), y)\n",
        "    l.backward()\n",
        "    trainer.step(batch_size)\n",
        "  l = loss(net(features), labels)\n",
        "  print('epoch: %d loss : %f' % (epoch, l.mean().asnumpy()))"
      ],
      "execution_count": 70,
      "outputs": [
        {
          "output_type": "stream",
          "text": [
            "epoch: 1 loss : 0.035500\n",
            "epoch: 2 loss : 0.000132\n",
            "epoch: 3 loss : 0.000052\n"
          ],
          "name": "stdout"
        }
      ]
    },
    {
      "cell_type": "markdown",
      "metadata": {
        "id": "HYydI_Y47i_b",
        "colab_type": "text"
      },
      "source": [
        "#### 3.3.8 模型对比"
      ]
    },
    {
      "cell_type": "code",
      "metadata": {
        "id": "OLm1oXXM5o0l",
        "colab_type": "code",
        "colab": {
          "base_uri": "https://localhost:8080/",
          "height": 68
        },
        "outputId": "a2d3930e-188a-4313-a556-f0fb9f367713"
      },
      "source": [
        "dense = net[0]\n",
        "true_w, dense.weight.data()"
      ],
      "execution_count": 71,
      "outputs": [
        {
          "output_type": "execute_result",
          "data": {
            "text/plain": [
              "([2, -3.4], \n",
              " [[ 2.0003386 -3.4007258]]\n",
              " <NDArray 1x2 @cpu(0)>)"
            ]
          },
          "metadata": {
            "tags": []
          },
          "execution_count": 71
        }
      ]
    },
    {
      "cell_type": "code",
      "metadata": {
        "id": "Xyosopho6rly",
        "colab_type": "code",
        "colab": {
          "base_uri": "https://localhost:8080/",
          "height": 68
        },
        "outputId": "02df1053-7a85-4f93-9cde-05120a082341"
      },
      "source": [
        "true_b, dense.bias.data()"
      ],
      "execution_count": 72,
      "outputs": [
        {
          "output_type": "execute_result",
          "data": {
            "text/plain": [
              "(4.2, \n",
              " [4.1996136]\n",
              " <NDArray 1 @cpu(0)>)"
            ]
          },
          "metadata": {
            "tags": []
          },
          "execution_count": 72
        }
      ]
    },
    {
      "cell_type": "code",
      "metadata": {
        "id": "q1N885Aw6ym2",
        "colab_type": "code",
        "colab": {}
      },
      "source": [
        ""
      ],
      "execution_count": 0,
      "outputs": []
    }
  ]
}