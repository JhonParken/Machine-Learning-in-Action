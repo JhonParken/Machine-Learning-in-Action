{
  "nbformat": 4,
  "nbformat_minor": 0,
  "metadata": {
    "colab": {
      "name": "02 预备知识.ipynb",
      "version": "0.3.2",
      "provenance": [],
      "collapsed_sections": [],
      "include_colab_link": true
    },
    "kernelspec": {
      "name": "python3",
      "display_name": "Python 3"
    },
    "accelerator": "GPU"
  },
  "cells": [
    {
      "cell_type": "markdown",
      "metadata": {
        "id": "view-in-github",
        "colab_type": "text"
      },
      "source": [
        "<a href=\"https://colab.research.google.com/github/JohnParken/Machine-Learning-in-Action/blob/master/02_%E9%A2%84%E5%A4%87%E7%9F%A5%E8%AF%86.ipynb\" target=\"_parent\"><img src=\"https://colab.research.google.com/assets/colab-badge.svg\" alt=\"Open In Colab\"/></a>"
      ]
    },
    {
      "cell_type": "code",
      "metadata": {
        "id": "3Roapdgj_iOd",
        "colab_type": "code",
        "colab": {}
      },
      "source": [
        ""
      ],
      "execution_count": 0,
      "outputs": []
    },
    {
      "cell_type": "code",
      "metadata": {
        "id": "mk-BRBzT_vbi",
        "colab_type": "code",
        "outputId": "25d1ba71-c44c-4a1f-ad9a-f766c6e00346",
        "colab": {
          "base_uri": "https://localhost:8080/",
          "height": 102
        }
      },
      "source": [
        "!sudo lsb_release -a"
      ],
      "execution_count": 0,
      "outputs": [
        {
          "output_type": "stream",
          "text": [
            "No LSB modules are available.\n",
            "Distributor ID:\tUbuntu\n",
            "Description:\tUbuntu 18.04.2 LTS\n",
            "Release:\t18.04\n",
            "Codename:\tbionic\n"
          ],
          "name": "stdout"
        }
      ]
    },
    {
      "cell_type": "code",
      "metadata": {
        "id": "-kaapSkHAS4V",
        "colab_type": "code",
        "colab": {}
      },
      "source": [
        "!pip install mxnet-cu100"
      ],
      "execution_count": 0,
      "outputs": []
    },
    {
      "cell_type": "markdown",
      "metadata": {
        "id": "D8N3BfinK3QD",
        "colab_type": "text"
      },
      "source": [
        "### 2.2数据操作"
      ]
    },
    {
      "cell_type": "markdown",
      "metadata": {
        "id": "ecTH2kcALBXM",
        "colab_type": "text"
      },
      "source": [
        "#### 2.1 创建NDArray"
      ]
    },
    {
      "cell_type": "code",
      "metadata": {
        "id": "HRO902yoBniL",
        "colab_type": "code",
        "colab": {}
      },
      "source": [
        "from mxnet import nd"
      ],
      "execution_count": 0,
      "outputs": []
    },
    {
      "cell_type": "code",
      "metadata": {
        "id": "NZJ9oUsNB_Kj",
        "colab_type": "code",
        "outputId": "aabf4191-6e5c-48f9-bb80-03e4d9a08cd8",
        "colab": {
          "base_uri": "https://localhost:8080/",
          "height": 68
        }
      },
      "source": [
        "x = nd.arange(12)\n",
        "x"
      ],
      "execution_count": 0,
      "outputs": [
        {
          "output_type": "execute_result",
          "data": {
            "text/plain": [
              "\n",
              "[ 0.  1.  2.  3.  4.  5.  6.  7.  8.  9. 10. 11.]\n",
              "<NDArray 12 @cpu(0)>"
            ]
          },
          "metadata": {
            "tags": []
          },
          "execution_count": 27
        }
      ]
    },
    {
      "cell_type": "code",
      "metadata": {
        "id": "gUUZ-Bt7CdtC",
        "colab_type": "code",
        "outputId": "3f3f410e-de36-4933-9637-bd0e2344db3d",
        "colab": {
          "base_uri": "https://localhost:8080/",
          "height": 34
        }
      },
      "source": [
        "x.shape"
      ],
      "execution_count": 0,
      "outputs": [
        {
          "output_type": "execute_result",
          "data": {
            "text/plain": [
              "(12,)"
            ]
          },
          "metadata": {
            "tags": []
          },
          "execution_count": 28
        }
      ]
    },
    {
      "cell_type": "code",
      "metadata": {
        "id": "o3Mv-VOzDNpE",
        "colab_type": "code",
        "outputId": "98e44dd0-d238-4391-eaaf-e1c1278fecf7",
        "colab": {
          "base_uri": "https://localhost:8080/",
          "height": 34
        }
      },
      "source": [
        "x.size"
      ],
      "execution_count": 0,
      "outputs": [
        {
          "output_type": "execute_result",
          "data": {
            "text/plain": [
              "12"
            ]
          },
          "metadata": {
            "tags": []
          },
          "execution_count": 29
        }
      ]
    },
    {
      "cell_type": "code",
      "metadata": {
        "id": "zx6zmp0gDP9R",
        "colab_type": "code",
        "outputId": "a932815b-fe7a-4ca4-c884-545531cb8d15",
        "colab": {
          "base_uri": "https://localhost:8080/",
          "height": 102
        }
      },
      "source": [
        "X = x.reshape(-1,4)\n",
        "X"
      ],
      "execution_count": 0,
      "outputs": [
        {
          "output_type": "execute_result",
          "data": {
            "text/plain": [
              "\n",
              "[[ 0.  1.  2.  3.]\n",
              " [ 4.  5.  6.  7.]\n",
              " [ 8.  9. 10. 11.]]\n",
              "<NDArray 3x4 @cpu(0)>"
            ]
          },
          "metadata": {
            "tags": []
          },
          "execution_count": 30
        }
      ]
    },
    {
      "cell_type": "code",
      "metadata": {
        "id": "Dx9psF-pDUVX",
        "colab_type": "code",
        "outputId": "cded4ac6-e99e-4707-91c4-38c39a367c4d",
        "colab": {
          "base_uri": "https://localhost:8080/",
          "height": 170
        }
      },
      "source": [
        "nd.zeros((2,3,4))"
      ],
      "execution_count": 0,
      "outputs": [
        {
          "output_type": "execute_result",
          "data": {
            "text/plain": [
              "\n",
              "[[[0. 0. 0. 0.]\n",
              "  [0. 0. 0. 0.]\n",
              "  [0. 0. 0. 0.]]\n",
              "\n",
              " [[0. 0. 0. 0.]\n",
              "  [0. 0. 0. 0.]\n",
              "  [0. 0. 0. 0.]]]\n",
              "<NDArray 2x3x4 @cpu(0)>"
            ]
          },
          "metadata": {
            "tags": []
          },
          "execution_count": 31
        }
      ]
    },
    {
      "cell_type": "code",
      "metadata": {
        "id": "jzVglYT5DkhM",
        "colab_type": "code",
        "outputId": "ec209f03-8598-436e-9965-eac9d8cd3724",
        "colab": {
          "base_uri": "https://localhost:8080/",
          "height": 102
        }
      },
      "source": [
        "nd.ones((3,4))"
      ],
      "execution_count": 0,
      "outputs": [
        {
          "output_type": "execute_result",
          "data": {
            "text/plain": [
              "\n",
              "[[1. 1. 1. 1.]\n",
              " [1. 1. 1. 1.]\n",
              " [1. 1. 1. 1.]]\n",
              "<NDArray 3x4 @cpu(0)>"
            ]
          },
          "metadata": {
            "tags": []
          },
          "execution_count": 32
        }
      ]
    },
    {
      "cell_type": "code",
      "metadata": {
        "id": "aV62gFSlDuP3",
        "colab_type": "code",
        "outputId": "c59c68a3-a5e7-47a9-e4a7-e7c983725020",
        "colab": {
          "base_uri": "https://localhost:8080/",
          "height": 102
        }
      },
      "source": [
        "Y = nd.array([[2,3,4,5],[0,1,2,3],[0,1,2,3]])\n",
        "Y"
      ],
      "execution_count": 0,
      "outputs": [
        {
          "output_type": "execute_result",
          "data": {
            "text/plain": [
              "\n",
              "[[2. 3. 4. 5.]\n",
              " [0. 1. 2. 3.]\n",
              " [0. 1. 2. 3.]]\n",
              "<NDArray 3x4 @cpu(0)>"
            ]
          },
          "metadata": {
            "tags": []
          },
          "execution_count": 36
        }
      ]
    },
    {
      "cell_type": "code",
      "metadata": {
        "id": "hlPUo8hoD80T",
        "colab_type": "code",
        "outputId": "9ba73757-35c7-4439-8a9a-cea2f933b65d",
        "colab": {
          "base_uri": "https://localhost:8080/",
          "height": 102
        }
      },
      "source": [
        "nd.random.normal(0,1,shape=(3,4))"
      ],
      "execution_count": 0,
      "outputs": [
        {
          "output_type": "execute_result",
          "data": {
            "text/plain": [
              "\n",
              "[[-0.9712193  -0.58256227  0.3717077   0.9300072 ]\n",
              " [-1.4225755  -0.5176199   2.0088325   0.2863085 ]\n",
              " [ 0.5604595   0.96975976 -0.52853745 -1.88909   ]]\n",
              "<NDArray 3x4 @cpu(0)>"
            ]
          },
          "metadata": {
            "tags": []
          },
          "execution_count": 34
        }
      ]
    },
    {
      "cell_type": "markdown",
      "metadata": {
        "id": "XL3SdXmsLI75",
        "colab_type": "text"
      },
      "source": [
        "#### 2.2.2 运算"
      ]
    },
    {
      "cell_type": "code",
      "metadata": {
        "id": "OJ4FTcjLEHhS",
        "colab_type": "code",
        "outputId": "93caa846-c709-40e7-d6a8-b52af7c8d170",
        "colab": {
          "base_uri": "https://localhost:8080/",
          "height": 102
        }
      },
      "source": [
        "X + Y"
      ],
      "execution_count": 0,
      "outputs": [
        {
          "output_type": "execute_result",
          "data": {
            "text/plain": [
              "\n",
              "[[ 2.  4.  6.  8.]\n",
              " [ 4.  6.  8. 10.]\n",
              " [ 8. 10. 12. 14.]]\n",
              "<NDArray 3x4 @cpu(0)>"
            ]
          },
          "metadata": {
            "tags": []
          },
          "execution_count": 37
        }
      ]
    },
    {
      "cell_type": "code",
      "metadata": {
        "id": "ZMlta7_NEYip",
        "colab_type": "code",
        "outputId": "b76c8d17-b893-4d4b-a787-2bdf8aaad474",
        "colab": {
          "base_uri": "https://localhost:8080/",
          "height": 102
        }
      },
      "source": [
        "X / Y"
      ],
      "execution_count": 0,
      "outputs": [
        {
          "output_type": "execute_result",
          "data": {
            "text/plain": [
              "\n",
              "[[0.         0.33333334 0.5        0.6       ]\n",
              " [       inf 5.         3.         2.3333333 ]\n",
              " [       inf 9.         5.         3.6666667 ]]\n",
              "<NDArray 3x4 @cpu(0)>"
            ]
          },
          "metadata": {
            "tags": []
          },
          "execution_count": 38
        }
      ]
    },
    {
      "cell_type": "code",
      "metadata": {
        "id": "NJBkbBdcE4Nd",
        "colab_type": "code",
        "outputId": "cfd8684c-c799-48c2-ef3c-adae42eb5380",
        "colab": {
          "base_uri": "https://localhost:8080/",
          "height": 102
        }
      },
      "source": [
        "X * Y"
      ],
      "execution_count": 0,
      "outputs": [
        {
          "output_type": "execute_result",
          "data": {
            "text/plain": [
              "\n",
              "[[ 0.  3.  8. 15.]\n",
              " [ 0.  5. 12. 21.]\n",
              " [ 0.  9. 20. 33.]]\n",
              "<NDArray 3x4 @cpu(0)>"
            ]
          },
          "metadata": {
            "tags": []
          },
          "execution_count": 39
        }
      ]
    },
    {
      "cell_type": "code",
      "metadata": {
        "id": "zJhmGLqNE9Rl",
        "colab_type": "code",
        "outputId": "eca79c52-682f-4ca6-e2b2-5a0f7ef84161",
        "colab": {
          "base_uri": "https://localhost:8080/",
          "height": 102
        }
      },
      "source": [
        "Y.exp()"
      ],
      "execution_count": 0,
      "outputs": [
        {
          "output_type": "execute_result",
          "data": {
            "text/plain": [
              "\n",
              "[[  7.389056   20.085537   54.59815   148.41316  ]\n",
              " [  1.          2.7182817   7.389056   20.085537 ]\n",
              " [  1.          2.7182817   7.389056   20.085537 ]]\n",
              "<NDArray 3x4 @cpu(0)>"
            ]
          },
          "metadata": {
            "tags": []
          },
          "execution_count": 40
        }
      ]
    },
    {
      "cell_type": "code",
      "metadata": {
        "id": "Ru2X8XZOFAQQ",
        "colab_type": "code",
        "outputId": "6859b9ff-86a4-41db-c500-efc6196c0e9f",
        "colab": {
          "base_uri": "https://localhost:8080/",
          "height": 102
        }
      },
      "source": [
        "nd.dot(X,Y.T)"
      ],
      "execution_count": 0,
      "outputs": [
        {
          "output_type": "execute_result",
          "data": {
            "text/plain": [
              "\n",
              "[[ 26.  14.  14.]\n",
              " [ 82.  38.  38.]\n",
              " [138.  62.  62.]]\n",
              "<NDArray 3x3 @cpu(0)>"
            ]
          },
          "metadata": {
            "tags": []
          },
          "execution_count": 41
        }
      ]
    },
    {
      "cell_type": "code",
      "metadata": {
        "id": "NG5Hh-TdFRdc",
        "colab_type": "code",
        "outputId": "62e54124-14f8-4f55-b796-43a03532b468",
        "colab": {
          "base_uri": "https://localhost:8080/",
          "height": 221
        }
      },
      "source": [
        "nd.concat(X, Y, dim=0), nd.concat(X, Y, dim=1)"
      ],
      "execution_count": 0,
      "outputs": [
        {
          "output_type": "execute_result",
          "data": {
            "text/plain": [
              "(\n",
              " [[ 0.  1.  2.  3.]\n",
              "  [ 4.  5.  6.  7.]\n",
              "  [ 8.  9. 10. 11.]\n",
              "  [ 2.  3.  4.  5.]\n",
              "  [ 0.  1.  2.  3.]\n",
              "  [ 0.  1.  2.  3.]]\n",
              " <NDArray 6x4 @cpu(0)>, \n",
              " [[ 0.  1.  2.  3.  2.  3.  4.  5.]\n",
              "  [ 4.  5.  6.  7.  0.  1.  2.  3.]\n",
              "  [ 8.  9. 10. 11.  0.  1.  2.  3.]]\n",
              " <NDArray 3x8 @cpu(0)>)"
            ]
          },
          "metadata": {
            "tags": []
          },
          "execution_count": 44
        }
      ]
    },
    {
      "cell_type": "code",
      "metadata": {
        "id": "GaIiS0I_HGcg",
        "colab_type": "code",
        "outputId": "c09a7518-0097-491b-ff8d-6dfb03d41194",
        "colab": {
          "base_uri": "https://localhost:8080/",
          "height": 102
        }
      },
      "source": [
        "X == Y"
      ],
      "execution_count": 0,
      "outputs": [
        {
          "output_type": "execute_result",
          "data": {
            "text/plain": [
              "\n",
              "[[0. 0. 0. 0.]\n",
              " [0. 0. 0. 0.]\n",
              " [0. 0. 0. 0.]]\n",
              "<NDArray 3x4 @cpu(0)>"
            ]
          },
          "metadata": {
            "tags": []
          },
          "execution_count": 45
        }
      ]
    },
    {
      "cell_type": "code",
      "metadata": {
        "id": "YSnK7hPvHSC_",
        "colab_type": "code",
        "outputId": "f8cad016-9e8f-413f-8e6a-447c6a18dbde",
        "colab": {
          "base_uri": "https://localhost:8080/",
          "height": 68
        }
      },
      "source": [
        "X.sum()"
      ],
      "execution_count": 0,
      "outputs": [
        {
          "output_type": "execute_result",
          "data": {
            "text/plain": [
              "\n",
              "[66.]\n",
              "<NDArray 1 @cpu(0)>"
            ]
          },
          "metadata": {
            "tags": []
          },
          "execution_count": 46
        }
      ]
    },
    {
      "cell_type": "code",
      "metadata": {
        "id": "cmHT4CObHWSb",
        "colab_type": "code",
        "outputId": "a4dfd00a-c8ae-4ca8-92fb-5e7edd470b75",
        "colab": {
          "base_uri": "https://localhost:8080/",
          "height": 34
        }
      },
      "source": [
        "# x的L2范数标量\n",
        "X.norm().asscalar() "
      ],
      "execution_count": 0,
      "outputs": [
        {
          "output_type": "execute_result",
          "data": {
            "text/plain": [
              "22.494442"
            ]
          },
          "metadata": {
            "tags": []
          },
          "execution_count": 48
        }
      ]
    },
    {
      "cell_type": "markdown",
      "metadata": {
        "id": "pUk8t-mELT79",
        "colab_type": "text"
      },
      "source": [
        "#### 2.2.3 广播机制"
      ]
    },
    {
      "cell_type": "code",
      "metadata": {
        "id": "ZMHjfYvsHhvz",
        "colab_type": "code",
        "outputId": "68e2e641-fadc-4d62-cff9-f9351f25eb6a",
        "colab": {
          "base_uri": "https://localhost:8080/",
          "height": 136
        }
      },
      "source": [
        "A = nd.arange(3).reshape(3,-1)\n",
        "B = nd.arange(2).reshape(-1,2)\n",
        "A,B"
      ],
      "execution_count": 0,
      "outputs": [
        {
          "output_type": "execute_result",
          "data": {
            "text/plain": [
              "(\n",
              " [[0.]\n",
              "  [1.]\n",
              "  [2.]]\n",
              " <NDArray 3x1 @cpu(0)>, \n",
              " [[0. 1.]]\n",
              " <NDArray 1x2 @cpu(0)>)"
            ]
          },
          "metadata": {
            "tags": []
          },
          "execution_count": 50
        }
      ]
    },
    {
      "cell_type": "code",
      "metadata": {
        "id": "McceRSMGIGQt",
        "colab_type": "code",
        "outputId": "0ba871db-75ba-49f3-c020-d1bac9fa9710",
        "colab": {
          "base_uri": "https://localhost:8080/",
          "height": 102
        }
      },
      "source": [
        "A+B"
      ],
      "execution_count": 0,
      "outputs": [
        {
          "output_type": "execute_result",
          "data": {
            "text/plain": [
              "\n",
              "[[0. 1.]\n",
              " [1. 2.]\n",
              " [2. 3.]]\n",
              "<NDArray 3x2 @cpu(0)>"
            ]
          },
          "metadata": {
            "tags": []
          },
          "execution_count": 51
        }
      ]
    },
    {
      "cell_type": "markdown",
      "metadata": {
        "id": "8hxPG_0nLemY",
        "colab_type": "text"
      },
      "source": [
        "#### 2.2.4 索引"
      ]
    },
    {
      "cell_type": "code",
      "metadata": {
        "id": "EX6VFcyWILWt",
        "colab_type": "code",
        "outputId": "42a85fe7-cbc0-48b6-9b70-cab1b7a720f2",
        "colab": {
          "base_uri": "https://localhost:8080/",
          "height": 85
        }
      },
      "source": [
        "X[1:3]"
      ],
      "execution_count": 0,
      "outputs": [
        {
          "output_type": "execute_result",
          "data": {
            "text/plain": [
              "\n",
              "[[ 4.  5.  6.  7.]\n",
              " [ 8.  9. 10. 11.]]\n",
              "<NDArray 2x4 @cpu(0)>"
            ]
          },
          "metadata": {
            "tags": []
          },
          "execution_count": 52
        }
      ]
    },
    {
      "cell_type": "code",
      "metadata": {
        "id": "UQIp1qVhIcwx",
        "colab_type": "code",
        "outputId": "d6875e98-9850-4adf-f0f9-31086d13942a",
        "colab": {
          "base_uri": "https://localhost:8080/",
          "height": 102
        }
      },
      "source": [
        "X[1,2] = 9\n",
        "X"
      ],
      "execution_count": 0,
      "outputs": [
        {
          "output_type": "execute_result",
          "data": {
            "text/plain": [
              "\n",
              "[[ 0.  1.  2.  3.]\n",
              " [ 4.  5.  9.  7.]\n",
              " [ 8.  9. 10. 11.]]\n",
              "<NDArray 3x4 @cpu(0)>"
            ]
          },
          "metadata": {
            "tags": []
          },
          "execution_count": 53
        }
      ]
    },
    {
      "cell_type": "code",
      "metadata": {
        "id": "EdO6pS-3IjeR",
        "colab_type": "code",
        "outputId": "0dee8c24-9c48-4c1b-b9f4-3c0e0a2752e6",
        "colab": {
          "base_uri": "https://localhost:8080/",
          "height": 102
        }
      },
      "source": [
        "X[1:2,:] = 12\n",
        "X"
      ],
      "execution_count": 0,
      "outputs": [
        {
          "output_type": "execute_result",
          "data": {
            "text/plain": [
              "\n",
              "[[ 0.  1.  2.  3.]\n",
              " [12. 12. 12. 12.]\n",
              " [ 8.  9. 10. 11.]]\n",
              "<NDArray 3x4 @cpu(0)>"
            ]
          },
          "metadata": {
            "tags": []
          },
          "execution_count": 54
        }
      ]
    },
    {
      "cell_type": "markdown",
      "metadata": {
        "id": "ICQst41SLlK0",
        "colab_type": "text"
      },
      "source": [
        "#### 2.2.5 运算的内存开销"
      ]
    },
    {
      "cell_type": "code",
      "metadata": {
        "id": "wQDXruVZIwGM",
        "colab_type": "code",
        "outputId": "6ee81360-e1ce-406b-d257-81c6bf90fcfc",
        "colab": {
          "base_uri": "https://localhost:8080/",
          "height": 34
        }
      },
      "source": [
        "# 运算的内存开销\n",
        "before = id(Y)\n",
        "Y = Y + X\n",
        "id(Y) == before"
      ],
      "execution_count": 0,
      "outputs": [
        {
          "output_type": "execute_result",
          "data": {
            "text/plain": [
              "False"
            ]
          },
          "metadata": {
            "tags": []
          },
          "execution_count": 55
        }
      ]
    },
    {
      "cell_type": "code",
      "metadata": {
        "id": "70flkNnMJbvP",
        "colab_type": "code",
        "outputId": "6251caca-0a4a-4cef-fe3b-fe727ec2cb79",
        "colab": {
          "base_uri": "https://localhost:8080/",
          "height": 34
        }
      },
      "source": [
        "Z = Y.zeros_like()\n",
        "before = id(Z)\n",
        "Z[:] = X + Y\n",
        "id(Z) == before"
      ],
      "execution_count": 0,
      "outputs": [
        {
          "output_type": "execute_result",
          "data": {
            "text/plain": [
              "True"
            ]
          },
          "metadata": {
            "tags": []
          },
          "execution_count": 56
        }
      ]
    },
    {
      "cell_type": "markdown",
      "metadata": {
        "id": "NGpckADxLsMj",
        "colab_type": "text"
      },
      "source": [
        "#### 2.2.6 NDArray和NumPy相互转换"
      ]
    },
    {
      "cell_type": "code",
      "metadata": {
        "id": "PIyMW_PXKmlx",
        "colab_type": "code",
        "colab": {}
      },
      "source": [
        "import numpy as np"
      ],
      "execution_count": 0,
      "outputs": []
    },
    {
      "cell_type": "code",
      "metadata": {
        "id": "xaA9gY3-L_Fh",
        "colab_type": "code",
        "outputId": "cb91ef44-ea25-4b06-d16c-c49838c8f892",
        "colab": {
          "base_uri": "https://localhost:8080/",
          "height": 85
        }
      },
      "source": [
        "P = np.ones((2,3))\n",
        "D = nd.array(P)\n",
        "D"
      ],
      "execution_count": 0,
      "outputs": [
        {
          "output_type": "execute_result",
          "data": {
            "text/plain": [
              "\n",
              "[[1. 1. 1.]\n",
              " [1. 1. 1.]]\n",
              "<NDArray 2x3 @cpu(0)>"
            ]
          },
          "metadata": {
            "tags": []
          },
          "execution_count": 59
        }
      ]
    },
    {
      "cell_type": "code",
      "metadata": {
        "id": "w_QJLFxnMG-Z",
        "colab_type": "code",
        "outputId": "83667f6b-8b0f-4d96-83f2-95973554c0d1",
        "colab": {
          "base_uri": "https://localhost:8080/",
          "height": 51
        }
      },
      "source": [
        "D.asnumpy()"
      ],
      "execution_count": 0,
      "outputs": [
        {
          "output_type": "execute_result",
          "data": {
            "text/plain": [
              "array([[1., 1., 1.],\n",
              "       [1., 1., 1.]], dtype=float32)"
            ]
          },
          "metadata": {
            "tags": []
          },
          "execution_count": 60
        }
      ]
    },
    {
      "cell_type": "markdown",
      "metadata": {
        "id": "qMAvE8w8MeJW",
        "colab_type": "text"
      },
      "source": [
        "#### 练习1"
      ]
    },
    {
      "cell_type": "code",
      "metadata": {
        "id": "oD6wQp9ZMRvE",
        "colab_type": "code",
        "outputId": "4e6b97be-515c-4bb5-846f-8a919d8668e0",
        "colab": {
          "base_uri": "https://localhost:8080/",
          "height": 102
        }
      },
      "source": [
        "X > Y"
      ],
      "execution_count": 0,
      "outputs": [
        {
          "output_type": "execute_result",
          "data": {
            "text/plain": [
              "\n",
              "[[0. 0. 0. 0.]\n",
              " [0. 0. 0. 0.]\n",
              " [0. 0. 0. 0.]]\n",
              "<NDArray 3x4 @cpu(0)>"
            ]
          },
          "metadata": {
            "tags": []
          },
          "execution_count": 61
        }
      ]
    },
    {
      "cell_type": "code",
      "metadata": {
        "id": "IiXioXi1MV2y",
        "colab_type": "code",
        "outputId": "0db76a11-9d60-434d-9fba-00733a818570",
        "colab": {
          "base_uri": "https://localhost:8080/",
          "height": 102
        }
      },
      "source": [
        "X < Y"
      ],
      "execution_count": 0,
      "outputs": [
        {
          "output_type": "execute_result",
          "data": {
            "text/plain": [
              "\n",
              "[[1. 1. 1. 1.]\n",
              " [0. 1. 1. 1.]\n",
              " [0. 1. 1. 1.]]\n",
              "<NDArray 3x4 @cpu(0)>"
            ]
          },
          "metadata": {
            "tags": []
          },
          "execution_count": 62
        }
      ]
    },
    {
      "cell_type": "markdown",
      "metadata": {
        "id": "lhKFodkFNWJU",
        "colab_type": "text"
      },
      "source": [
        "#### 练习2\n",
        "只有当其中一个矩阵是n*1的时候才能广播"
      ]
    },
    {
      "cell_type": "code",
      "metadata": {
        "id": "9apAjabYMYWF",
        "colab_type": "code",
        "outputId": "99597e8f-1921-4fa9-ce6c-a9a4afc380f6",
        "colab": {
          "base_uri": "https://localhost:8080/",
          "height": 153
        }
      },
      "source": [
        "C = nd.arange(6).reshape(6,-1)\n",
        "C"
      ],
      "execution_count": 0,
      "outputs": [
        {
          "output_type": "execute_result",
          "data": {
            "text/plain": [
              "\n",
              "[[0.]\n",
              " [1.]\n",
              " [2.]\n",
              " [3.]\n",
              " [4.]\n",
              " [5.]]\n",
              "<NDArray 6x1 @cpu(0)>"
            ]
          },
          "metadata": {
            "tags": []
          },
          "execution_count": 73
        }
      ]
    },
    {
      "cell_type": "code",
      "metadata": {
        "id": "nDYKo-J8MxQ7",
        "colab_type": "code",
        "outputId": "cf829cbb-0327-4c6d-9da9-c0f87d7eff79",
        "colab": {
          "base_uri": "https://localhost:8080/",
          "height": 68
        }
      },
      "source": [
        "D = nd.arange(4).reshape(1,4)\n",
        "D"
      ],
      "execution_count": 0,
      "outputs": [
        {
          "output_type": "execute_result",
          "data": {
            "text/plain": [
              "\n",
              "[[0. 1. 2. 3.]]\n",
              "<NDArray 1x4 @cpu(0)>"
            ]
          },
          "metadata": {
            "tags": []
          },
          "execution_count": 74
        }
      ]
    },
    {
      "cell_type": "code",
      "metadata": {
        "id": "B1aYbLBMM8qr",
        "colab_type": "code",
        "outputId": "bd8dcd2c-5945-43e4-ac94-3322f13f7835",
        "colab": {
          "base_uri": "https://localhost:8080/",
          "height": 153
        }
      },
      "source": [
        "C + D"
      ],
      "execution_count": 0,
      "outputs": [
        {
          "output_type": "execute_result",
          "data": {
            "text/plain": [
              "\n",
              "[[0. 1. 2. 3.]\n",
              " [1. 2. 3. 4.]\n",
              " [2. 3. 4. 5.]\n",
              " [3. 4. 5. 6.]\n",
              " [4. 5. 6. 7.]\n",
              " [5. 6. 7. 8.]]\n",
              "<NDArray 6x4 @cpu(0)>"
            ]
          },
          "metadata": {
            "tags": []
          },
          "execution_count": 75
        }
      ]
    },
    {
      "cell_type": "markdown",
      "metadata": {
        "id": "PB3Eu9dSN7uk",
        "colab_type": "text"
      },
      "source": [
        "### 2.3 自动求梯度"
      ]
    },
    {
      "cell_type": "markdown",
      "metadata": {
        "id": "rUOSAG3fOBRv",
        "colab_type": "text"
      },
      "source": [
        "#### 2.3.1 简单例子"
      ]
    },
    {
      "cell_type": "code",
      "metadata": {
        "id": "GxHq_NEANAY8",
        "colab_type": "code",
        "colab": {}
      },
      "source": [
        "from mxnet import autograd, nd"
      ],
      "execution_count": 0,
      "outputs": []
    },
    {
      "cell_type": "code",
      "metadata": {
        "id": "_jdt2WV9OThg",
        "colab_type": "code",
        "outputId": "57611607-d4e5-4b9f-c342-db8e263791cf",
        "colab": {
          "base_uri": "https://localhost:8080/",
          "height": 119
        }
      },
      "source": [
        "x = nd.arange(4).reshape(4,1)\n",
        "x"
      ],
      "execution_count": 0,
      "outputs": [
        {
          "output_type": "execute_result",
          "data": {
            "text/plain": [
              "\n",
              "[[0.]\n",
              " [1.]\n",
              " [2.]\n",
              " [3.]]\n",
              "<NDArray 4x1 @cpu(0)>"
            ]
          },
          "metadata": {
            "tags": []
          },
          "execution_count": 77
        }
      ]
    },
    {
      "cell_type": "code",
      "metadata": {
        "id": "bMRA-EDjOq0n",
        "colab_type": "code",
        "colab": {}
      },
      "source": [
        "x.attach_grad()"
      ],
      "execution_count": 0,
      "outputs": []
    },
    {
      "cell_type": "code",
      "metadata": {
        "id": "1Gab4kRKO7GH",
        "colab_type": "code",
        "colab": {}
      },
      "source": [
        "with autograd.record():\n",
        "  y = 2 * nd.dot(x.T,x)"
      ],
      "execution_count": 0,
      "outputs": []
    },
    {
      "cell_type": "code",
      "metadata": {
        "id": "H_p8dPZyPDjC",
        "colab_type": "code",
        "colab": {}
      },
      "source": [
        "y.backward()"
      ],
      "execution_count": 0,
      "outputs": []
    },
    {
      "cell_type": "code",
      "metadata": {
        "id": "Pnlja62pPU8u",
        "colab_type": "code",
        "outputId": "4b1080a4-78c6-4b6c-c1b2-003259694b24",
        "colab": {
          "base_uri": "https://localhost:8080/",
          "height": 119
        }
      },
      "source": [
        "assert (x.grad - 4*x).norm().asscalar() == 0\n",
        "x.grad"
      ],
      "execution_count": 0,
      "outputs": [
        {
          "output_type": "execute_result",
          "data": {
            "text/plain": [
              "\n",
              "[[ 0.]\n",
              " [ 4.]\n",
              " [ 8.]\n",
              " [12.]]\n",
              "<NDArray 4x1 @cpu(0)>"
            ]
          },
          "metadata": {
            "tags": []
          },
          "execution_count": 85
        }
      ]
    },
    {
      "cell_type": "markdown",
      "metadata": {
        "id": "AblPEtMwRA0g",
        "colab_type": "text"
      },
      "source": [
        "#### 2.3.2 训练模式和预测模式"
      ]
    },
    {
      "cell_type": "code",
      "metadata": {
        "id": "3l7fZu5KPpMp",
        "colab_type": "code",
        "outputId": "990f2086-2f59-490e-fa01-c60b61fe9312",
        "colab": {
          "base_uri": "https://localhost:8080/",
          "height": 51
        }
      },
      "source": [
        "print(autograd.is_training())\n",
        "with autograd.record():\n",
        "  print(autograd.is_training())"
      ],
      "execution_count": 0,
      "outputs": [
        {
          "output_type": "stream",
          "text": [
            "False\n",
            "True\n"
          ],
          "name": "stdout"
        }
      ]
    },
    {
      "cell_type": "code",
      "metadata": {
        "id": "XHDwliarQs-7",
        "colab_type": "code",
        "colab": {}
      },
      "source": [
        "def f(a):\n",
        "  b = a * 2\n",
        "  while b.norm().asscalar() < 1000:\n",
        "    b = b *2\n",
        "  if b.sum().asscalar() > 0:\n",
        "    c = b\n",
        "  else:\n",
        "    c = 100 * b\n",
        "  return c"
      ],
      "execution_count": 0,
      "outputs": []
    },
    {
      "cell_type": "code",
      "metadata": {
        "id": "iXsQ3JA3RxDM",
        "colab_type": "code",
        "colab": {}
      },
      "source": [
        "a = nd.random.normal(shape=1)\n",
        "a.attach_grad()\n",
        "with autograd.record():\n",
        "  c = f(a)\n",
        "c.backward()"
      ],
      "execution_count": 0,
      "outputs": []
    },
    {
      "cell_type": "code",
      "metadata": {
        "id": "349NzEGfSnrD",
        "colab_type": "code",
        "outputId": "9678357d-ca59-42f5-b028-3f04a90b4f08",
        "colab": {
          "base_uri": "https://localhost:8080/",
          "height": 68
        }
      },
      "source": [
        "a.grad == c / a"
      ],
      "execution_count": 0,
      "outputs": [
        {
          "output_type": "execute_result",
          "data": {
            "text/plain": [
              "\n",
              "[1.]\n",
              "<NDArray 1 @cpu(0)>"
            ]
          },
          "metadata": {
            "tags": []
          },
          "execution_count": 101
        }
      ]
    },
    {
      "cell_type": "code",
      "metadata": {
        "id": "DhCIO3UTS2hL",
        "colab_type": "code",
        "colab": {}
      },
      "source": [
        ""
      ],
      "execution_count": 0,
      "outputs": []
    }
  ]
}